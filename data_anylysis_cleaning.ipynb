{
 "cells": [
  {
   "cell_type": "markdown",
   "metadata": {},
   "source": [
    "## Data analysis and cleaning"
   ]
  },
  {
   "cell_type": "code",
   "execution_count": 95,
   "metadata": {},
   "outputs": [],
   "source": [
    "import numpy as np\n",
    "import pandas as pd\n",
    "import seaborn as sns\n",
    "from sklearn.preprocessing import LabelEncoder"
   ]
  },
  {
   "cell_type": "code",
   "execution_count": 96,
   "metadata": {},
   "outputs": [
    {
     "data": {
      "text/html": [
       "<div>\n",
       "<style scoped>\n",
       "    .dataframe tbody tr th:only-of-type {\n",
       "        vertical-align: middle;\n",
       "    }\n",
       "\n",
       "    .dataframe tbody tr th {\n",
       "        vertical-align: top;\n",
       "    }\n",
       "\n",
       "    .dataframe thead th {\n",
       "        text-align: right;\n",
       "    }\n",
       "</style>\n",
       "<table border=\"1\" class=\"dataframe\">\n",
       "  <thead>\n",
       "    <tr style=\"text-align: right;\">\n",
       "      <th></th>\n",
       "      <th>Date</th>\n",
       "      <th>Location</th>\n",
       "      <th>MinTemp</th>\n",
       "      <th>MaxTemp</th>\n",
       "      <th>Rainfall</th>\n",
       "      <th>Evaporation</th>\n",
       "      <th>Sunshine</th>\n",
       "      <th>WindGustDir</th>\n",
       "      <th>WindGustSpeed</th>\n",
       "      <th>WindDir9am</th>\n",
       "      <th>...</th>\n",
       "      <th>Humidity3pm</th>\n",
       "      <th>Pressure9am</th>\n",
       "      <th>Pressure3pm</th>\n",
       "      <th>Cloud9am</th>\n",
       "      <th>Cloud3pm</th>\n",
       "      <th>Temp9am</th>\n",
       "      <th>Temp3pm</th>\n",
       "      <th>RainToday</th>\n",
       "      <th>RISK_MM</th>\n",
       "      <th>RainTomorrow</th>\n",
       "    </tr>\n",
       "  </thead>\n",
       "  <tbody>\n",
       "    <tr>\n",
       "      <th>0</th>\n",
       "      <td>2008-12-01</td>\n",
       "      <td>Albury</td>\n",
       "      <td>13.4</td>\n",
       "      <td>22.9</td>\n",
       "      <td>0.6</td>\n",
       "      <td>NaN</td>\n",
       "      <td>NaN</td>\n",
       "      <td>W</td>\n",
       "      <td>44.0</td>\n",
       "      <td>W</td>\n",
       "      <td>...</td>\n",
       "      <td>22.0</td>\n",
       "      <td>1007.7</td>\n",
       "      <td>1007.1</td>\n",
       "      <td>8.0</td>\n",
       "      <td>NaN</td>\n",
       "      <td>16.9</td>\n",
       "      <td>21.8</td>\n",
       "      <td>No</td>\n",
       "      <td>0.0</td>\n",
       "      <td>No</td>\n",
       "    </tr>\n",
       "    <tr>\n",
       "      <th>1</th>\n",
       "      <td>2008-12-02</td>\n",
       "      <td>Albury</td>\n",
       "      <td>7.4</td>\n",
       "      <td>25.1</td>\n",
       "      <td>0.0</td>\n",
       "      <td>NaN</td>\n",
       "      <td>NaN</td>\n",
       "      <td>WNW</td>\n",
       "      <td>44.0</td>\n",
       "      <td>NNW</td>\n",
       "      <td>...</td>\n",
       "      <td>25.0</td>\n",
       "      <td>1010.6</td>\n",
       "      <td>1007.8</td>\n",
       "      <td>NaN</td>\n",
       "      <td>NaN</td>\n",
       "      <td>17.2</td>\n",
       "      <td>24.3</td>\n",
       "      <td>No</td>\n",
       "      <td>0.0</td>\n",
       "      <td>No</td>\n",
       "    </tr>\n",
       "    <tr>\n",
       "      <th>2</th>\n",
       "      <td>2008-12-03</td>\n",
       "      <td>Albury</td>\n",
       "      <td>12.9</td>\n",
       "      <td>25.7</td>\n",
       "      <td>0.0</td>\n",
       "      <td>NaN</td>\n",
       "      <td>NaN</td>\n",
       "      <td>WSW</td>\n",
       "      <td>46.0</td>\n",
       "      <td>W</td>\n",
       "      <td>...</td>\n",
       "      <td>30.0</td>\n",
       "      <td>1007.6</td>\n",
       "      <td>1008.7</td>\n",
       "      <td>NaN</td>\n",
       "      <td>2.0</td>\n",
       "      <td>21.0</td>\n",
       "      <td>23.2</td>\n",
       "      <td>No</td>\n",
       "      <td>0.0</td>\n",
       "      <td>No</td>\n",
       "    </tr>\n",
       "    <tr>\n",
       "      <th>3</th>\n",
       "      <td>2008-12-04</td>\n",
       "      <td>Albury</td>\n",
       "      <td>9.2</td>\n",
       "      <td>28.0</td>\n",
       "      <td>0.0</td>\n",
       "      <td>NaN</td>\n",
       "      <td>NaN</td>\n",
       "      <td>NE</td>\n",
       "      <td>24.0</td>\n",
       "      <td>SE</td>\n",
       "      <td>...</td>\n",
       "      <td>16.0</td>\n",
       "      <td>1017.6</td>\n",
       "      <td>1012.8</td>\n",
       "      <td>NaN</td>\n",
       "      <td>NaN</td>\n",
       "      <td>18.1</td>\n",
       "      <td>26.5</td>\n",
       "      <td>No</td>\n",
       "      <td>1.0</td>\n",
       "      <td>No</td>\n",
       "    </tr>\n",
       "    <tr>\n",
       "      <th>4</th>\n",
       "      <td>2008-12-05</td>\n",
       "      <td>Albury</td>\n",
       "      <td>17.5</td>\n",
       "      <td>32.3</td>\n",
       "      <td>1.0</td>\n",
       "      <td>NaN</td>\n",
       "      <td>NaN</td>\n",
       "      <td>W</td>\n",
       "      <td>41.0</td>\n",
       "      <td>ENE</td>\n",
       "      <td>...</td>\n",
       "      <td>33.0</td>\n",
       "      <td>1010.8</td>\n",
       "      <td>1006.0</td>\n",
       "      <td>7.0</td>\n",
       "      <td>8.0</td>\n",
       "      <td>17.8</td>\n",
       "      <td>29.7</td>\n",
       "      <td>No</td>\n",
       "      <td>0.2</td>\n",
       "      <td>No</td>\n",
       "    </tr>\n",
       "  </tbody>\n",
       "</table>\n",
       "<p>5 rows × 24 columns</p>\n",
       "</div>"
      ],
      "text/plain": [
       "         Date Location  MinTemp  MaxTemp  Rainfall  Evaporation  Sunshine  \\\n",
       "0  2008-12-01   Albury     13.4     22.9       0.6          NaN       NaN   \n",
       "1  2008-12-02   Albury      7.4     25.1       0.0          NaN       NaN   \n",
       "2  2008-12-03   Albury     12.9     25.7       0.0          NaN       NaN   \n",
       "3  2008-12-04   Albury      9.2     28.0       0.0          NaN       NaN   \n",
       "4  2008-12-05   Albury     17.5     32.3       1.0          NaN       NaN   \n",
       "\n",
       "  WindGustDir  WindGustSpeed WindDir9am  ... Humidity3pm  Pressure9am  \\\n",
       "0           W           44.0          W  ...        22.0       1007.7   \n",
       "1         WNW           44.0        NNW  ...        25.0       1010.6   \n",
       "2         WSW           46.0          W  ...        30.0       1007.6   \n",
       "3          NE           24.0         SE  ...        16.0       1017.6   \n",
       "4           W           41.0        ENE  ...        33.0       1010.8   \n",
       "\n",
       "   Pressure3pm  Cloud9am  Cloud3pm  Temp9am  Temp3pm  RainToday  RISK_MM  \\\n",
       "0       1007.1       8.0       NaN     16.9     21.8         No      0.0   \n",
       "1       1007.8       NaN       NaN     17.2     24.3         No      0.0   \n",
       "2       1008.7       NaN       2.0     21.0     23.2         No      0.0   \n",
       "3       1012.8       NaN       NaN     18.1     26.5         No      1.0   \n",
       "4       1006.0       7.0       8.0     17.8     29.7         No      0.2   \n",
       "\n",
       "   RainTomorrow  \n",
       "0            No  \n",
       "1            No  \n",
       "2            No  \n",
       "3            No  \n",
       "4            No  \n",
       "\n",
       "[5 rows x 24 columns]"
      ]
     },
     "execution_count": 96,
     "metadata": {},
     "output_type": "execute_result"
    }
   ],
   "source": [
    "df = pd.read_csv('weatherAUS.csv')\n",
    "\n",
    "df[0:5]"
   ]
  },
  {
   "cell_type": "code",
   "execution_count": 97,
   "metadata": {},
   "outputs": [
    {
     "name": "stdout",
     "output_type": "stream",
     "text": [
      "<class 'pandas.core.frame.DataFrame'>\n",
      "RangeIndex: 142193 entries, 0 to 142192\n",
      "Data columns (total 24 columns):\n",
      " #   Column         Non-Null Count   Dtype  \n",
      "---  ------         --------------   -----  \n",
      " 0   Date           142193 non-null  object \n",
      " 1   Location       142193 non-null  object \n",
      " 2   MinTemp        141556 non-null  float64\n",
      " 3   MaxTemp        141871 non-null  float64\n",
      " 4   Rainfall       140787 non-null  float64\n",
      " 5   Evaporation    81350 non-null   float64\n",
      " 6   Sunshine       74377 non-null   float64\n",
      " 7   WindGustDir    132863 non-null  object \n",
      " 8   WindGustSpeed  132923 non-null  float64\n",
      " 9   WindDir9am     132180 non-null  object \n",
      " 10  WindDir3pm     138415 non-null  object \n",
      " 11  WindSpeed9am   140845 non-null  float64\n",
      " 12  WindSpeed3pm   139563 non-null  float64\n",
      " 13  Humidity9am    140419 non-null  float64\n",
      " 14  Humidity3pm    138583 non-null  float64\n",
      " 15  Pressure9am    128179 non-null  float64\n",
      " 16  Pressure3pm    128212 non-null  float64\n",
      " 17  Cloud9am       88536 non-null   float64\n",
      " 18  Cloud3pm       85099 non-null   float64\n",
      " 19  Temp9am        141289 non-null  float64\n",
      " 20  Temp3pm        139467 non-null  float64\n",
      " 21  RainToday      140787 non-null  object \n",
      " 22  RISK_MM        142193 non-null  float64\n",
      " 23  RainTomorrow   142193 non-null  object \n",
      "dtypes: float64(17), object(7)\n",
      "memory usage: 26.0+ MB\n"
     ]
    }
   ],
   "source": [
    "df.info()"
   ]
  },
  {
   "cell_type": "code",
   "execution_count": 98,
   "metadata": {},
   "outputs": [
    {
     "data": {
      "text/plain": [
       "Index(['Date', 'Location', 'MinTemp', 'MaxTemp', 'Rainfall', 'Evaporation',\n",
       "       'Sunshine', 'WindGustDir', 'WindGustSpeed', 'WindDir9am', 'WindDir3pm',\n",
       "       'WindSpeed9am', 'WindSpeed3pm', 'Humidity9am', 'Humidity3pm',\n",
       "       'Pressure9am', 'Pressure3pm', 'Cloud9am', 'Cloud3pm', 'Temp9am',\n",
       "       'Temp3pm', 'RainToday', 'RISK_MM', 'RainTomorrow'],\n",
       "      dtype='object')"
      ]
     },
     "execution_count": 98,
     "metadata": {},
     "output_type": "execute_result"
    }
   ],
   "source": [
    "df.columns"
   ]
  },
  {
   "cell_type": "code",
   "execution_count": 99,
   "metadata": {},
   "outputs": [
    {
     "data": {
      "text/plain": [
       "0         0.0\n",
       "1         0.0\n",
       "2         0.0\n",
       "3         1.0\n",
       "4         0.2\n",
       "         ... \n",
       "142188    0.0\n",
       "142189    0.0\n",
       "142190    0.0\n",
       "142191    0.0\n",
       "142192    0.0\n",
       "Name: RISK_MM, Length: 142193, dtype: float64"
      ]
     },
     "execution_count": 99,
     "metadata": {},
     "output_type": "execute_result"
    }
   ],
   "source": [
    "df['RISK_MM']"
   ]
  },
  {
   "cell_type": "code",
   "execution_count": 100,
   "metadata": {},
   "outputs": [
    {
     "data": {
      "text/plain": [
       "array(['Albury', 'BadgerysCreek', 'Cobar', 'CoffsHarbour', 'Moree',\n",
       "       'Newcastle', 'NorahHead', 'NorfolkIsland', 'Penrith', 'Richmond',\n",
       "       'Sydney', 'SydneyAirport', 'WaggaWagga', 'Williamtown',\n",
       "       'Wollongong', 'Canberra', 'Tuggeranong', 'MountGinini', 'Ballarat',\n",
       "       'Bendigo', 'Sale', 'MelbourneAirport', 'Melbourne', 'Mildura',\n",
       "       'Nhil', 'Portland', 'Watsonia', 'Dartmoor', 'Brisbane', 'Cairns',\n",
       "       'GoldCoast', 'Townsville', 'Adelaide', 'MountGambier', 'Nuriootpa',\n",
       "       'Woomera', 'Albany', 'Witchcliffe', 'PearceRAAF', 'PerthAirport',\n",
       "       'Perth', 'SalmonGums', 'Walpole', 'Hobart', 'Launceston',\n",
       "       'AliceSprings', 'Darwin', 'Katherine', 'Uluru'], dtype=object)"
      ]
     },
     "execution_count": 100,
     "metadata": {},
     "output_type": "execute_result"
    }
   ],
   "source": [
    "df['Location'].unique()"
   ]
  },
  {
   "cell_type": "code",
   "execution_count": 101,
   "metadata": {
    "scrolled": true
   },
   "outputs": [
    {
     "data": {
      "image/png": "[encoded data removed]",
      "text/plain": [
       "<Figure size 864x864 with 1 Axes>"
      ]
     },
     "metadata": {},
     "output_type": "display_data"
    }
   ],
   "source": [
    "g = sns.catplot(data=df, y='Location', kind='count')\n",
    "g.fig.set_size_inches(12,12)"
   ]
  },
  {
   "cell_type": "code",
   "execution_count": 102,
   "metadata": {},
   "outputs": [
    {
     "data": {
      "text/html": [
       "<div>\n",
       "<style scoped>\n",
       "    .dataframe tbody tr th:only-of-type {\n",
       "        vertical-align: middle;\n",
       "    }\n",
       "\n",
       "    .dataframe tbody tr th {\n",
       "        vertical-align: top;\n",
       "    }\n",
       "\n",
       "    .dataframe thead th {\n",
       "        text-align: right;\n",
       "    }\n",
       "</style>\n",
       "<table border=\"1\" class=\"dataframe\">\n",
       "  <thead>\n",
       "    <tr style=\"text-align: right;\">\n",
       "      <th></th>\n",
       "      <th>Date</th>\n",
       "      <th>Location</th>\n",
       "      <th>MinTemp</th>\n",
       "      <th>MaxTemp</th>\n",
       "      <th>Rainfall</th>\n",
       "      <th>Evaporation</th>\n",
       "      <th>Sunshine</th>\n",
       "      <th>WindGustDir</th>\n",
       "      <th>WindGustSpeed</th>\n",
       "      <th>WindDir9am</th>\n",
       "      <th>...</th>\n",
       "      <th>Humidity3pm</th>\n",
       "      <th>Pressure9am</th>\n",
       "      <th>Pressure3pm</th>\n",
       "      <th>Cloud9am</th>\n",
       "      <th>Cloud3pm</th>\n",
       "      <th>Temp9am</th>\n",
       "      <th>Temp3pm</th>\n",
       "      <th>RainToday</th>\n",
       "      <th>RISK_MM</th>\n",
       "      <th>RainTomorrow</th>\n",
       "    </tr>\n",
       "  </thead>\n",
       "  <tbody>\n",
       "    <tr>\n",
       "      <th>0</th>\n",
       "      <td>2008-12-01</td>\n",
       "      <td>Albury</td>\n",
       "      <td>13.4</td>\n",
       "      <td>22.9</td>\n",
       "      <td>0.6</td>\n",
       "      <td>NaN</td>\n",
       "      <td>NaN</td>\n",
       "      <td>W</td>\n",
       "      <td>44.0</td>\n",
       "      <td>W</td>\n",
       "      <td>...</td>\n",
       "      <td>22.0</td>\n",
       "      <td>1007.7</td>\n",
       "      <td>1007.1</td>\n",
       "      <td>8.0</td>\n",
       "      <td>NaN</td>\n",
       "      <td>16.9</td>\n",
       "      <td>21.8</td>\n",
       "      <td>No</td>\n",
       "      <td>0.0</td>\n",
       "      <td>No</td>\n",
       "    </tr>\n",
       "    <tr>\n",
       "      <th>1</th>\n",
       "      <td>2008-12-02</td>\n",
       "      <td>Albury</td>\n",
       "      <td>7.4</td>\n",
       "      <td>25.1</td>\n",
       "      <td>0.0</td>\n",
       "      <td>NaN</td>\n",
       "      <td>NaN</td>\n",
       "      <td>WNW</td>\n",
       "      <td>44.0</td>\n",
       "      <td>NNW</td>\n",
       "      <td>...</td>\n",
       "      <td>25.0</td>\n",
       "      <td>1010.6</td>\n",
       "      <td>1007.8</td>\n",
       "      <td>NaN</td>\n",
       "      <td>NaN</td>\n",
       "      <td>17.2</td>\n",
       "      <td>24.3</td>\n",
       "      <td>No</td>\n",
       "      <td>0.0</td>\n",
       "      <td>No</td>\n",
       "    </tr>\n",
       "    <tr>\n",
       "      <th>2</th>\n",
       "      <td>2008-12-03</td>\n",
       "      <td>Albury</td>\n",
       "      <td>12.9</td>\n",
       "      <td>25.7</td>\n",
       "      <td>0.0</td>\n",
       "      <td>NaN</td>\n",
       "      <td>NaN</td>\n",
       "      <td>WSW</td>\n",
       "      <td>46.0</td>\n",
       "      <td>W</td>\n",
       "      <td>...</td>\n",
       "      <td>30.0</td>\n",
       "      <td>1007.6</td>\n",
       "      <td>1008.7</td>\n",
       "      <td>NaN</td>\n",
       "      <td>2.0</td>\n",
       "      <td>21.0</td>\n",
       "      <td>23.2</td>\n",
       "      <td>No</td>\n",
       "      <td>0.0</td>\n",
       "      <td>No</td>\n",
       "    </tr>\n",
       "    <tr>\n",
       "      <th>3</th>\n",
       "      <td>2008-12-04</td>\n",
       "      <td>Albury</td>\n",
       "      <td>9.2</td>\n",
       "      <td>28.0</td>\n",
       "      <td>0.0</td>\n",
       "      <td>NaN</td>\n",
       "      <td>NaN</td>\n",
       "      <td>NE</td>\n",
       "      <td>24.0</td>\n",
       "      <td>SE</td>\n",
       "      <td>...</td>\n",
       "      <td>16.0</td>\n",
       "      <td>1017.6</td>\n",
       "      <td>1012.8</td>\n",
       "      <td>NaN</td>\n",
       "      <td>NaN</td>\n",
       "      <td>18.1</td>\n",
       "      <td>26.5</td>\n",
       "      <td>No</td>\n",
       "      <td>1.0</td>\n",
       "      <td>No</td>\n",
       "    </tr>\n",
       "    <tr>\n",
       "      <th>4</th>\n",
       "      <td>2008-12-05</td>\n",
       "      <td>Albury</td>\n",
       "      <td>17.5</td>\n",
       "      <td>32.3</td>\n",
       "      <td>1.0</td>\n",
       "      <td>NaN</td>\n",
       "      <td>NaN</td>\n",
       "      <td>W</td>\n",
       "      <td>41.0</td>\n",
       "      <td>ENE</td>\n",
       "      <td>...</td>\n",
       "      <td>33.0</td>\n",
       "      <td>1010.8</td>\n",
       "      <td>1006.0</td>\n",
       "      <td>7.0</td>\n",
       "      <td>8.0</td>\n",
       "      <td>17.8</td>\n",
       "      <td>29.7</td>\n",
       "      <td>No</td>\n",
       "      <td>0.2</td>\n",
       "      <td>No</td>\n",
       "    </tr>\n",
       "  </tbody>\n",
       "</table>\n",
       "<p>5 rows × 24 columns</p>\n",
       "</div>"
      ],
      "text/plain": [
       "         Date Location  MinTemp  MaxTemp  Rainfall  Evaporation  Sunshine  \\\n",
       "0  2008-12-01   Albury     13.4     22.9       0.6          NaN       NaN   \n",
       "1  2008-12-02   Albury      7.4     25.1       0.0          NaN       NaN   \n",
       "2  2008-12-03   Albury     12.9     25.7       0.0          NaN       NaN   \n",
       "3  2008-12-04   Albury      9.2     28.0       0.0          NaN       NaN   \n",
       "4  2008-12-05   Albury     17.5     32.3       1.0          NaN       NaN   \n",
       "\n",
       "  WindGustDir  WindGustSpeed WindDir9am  ... Humidity3pm  Pressure9am  \\\n",
       "0           W           44.0          W  ...        22.0       1007.7   \n",
       "1         WNW           44.0        NNW  ...        25.0       1010.6   \n",
       "2         WSW           46.0          W  ...        30.0       1007.6   \n",
       "3          NE           24.0         SE  ...        16.0       1017.6   \n",
       "4           W           41.0        ENE  ...        33.0       1010.8   \n",
       "\n",
       "   Pressure3pm  Cloud9am  Cloud3pm  Temp9am  Temp3pm  RainToday  RISK_MM  \\\n",
       "0       1007.1       8.0       NaN     16.9     21.8         No      0.0   \n",
       "1       1007.8       NaN       NaN     17.2     24.3         No      0.0   \n",
       "2       1008.7       NaN       2.0     21.0     23.2         No      0.0   \n",
       "3       1012.8       NaN       NaN     18.1     26.5         No      1.0   \n",
       "4       1006.0       7.0       8.0     17.8     29.7         No      0.2   \n",
       "\n",
       "   RainTomorrow  \n",
       "0            No  \n",
       "1            No  \n",
       "2            No  \n",
       "3            No  \n",
       "4            No  \n",
       "\n",
       "[5 rows x 24 columns]"
      ]
     },
     "execution_count": 102,
     "metadata": {},
     "output_type": "execute_result"
    }
   ],
   "source": [
    "df_copy = df.copy()\n",
    "df_copy.head()"
   ]
  },
  {
   "cell_type": "markdown",
   "metadata": {},
   "source": [
    "### Date column transformation into 3 columns"
   ]
  },
  {
   "cell_type": "code",
   "execution_count": 103,
   "metadata": {},
   "outputs": [],
   "source": [
    "df_copy['Date'] = pd.to_datetime(df_copy['Date'])"
   ]
  },
  {
   "cell_type": "code",
   "execution_count": 104,
   "metadata": {
    "scrolled": true
   },
   "outputs": [
    {
     "name": "stdout",
     "output_type": "stream",
     "text": [
      "<class 'pandas.core.frame.DataFrame'>\n",
      "RangeIndex: 142193 entries, 0 to 142192\n",
      "Data columns (total 24 columns):\n",
      " #   Column         Non-Null Count   Dtype         \n",
      "---  ------         --------------   -----         \n",
      " 0   Date           142193 non-null  datetime64[ns]\n",
      " 1   Location       142193 non-null  object        \n",
      " 2   MinTemp        141556 non-null  float64       \n",
      " 3   MaxTemp        141871 non-null  float64       \n",
      " 4   Rainfall       140787 non-null  float64       \n",
      " 5   Evaporation    81350 non-null   float64       \n",
      " 6   Sunshine       74377 non-null   float64       \n",
      " 7   WindGustDir    132863 non-null  object        \n",
      " 8   WindGustSpeed  132923 non-null  float64       \n",
      " 9   WindDir9am     132180 non-null  object        \n",
      " 10  WindDir3pm     138415 non-null  object        \n",
      " 11  WindSpeed9am   140845 non-null  float64       \n",
      " 12  WindSpeed3pm   139563 non-null  float64       \n",
      " 13  Humidity9am    140419 non-null  float64       \n",
      " 14  Humidity3pm    138583 non-null  float64       \n",
      " 15  Pressure9am    128179 non-null  float64       \n",
      " 16  Pressure3pm    128212 non-null  float64       \n",
      " 17  Cloud9am       88536 non-null   float64       \n",
      " 18  Cloud3pm       85099 non-null   float64       \n",
      " 19  Temp9am        141289 non-null  float64       \n",
      " 20  Temp3pm        139467 non-null  float64       \n",
      " 21  RainToday      140787 non-null  object        \n",
      " 22  RISK_MM        142193 non-null  float64       \n",
      " 23  RainTomorrow   142193 non-null  object        \n",
      "dtypes: datetime64[ns](1), float64(17), object(6)\n",
      "memory usage: 26.0+ MB\n"
     ]
    }
   ],
   "source": [
    "df_copy.info()"
   ]
  },
  {
   "cell_type": "code",
   "execution_count": 105,
   "metadata": {},
   "outputs": [
    {
     "data": {
      "text/html": [
       "<div>\n",
       "<style scoped>\n",
       "    .dataframe tbody tr th:only-of-type {\n",
       "        vertical-align: middle;\n",
       "    }\n",
       "\n",
       "    .dataframe tbody tr th {\n",
       "        vertical-align: top;\n",
       "    }\n",
       "\n",
       "    .dataframe thead th {\n",
       "        text-align: right;\n",
       "    }\n",
       "</style>\n",
       "<table border=\"1\" class=\"dataframe\">\n",
       "  <thead>\n",
       "    <tr style=\"text-align: right;\">\n",
       "      <th></th>\n",
       "      <th>Date</th>\n",
       "      <th>Location</th>\n",
       "      <th>MinTemp</th>\n",
       "      <th>MaxTemp</th>\n",
       "      <th>Rainfall</th>\n",
       "      <th>Evaporation</th>\n",
       "      <th>Sunshine</th>\n",
       "      <th>WindGustDir</th>\n",
       "      <th>WindGustSpeed</th>\n",
       "      <th>WindDir9am</th>\n",
       "      <th>...</th>\n",
       "      <th>Cloud9am</th>\n",
       "      <th>Cloud3pm</th>\n",
       "      <th>Temp9am</th>\n",
       "      <th>Temp3pm</th>\n",
       "      <th>RainToday</th>\n",
       "      <th>RISK_MM</th>\n",
       "      <th>RainTomorrow</th>\n",
       "      <th>Year</th>\n",
       "      <th>Month</th>\n",
       "      <th>Day</th>\n",
       "    </tr>\n",
       "  </thead>\n",
       "  <tbody>\n",
       "    <tr>\n",
       "      <th>0</th>\n",
       "      <td>2008-12-01</td>\n",
       "      <td>Albury</td>\n",
       "      <td>13.4</td>\n",
       "      <td>22.9</td>\n",
       "      <td>0.6</td>\n",
       "      <td>NaN</td>\n",
       "      <td>NaN</td>\n",
       "      <td>W</td>\n",
       "      <td>44.0</td>\n",
       "      <td>W</td>\n",
       "      <td>...</td>\n",
       "      <td>8.0</td>\n",
       "      <td>NaN</td>\n",
       "      <td>16.9</td>\n",
       "      <td>21.8</td>\n",
       "      <td>No</td>\n",
       "      <td>0.0</td>\n",
       "      <td>No</td>\n",
       "      <td>2008</td>\n",
       "      <td>12</td>\n",
       "      <td>1</td>\n",
       "    </tr>\n",
       "    <tr>\n",
       "      <th>1</th>\n",
       "      <td>2008-12-02</td>\n",
       "      <td>Albury</td>\n",
       "      <td>7.4</td>\n",
       "      <td>25.1</td>\n",
       "      <td>0.0</td>\n",
       "      <td>NaN</td>\n",
       "      <td>NaN</td>\n",
       "      <td>WNW</td>\n",
       "      <td>44.0</td>\n",
       "      <td>NNW</td>\n",
       "      <td>...</td>\n",
       "      <td>NaN</td>\n",
       "      <td>NaN</td>\n",
       "      <td>17.2</td>\n",
       "      <td>24.3</td>\n",
       "      <td>No</td>\n",
       "      <td>0.0</td>\n",
       "      <td>No</td>\n",
       "      <td>2008</td>\n",
       "      <td>12</td>\n",
       "      <td>2</td>\n",
       "    </tr>\n",
       "    <tr>\n",
       "      <th>2</th>\n",
       "      <td>2008-12-03</td>\n",
       "      <td>Albury</td>\n",
       "      <td>12.9</td>\n",
       "      <td>25.7</td>\n",
       "      <td>0.0</td>\n",
       "      <td>NaN</td>\n",
       "      <td>NaN</td>\n",
       "      <td>WSW</td>\n",
       "      <td>46.0</td>\n",
       "      <td>W</td>\n",
       "      <td>...</td>\n",
       "      <td>NaN</td>\n",
       "      <td>2.0</td>\n",
       "      <td>21.0</td>\n",
       "      <td>23.2</td>\n",
       "      <td>No</td>\n",
       "      <td>0.0</td>\n",
       "      <td>No</td>\n",
       "      <td>2008</td>\n",
       "      <td>12</td>\n",
       "      <td>3</td>\n",
       "    </tr>\n",
       "    <tr>\n",
       "      <th>3</th>\n",
       "      <td>2008-12-04</td>\n",
       "      <td>Albury</td>\n",
       "      <td>9.2</td>\n",
       "      <td>28.0</td>\n",
       "      <td>0.0</td>\n",
       "      <td>NaN</td>\n",
       "      <td>NaN</td>\n",
       "      <td>NE</td>\n",
       "      <td>24.0</td>\n",
       "      <td>SE</td>\n",
       "      <td>...</td>\n",
       "      <td>NaN</td>\n",
       "      <td>NaN</td>\n",
       "      <td>18.1</td>\n",
       "      <td>26.5</td>\n",
       "      <td>No</td>\n",
       "      <td>1.0</td>\n",
       "      <td>No</td>\n",
       "      <td>2008</td>\n",
       "      <td>12</td>\n",
       "      <td>4</td>\n",
       "    </tr>\n",
       "    <tr>\n",
       "      <th>4</th>\n",
       "      <td>2008-12-05</td>\n",
       "      <td>Albury</td>\n",
       "      <td>17.5</td>\n",
       "      <td>32.3</td>\n",
       "      <td>1.0</td>\n",
       "      <td>NaN</td>\n",
       "      <td>NaN</td>\n",
       "      <td>W</td>\n",
       "      <td>41.0</td>\n",
       "      <td>ENE</td>\n",
       "      <td>...</td>\n",
       "      <td>7.0</td>\n",
       "      <td>8.0</td>\n",
       "      <td>17.8</td>\n",
       "      <td>29.7</td>\n",
       "      <td>No</td>\n",
       "      <td>0.2</td>\n",
       "      <td>No</td>\n",
       "      <td>2008</td>\n",
       "      <td>12</td>\n",
       "      <td>5</td>\n",
       "    </tr>\n",
       "  </tbody>\n",
       "</table>\n",
       "<p>5 rows × 27 columns</p>\n",
       "</div>"
      ],
      "text/plain": [
       "        Date Location  MinTemp  MaxTemp  Rainfall  Evaporation  Sunshine  \\\n",
       "0 2008-12-01   Albury     13.4     22.9       0.6          NaN       NaN   \n",
       "1 2008-12-02   Albury      7.4     25.1       0.0          NaN       NaN   \n",
       "2 2008-12-03   Albury     12.9     25.7       0.0          NaN       NaN   \n",
       "3 2008-12-04   Albury      9.2     28.0       0.0          NaN       NaN   \n",
       "4 2008-12-05   Albury     17.5     32.3       1.0          NaN       NaN   \n",
       "\n",
       "  WindGustDir  WindGustSpeed WindDir9am  ... Cloud9am  Cloud3pm  Temp9am  \\\n",
       "0           W           44.0          W  ...      8.0       NaN     16.9   \n",
       "1         WNW           44.0        NNW  ...      NaN       NaN     17.2   \n",
       "2         WSW           46.0          W  ...      NaN       2.0     21.0   \n",
       "3          NE           24.0         SE  ...      NaN       NaN     18.1   \n",
       "4           W           41.0        ENE  ...      7.0       8.0     17.8   \n",
       "\n",
       "   Temp3pm  RainToday  RISK_MM  RainTomorrow  Year  Month  Day  \n",
       "0     21.8         No      0.0            No  2008     12    1  \n",
       "1     24.3         No      0.0            No  2008     12    2  \n",
       "2     23.2         No      0.0            No  2008     12    3  \n",
       "3     26.5         No      1.0            No  2008     12    4  \n",
       "4     29.7         No      0.2            No  2008     12    5  \n",
       "\n",
       "[5 rows x 27 columns]"
      ]
     },
     "execution_count": 105,
     "metadata": {},
     "output_type": "execute_result"
    }
   ],
   "source": [
    "df_copy['Year'] = df_copy['Date'].dt.year\n",
    "df_copy['Month'] = df_copy['Date'].dt.month\n",
    "df_copy['Day'] = df_copy['Date']. dt.day\n",
    "df_copy.head()"
   ]
  },
  {
   "cell_type": "code",
   "execution_count": 106,
   "metadata": {
    "scrolled": true
   },
   "outputs": [],
   "source": [
    "df_copy = df_copy.drop('Date', axis=1)"
   ]
  },
  {
   "cell_type": "code",
   "execution_count": 107,
   "metadata": {},
   "outputs": [
    {
     "data": {
      "text/plain": [
       "<seaborn.axisgrid.FacetGrid at 0x254cd91af10>"
      ]
     },
     "execution_count": 107,
     "metadata": {},
     "output_type": "execute_result"
    },
    {
     "data": {
      "image/png": "[encoded data removed]",
      "text/plain": [
       "<Figure size 360x360 with 1 Axes>"
      ]
     },
     "metadata": {},
     "output_type": "display_data"
    }
   ],
   "source": [
    "sns.catplot(data=df_copy, x='Year', kind='count')"
   ]
  },
  {
   "cell_type": "code",
   "execution_count": 108,
   "metadata": {},
   "outputs": [
    {
     "data": {
      "text/html": [
       "<div>\n",
       "<style scoped>\n",
       "    .dataframe tbody tr th:only-of-type {\n",
       "        vertical-align: middle;\n",
       "    }\n",
       "\n",
       "    .dataframe tbody tr th {\n",
       "        vertical-align: top;\n",
       "    }\n",
       "\n",
       "    .dataframe thead th {\n",
       "        text-align: right;\n",
       "    }\n",
       "</style>\n",
       "<table border=\"1\" class=\"dataframe\">\n",
       "  <thead>\n",
       "    <tr style=\"text-align: right;\">\n",
       "      <th></th>\n",
       "      <th>Location</th>\n",
       "      <th>MinTemp</th>\n",
       "      <th>MaxTemp</th>\n",
       "      <th>Rainfall</th>\n",
       "      <th>Evaporation</th>\n",
       "      <th>Sunshine</th>\n",
       "      <th>WindGustDir</th>\n",
       "      <th>WindGustSpeed</th>\n",
       "      <th>WindDir9am</th>\n",
       "      <th>WindDir3pm</th>\n",
       "      <th>...</th>\n",
       "      <th>Cloud9am</th>\n",
       "      <th>Cloud3pm</th>\n",
       "      <th>Temp9am</th>\n",
       "      <th>Temp3pm</th>\n",
       "      <th>RainToday</th>\n",
       "      <th>RISK_MM</th>\n",
       "      <th>RainTomorrow</th>\n",
       "      <th>Year</th>\n",
       "      <th>Month</th>\n",
       "      <th>Day</th>\n",
       "    </tr>\n",
       "  </thead>\n",
       "  <tbody>\n",
       "    <tr>\n",
       "      <th>44351</th>\n",
       "      <td>Canberra</td>\n",
       "      <td>8.0</td>\n",
       "      <td>24.3</td>\n",
       "      <td>0.0</td>\n",
       "      <td>3.4</td>\n",
       "      <td>6.3</td>\n",
       "      <td>NW</td>\n",
       "      <td>30.0</td>\n",
       "      <td>SW</td>\n",
       "      <td>NW</td>\n",
       "      <td>...</td>\n",
       "      <td>7.0</td>\n",
       "      <td>7.0</td>\n",
       "      <td>14.4</td>\n",
       "      <td>23.6</td>\n",
       "      <td>No</td>\n",
       "      <td>3.6</td>\n",
       "      <td>Yes</td>\n",
       "      <td>2007</td>\n",
       "      <td>11</td>\n",
       "      <td>1</td>\n",
       "    </tr>\n",
       "    <tr>\n",
       "      <th>44352</th>\n",
       "      <td>Canberra</td>\n",
       "      <td>14.0</td>\n",
       "      <td>26.9</td>\n",
       "      <td>3.6</td>\n",
       "      <td>4.4</td>\n",
       "      <td>9.7</td>\n",
       "      <td>ENE</td>\n",
       "      <td>39.0</td>\n",
       "      <td>E</td>\n",
       "      <td>W</td>\n",
       "      <td>...</td>\n",
       "      <td>5.0</td>\n",
       "      <td>3.0</td>\n",
       "      <td>17.5</td>\n",
       "      <td>25.7</td>\n",
       "      <td>Yes</td>\n",
       "      <td>3.6</td>\n",
       "      <td>Yes</td>\n",
       "      <td>2007</td>\n",
       "      <td>11</td>\n",
       "      <td>2</td>\n",
       "    </tr>\n",
       "    <tr>\n",
       "      <th>44353</th>\n",
       "      <td>Canberra</td>\n",
       "      <td>13.7</td>\n",
       "      <td>23.4</td>\n",
       "      <td>3.6</td>\n",
       "      <td>5.8</td>\n",
       "      <td>3.3</td>\n",
       "      <td>NW</td>\n",
       "      <td>85.0</td>\n",
       "      <td>N</td>\n",
       "      <td>NNE</td>\n",
       "      <td>...</td>\n",
       "      <td>8.0</td>\n",
       "      <td>7.0</td>\n",
       "      <td>15.4</td>\n",
       "      <td>20.2</td>\n",
       "      <td>Yes</td>\n",
       "      <td>39.8</td>\n",
       "      <td>Yes</td>\n",
       "      <td>2007</td>\n",
       "      <td>11</td>\n",
       "      <td>3</td>\n",
       "    </tr>\n",
       "    <tr>\n",
       "      <th>44354</th>\n",
       "      <td>Canberra</td>\n",
       "      <td>13.3</td>\n",
       "      <td>15.5</td>\n",
       "      <td>39.8</td>\n",
       "      <td>7.2</td>\n",
       "      <td>9.1</td>\n",
       "      <td>NW</td>\n",
       "      <td>54.0</td>\n",
       "      <td>WNW</td>\n",
       "      <td>W</td>\n",
       "      <td>...</td>\n",
       "      <td>2.0</td>\n",
       "      <td>7.0</td>\n",
       "      <td>13.5</td>\n",
       "      <td>14.1</td>\n",
       "      <td>Yes</td>\n",
       "      <td>2.8</td>\n",
       "      <td>Yes</td>\n",
       "      <td>2007</td>\n",
       "      <td>11</td>\n",
       "      <td>4</td>\n",
       "    </tr>\n",
       "    <tr>\n",
       "      <th>44355</th>\n",
       "      <td>Canberra</td>\n",
       "      <td>7.6</td>\n",
       "      <td>16.1</td>\n",
       "      <td>2.8</td>\n",
       "      <td>5.6</td>\n",
       "      <td>10.6</td>\n",
       "      <td>SSE</td>\n",
       "      <td>50.0</td>\n",
       "      <td>SSE</td>\n",
       "      <td>ESE</td>\n",
       "      <td>...</td>\n",
       "      <td>7.0</td>\n",
       "      <td>7.0</td>\n",
       "      <td>11.1</td>\n",
       "      <td>15.4</td>\n",
       "      <td>Yes</td>\n",
       "      <td>0.0</td>\n",
       "      <td>No</td>\n",
       "      <td>2007</td>\n",
       "      <td>11</td>\n",
       "      <td>5</td>\n",
       "    </tr>\n",
       "    <tr>\n",
       "      <th>...</th>\n",
       "      <td>...</td>\n",
       "      <td>...</td>\n",
       "      <td>...</td>\n",
       "      <td>...</td>\n",
       "      <td>...</td>\n",
       "      <td>...</td>\n",
       "      <td>...</td>\n",
       "      <td>...</td>\n",
       "      <td>...</td>\n",
       "      <td>...</td>\n",
       "      <td>...</td>\n",
       "      <td>...</td>\n",
       "      <td>...</td>\n",
       "      <td>...</td>\n",
       "      <td>...</td>\n",
       "      <td>...</td>\n",
       "      <td>...</td>\n",
       "      <td>...</td>\n",
       "      <td>...</td>\n",
       "      <td>...</td>\n",
       "      <td>...</td>\n",
       "    </tr>\n",
       "    <tr>\n",
       "      <th>44407</th>\n",
       "      <td>Canberra</td>\n",
       "      <td>14.3</td>\n",
       "      <td>26.7</td>\n",
       "      <td>0.0</td>\n",
       "      <td>7.2</td>\n",
       "      <td>7.1</td>\n",
       "      <td>NNW</td>\n",
       "      <td>65.0</td>\n",
       "      <td>N</td>\n",
       "      <td>NNW</td>\n",
       "      <td>...</td>\n",
       "      <td>7.0</td>\n",
       "      <td>7.0</td>\n",
       "      <td>19.8</td>\n",
       "      <td>19.0</td>\n",
       "      <td>No</td>\n",
       "      <td>14.4</td>\n",
       "      <td>Yes</td>\n",
       "      <td>2007</td>\n",
       "      <td>12</td>\n",
       "      <td>27</td>\n",
       "    </tr>\n",
       "    <tr>\n",
       "      <th>44408</th>\n",
       "      <td>Canberra</td>\n",
       "      <td>15.1</td>\n",
       "      <td>28.3</td>\n",
       "      <td>14.4</td>\n",
       "      <td>8.8</td>\n",
       "      <td>13.2</td>\n",
       "      <td>NNW</td>\n",
       "      <td>28.0</td>\n",
       "      <td>NNW</td>\n",
       "      <td>NW</td>\n",
       "      <td>...</td>\n",
       "      <td>1.0</td>\n",
       "      <td>5.0</td>\n",
       "      <td>18.3</td>\n",
       "      <td>27.4</td>\n",
       "      <td>Yes</td>\n",
       "      <td>0.0</td>\n",
       "      <td>No</td>\n",
       "      <td>2007</td>\n",
       "      <td>12</td>\n",
       "      <td>28</td>\n",
       "    </tr>\n",
       "    <tr>\n",
       "      <th>44409</th>\n",
       "      <td>Canberra</td>\n",
       "      <td>14.4</td>\n",
       "      <td>31.6</td>\n",
       "      <td>0.0</td>\n",
       "      <td>6.6</td>\n",
       "      <td>13.6</td>\n",
       "      <td>NNW</td>\n",
       "      <td>30.0</td>\n",
       "      <td>NW</td>\n",
       "      <td>N</td>\n",
       "      <td>...</td>\n",
       "      <td>0.0</td>\n",
       "      <td>2.0</td>\n",
       "      <td>21.5</td>\n",
       "      <td>30.3</td>\n",
       "      <td>No</td>\n",
       "      <td>0.0</td>\n",
       "      <td>No</td>\n",
       "      <td>2007</td>\n",
       "      <td>12</td>\n",
       "      <td>29</td>\n",
       "    </tr>\n",
       "    <tr>\n",
       "      <th>44410</th>\n",
       "      <td>Canberra</td>\n",
       "      <td>15.4</td>\n",
       "      <td>35.0</td>\n",
       "      <td>0.0</td>\n",
       "      <td>9.6</td>\n",
       "      <td>13.0</td>\n",
       "      <td>E</td>\n",
       "      <td>39.0</td>\n",
       "      <td>SSW</td>\n",
       "      <td>ESE</td>\n",
       "      <td>...</td>\n",
       "      <td>1.0</td>\n",
       "      <td>1.0</td>\n",
       "      <td>23.4</td>\n",
       "      <td>34.3</td>\n",
       "      <td>No</td>\n",
       "      <td>0.0</td>\n",
       "      <td>No</td>\n",
       "      <td>2007</td>\n",
       "      <td>12</td>\n",
       "      <td>30</td>\n",
       "    </tr>\n",
       "    <tr>\n",
       "      <th>44411</th>\n",
       "      <td>Canberra</td>\n",
       "      <td>13.8</td>\n",
       "      <td>33.5</td>\n",
       "      <td>0.0</td>\n",
       "      <td>11.4</td>\n",
       "      <td>13.6</td>\n",
       "      <td>NE</td>\n",
       "      <td>31.0</td>\n",
       "      <td>SSE</td>\n",
       "      <td>NE</td>\n",
       "      <td>...</td>\n",
       "      <td>0.0</td>\n",
       "      <td>1.0</td>\n",
       "      <td>21.9</td>\n",
       "      <td>32.2</td>\n",
       "      <td>No</td>\n",
       "      <td>0.0</td>\n",
       "      <td>No</td>\n",
       "      <td>2007</td>\n",
       "      <td>12</td>\n",
       "      <td>31</td>\n",
       "    </tr>\n",
       "  </tbody>\n",
       "</table>\n",
       "<p>61 rows × 26 columns</p>\n",
       "</div>"
      ],
      "text/plain": [
       "       Location  MinTemp  MaxTemp  Rainfall  Evaporation  Sunshine  \\\n",
       "44351  Canberra      8.0     24.3       0.0          3.4       6.3   \n",
       "44352  Canberra     14.0     26.9       3.6          4.4       9.7   \n",
       "44353  Canberra     13.7     23.4       3.6          5.8       3.3   \n",
       "44354  Canberra     13.3     15.5      39.8          7.2       9.1   \n",
       "44355  Canberra      7.6     16.1       2.8          5.6      10.6   \n",
       "...         ...      ...      ...       ...          ...       ...   \n",
       "44407  Canberra     14.3     26.7       0.0          7.2       7.1   \n",
       "44408  Canberra     15.1     28.3      14.4          8.8      13.2   \n",
       "44409  Canberra     14.4     31.6       0.0          6.6      13.6   \n",
       "44410  Canberra     15.4     35.0       0.0          9.6      13.0   \n",
       "44411  Canberra     13.8     33.5       0.0         11.4      13.6   \n",
       "\n",
       "      WindGustDir  WindGustSpeed WindDir9am WindDir3pm  ...  Cloud9am  \\\n",
       "44351          NW           30.0         SW         NW  ...       7.0   \n",
       "44352         ENE           39.0          E          W  ...       5.0   \n",
       "44353          NW           85.0          N        NNE  ...       8.0   \n",
       "44354          NW           54.0        WNW          W  ...       2.0   \n",
       "44355         SSE           50.0        SSE        ESE  ...       7.0   \n",
       "...           ...            ...        ...        ...  ...       ...   \n",
       "44407         NNW           65.0          N        NNW  ...       7.0   \n",
       "44408         NNW           28.0        NNW         NW  ...       1.0   \n",
       "44409         NNW           30.0         NW          N  ...       0.0   \n",
       "44410           E           39.0        SSW        ESE  ...       1.0   \n",
       "44411          NE           31.0        SSE         NE  ...       0.0   \n",
       "\n",
       "       Cloud3pm  Temp9am  Temp3pm  RainToday  RISK_MM  RainTomorrow  Year  \\\n",
       "44351       7.0     14.4     23.6         No      3.6           Yes  2007   \n",
       "44352       3.0     17.5     25.7        Yes      3.6           Yes  2007   \n",
       "44353       7.0     15.4     20.2        Yes     39.8           Yes  2007   \n",
       "44354       7.0     13.5     14.1        Yes      2.8           Yes  2007   \n",
       "44355       7.0     11.1     15.4        Yes      0.0            No  2007   \n",
       "...         ...      ...      ...        ...      ...           ...   ...   \n",
       "44407       7.0     19.8     19.0         No     14.4           Yes  2007   \n",
       "44408       5.0     18.3     27.4        Yes      0.0            No  2007   \n",
       "44409       2.0     21.5     30.3         No      0.0            No  2007   \n",
       "44410       1.0     23.4     34.3         No      0.0            No  2007   \n",
       "44411       1.0     21.9     32.2         No      0.0            No  2007   \n",
       "\n",
       "       Month  Day  \n",
       "44351     11    1  \n",
       "44352     11    2  \n",
       "44353     11    3  \n",
       "44354     11    4  \n",
       "44355     11    5  \n",
       "...      ...  ...  \n",
       "44407     12   27  \n",
       "44408     12   28  \n",
       "44409     12   29  \n",
       "44410     12   30  \n",
       "44411     12   31  \n",
       "\n",
       "[61 rows x 26 columns]"
      ]
     },
     "execution_count": 108,
     "metadata": {},
     "output_type": "execute_result"
    }
   ],
   "source": [
    "df_copy[df_copy['Year'] == 2007]"
   ]
  },
  {
   "cell_type": "markdown",
   "metadata": {},
   "source": [
    "### Dropping data from 2007"
   ]
  },
  {
   "cell_type": "code",
   "execution_count": 109,
   "metadata": {},
   "outputs": [
    {
     "data": {
      "text/html": [
       "<div>\n",
       "<style scoped>\n",
       "    .dataframe tbody tr th:only-of-type {\n",
       "        vertical-align: middle;\n",
       "    }\n",
       "\n",
       "    .dataframe tbody tr th {\n",
       "        vertical-align: top;\n",
       "    }\n",
       "\n",
       "    .dataframe thead th {\n",
       "        text-align: right;\n",
       "    }\n",
       "</style>\n",
       "<table border=\"1\" class=\"dataframe\">\n",
       "  <thead>\n",
       "    <tr style=\"text-align: right;\">\n",
       "      <th></th>\n",
       "      <th>Location</th>\n",
       "      <th>MinTemp</th>\n",
       "      <th>MaxTemp</th>\n",
       "      <th>Rainfall</th>\n",
       "      <th>Evaporation</th>\n",
       "      <th>Sunshine</th>\n",
       "      <th>WindGustDir</th>\n",
       "      <th>WindGustSpeed</th>\n",
       "      <th>WindDir9am</th>\n",
       "      <th>WindDir3pm</th>\n",
       "      <th>...</th>\n",
       "      <th>Cloud9am</th>\n",
       "      <th>Cloud3pm</th>\n",
       "      <th>Temp9am</th>\n",
       "      <th>Temp3pm</th>\n",
       "      <th>RainToday</th>\n",
       "      <th>RISK_MM</th>\n",
       "      <th>RainTomorrow</th>\n",
       "      <th>Year</th>\n",
       "      <th>Month</th>\n",
       "      <th>Day</th>\n",
       "    </tr>\n",
       "  </thead>\n",
       "  <tbody>\n",
       "  </tbody>\n",
       "</table>\n",
       "<p>0 rows × 26 columns</p>\n",
       "</div>"
      ],
      "text/plain": [
       "Empty DataFrame\n",
       "Columns: [Location, MinTemp, MaxTemp, Rainfall, Evaporation, Sunshine, WindGustDir, WindGustSpeed, WindDir9am, WindDir3pm, WindSpeed9am, WindSpeed3pm, Humidity9am, Humidity3pm, Pressure9am, Pressure3pm, Cloud9am, Cloud3pm, Temp9am, Temp3pm, RainToday, RISK_MM, RainTomorrow, Year, Month, Day]\n",
       "Index: []\n",
       "\n",
       "[0 rows x 26 columns]"
      ]
     },
     "execution_count": 109,
     "metadata": {},
     "output_type": "execute_result"
    }
   ],
   "source": [
    "df_copy = df_copy.drop(df_copy[df_copy['Year'] == 2007].index)\n",
    "df_copy[df_copy['Year'] == 2007]"
   ]
  },
  {
   "cell_type": "code",
   "execution_count": 110,
   "metadata": {},
   "outputs": [
    {
     "data": {
      "text/html": [
       "<div>\n",
       "<style scoped>\n",
       "    .dataframe tbody tr th:only-of-type {\n",
       "        vertical-align: middle;\n",
       "    }\n",
       "\n",
       "    .dataframe tbody tr th {\n",
       "        vertical-align: top;\n",
       "    }\n",
       "\n",
       "    .dataframe thead th {\n",
       "        text-align: right;\n",
       "    }\n",
       "</style>\n",
       "<table border=\"1\" class=\"dataframe\">\n",
       "  <thead>\n",
       "    <tr style=\"text-align: right;\">\n",
       "      <th></th>\n",
       "      <th>Location</th>\n",
       "      <th>MinTemp</th>\n",
       "      <th>MaxTemp</th>\n",
       "      <th>Rainfall</th>\n",
       "      <th>Evaporation</th>\n",
       "      <th>Sunshine</th>\n",
       "      <th>WindGustDir</th>\n",
       "      <th>WindGustSpeed</th>\n",
       "      <th>WindDir9am</th>\n",
       "      <th>WindDir3pm</th>\n",
       "      <th>...</th>\n",
       "      <th>Cloud9am</th>\n",
       "      <th>Cloud3pm</th>\n",
       "      <th>Temp9am</th>\n",
       "      <th>Temp3pm</th>\n",
       "      <th>RainToday</th>\n",
       "      <th>RISK_MM</th>\n",
       "      <th>RainTomorrow</th>\n",
       "      <th>Year</th>\n",
       "      <th>Month</th>\n",
       "      <th>Day</th>\n",
       "    </tr>\n",
       "  </thead>\n",
       "  <tbody>\n",
       "    <tr>\n",
       "      <th>0</th>\n",
       "      <td>Albury</td>\n",
       "      <td>13.4</td>\n",
       "      <td>22.9</td>\n",
       "      <td>0.6</td>\n",
       "      <td>NaN</td>\n",
       "      <td>NaN</td>\n",
       "      <td>W</td>\n",
       "      <td>44.0</td>\n",
       "      <td>W</td>\n",
       "      <td>WNW</td>\n",
       "      <td>...</td>\n",
       "      <td>8.0</td>\n",
       "      <td>NaN</td>\n",
       "      <td>16.9</td>\n",
       "      <td>21.8</td>\n",
       "      <td>No</td>\n",
       "      <td>0.0</td>\n",
       "      <td>No</td>\n",
       "      <td>2008</td>\n",
       "      <td>12</td>\n",
       "      <td>1</td>\n",
       "    </tr>\n",
       "    <tr>\n",
       "      <th>1</th>\n",
       "      <td>Albury</td>\n",
       "      <td>7.4</td>\n",
       "      <td>25.1</td>\n",
       "      <td>0.0</td>\n",
       "      <td>NaN</td>\n",
       "      <td>NaN</td>\n",
       "      <td>WNW</td>\n",
       "      <td>44.0</td>\n",
       "      <td>NNW</td>\n",
       "      <td>WSW</td>\n",
       "      <td>...</td>\n",
       "      <td>NaN</td>\n",
       "      <td>NaN</td>\n",
       "      <td>17.2</td>\n",
       "      <td>24.3</td>\n",
       "      <td>No</td>\n",
       "      <td>0.0</td>\n",
       "      <td>No</td>\n",
       "      <td>2008</td>\n",
       "      <td>12</td>\n",
       "      <td>2</td>\n",
       "    </tr>\n",
       "    <tr>\n",
       "      <th>2</th>\n",
       "      <td>Albury</td>\n",
       "      <td>12.9</td>\n",
       "      <td>25.7</td>\n",
       "      <td>0.0</td>\n",
       "      <td>NaN</td>\n",
       "      <td>NaN</td>\n",
       "      <td>WSW</td>\n",
       "      <td>46.0</td>\n",
       "      <td>W</td>\n",
       "      <td>WSW</td>\n",
       "      <td>...</td>\n",
       "      <td>NaN</td>\n",
       "      <td>2.0</td>\n",
       "      <td>21.0</td>\n",
       "      <td>23.2</td>\n",
       "      <td>No</td>\n",
       "      <td>0.0</td>\n",
       "      <td>No</td>\n",
       "      <td>2008</td>\n",
       "      <td>12</td>\n",
       "      <td>3</td>\n",
       "    </tr>\n",
       "    <tr>\n",
       "      <th>3</th>\n",
       "      <td>Albury</td>\n",
       "      <td>9.2</td>\n",
       "      <td>28.0</td>\n",
       "      <td>0.0</td>\n",
       "      <td>NaN</td>\n",
       "      <td>NaN</td>\n",
       "      <td>NE</td>\n",
       "      <td>24.0</td>\n",
       "      <td>SE</td>\n",
       "      <td>E</td>\n",
       "      <td>...</td>\n",
       "      <td>NaN</td>\n",
       "      <td>NaN</td>\n",
       "      <td>18.1</td>\n",
       "      <td>26.5</td>\n",
       "      <td>No</td>\n",
       "      <td>1.0</td>\n",
       "      <td>No</td>\n",
       "      <td>2008</td>\n",
       "      <td>12</td>\n",
       "      <td>4</td>\n",
       "    </tr>\n",
       "    <tr>\n",
       "      <th>4</th>\n",
       "      <td>Albury</td>\n",
       "      <td>17.5</td>\n",
       "      <td>32.3</td>\n",
       "      <td>1.0</td>\n",
       "      <td>NaN</td>\n",
       "      <td>NaN</td>\n",
       "      <td>W</td>\n",
       "      <td>41.0</td>\n",
       "      <td>ENE</td>\n",
       "      <td>NW</td>\n",
       "      <td>...</td>\n",
       "      <td>7.0</td>\n",
       "      <td>8.0</td>\n",
       "      <td>17.8</td>\n",
       "      <td>29.7</td>\n",
       "      <td>No</td>\n",
       "      <td>0.2</td>\n",
       "      <td>No</td>\n",
       "      <td>2008</td>\n",
       "      <td>12</td>\n",
       "      <td>5</td>\n",
       "    </tr>\n",
       "    <tr>\n",
       "      <th>...</th>\n",
       "      <td>...</td>\n",
       "      <td>...</td>\n",
       "      <td>...</td>\n",
       "      <td>...</td>\n",
       "      <td>...</td>\n",
       "      <td>...</td>\n",
       "      <td>...</td>\n",
       "      <td>...</td>\n",
       "      <td>...</td>\n",
       "      <td>...</td>\n",
       "      <td>...</td>\n",
       "      <td>...</td>\n",
       "      <td>...</td>\n",
       "      <td>...</td>\n",
       "      <td>...</td>\n",
       "      <td>...</td>\n",
       "      <td>...</td>\n",
       "      <td>...</td>\n",
       "      <td>...</td>\n",
       "      <td>...</td>\n",
       "      <td>...</td>\n",
       "    </tr>\n",
       "    <tr>\n",
       "      <th>136100</th>\n",
       "      <td>Darwin</td>\n",
       "      <td>25.9</td>\n",
       "      <td>34.4</td>\n",
       "      <td>3.0</td>\n",
       "      <td>4.8</td>\n",
       "      <td>7.7</td>\n",
       "      <td>NE</td>\n",
       "      <td>33.0</td>\n",
       "      <td>SSW</td>\n",
       "      <td>W</td>\n",
       "      <td>...</td>\n",
       "      <td>5.0</td>\n",
       "      <td>7.0</td>\n",
       "      <td>29.4</td>\n",
       "      <td>32.8</td>\n",
       "      <td>Yes</td>\n",
       "      <td>12.4</td>\n",
       "      <td>Yes</td>\n",
       "      <td>2008</td>\n",
       "      <td>12</td>\n",
       "      <td>27</td>\n",
       "    </tr>\n",
       "    <tr>\n",
       "      <th>136101</th>\n",
       "      <td>Darwin</td>\n",
       "      <td>23.6</td>\n",
       "      <td>32.6</td>\n",
       "      <td>12.4</td>\n",
       "      <td>5.6</td>\n",
       "      <td>4.0</td>\n",
       "      <td>WSW</td>\n",
       "      <td>37.0</td>\n",
       "      <td>WSW</td>\n",
       "      <td>W</td>\n",
       "      <td>...</td>\n",
       "      <td>4.0</td>\n",
       "      <td>7.0</td>\n",
       "      <td>30.6</td>\n",
       "      <td>31.1</td>\n",
       "      <td>Yes</td>\n",
       "      <td>0.0</td>\n",
       "      <td>No</td>\n",
       "      <td>2008</td>\n",
       "      <td>12</td>\n",
       "      <td>28</td>\n",
       "    </tr>\n",
       "    <tr>\n",
       "      <th>136102</th>\n",
       "      <td>Darwin</td>\n",
       "      <td>27.4</td>\n",
       "      <td>31.3</td>\n",
       "      <td>0.0</td>\n",
       "      <td>4.0</td>\n",
       "      <td>1.1</td>\n",
       "      <td>S</td>\n",
       "      <td>54.0</td>\n",
       "      <td>WSW</td>\n",
       "      <td>S</td>\n",
       "      <td>...</td>\n",
       "      <td>7.0</td>\n",
       "      <td>8.0</td>\n",
       "      <td>30.1</td>\n",
       "      <td>23.7</td>\n",
       "      <td>No</td>\n",
       "      <td>22.2</td>\n",
       "      <td>Yes</td>\n",
       "      <td>2008</td>\n",
       "      <td>12</td>\n",
       "      <td>29</td>\n",
       "    </tr>\n",
       "    <tr>\n",
       "      <th>136103</th>\n",
       "      <td>Darwin</td>\n",
       "      <td>23.4</td>\n",
       "      <td>29.3</td>\n",
       "      <td>22.2</td>\n",
       "      <td>3.8</td>\n",
       "      <td>0.1</td>\n",
       "      <td>WNW</td>\n",
       "      <td>50.0</td>\n",
       "      <td>WNW</td>\n",
       "      <td>WSW</td>\n",
       "      <td>...</td>\n",
       "      <td>7.0</td>\n",
       "      <td>7.0</td>\n",
       "      <td>26.7</td>\n",
       "      <td>29.3</td>\n",
       "      <td>Yes</td>\n",
       "      <td>14.6</td>\n",
       "      <td>Yes</td>\n",
       "      <td>2008</td>\n",
       "      <td>12</td>\n",
       "      <td>30</td>\n",
       "    </tr>\n",
       "    <tr>\n",
       "      <th>136104</th>\n",
       "      <td>Darwin</td>\n",
       "      <td>24.1</td>\n",
       "      <td>29.9</td>\n",
       "      <td>14.6</td>\n",
       "      <td>6.4</td>\n",
       "      <td>0.2</td>\n",
       "      <td>WSW</td>\n",
       "      <td>43.0</td>\n",
       "      <td>WSW</td>\n",
       "      <td>W</td>\n",
       "      <td>...</td>\n",
       "      <td>7.0</td>\n",
       "      <td>7.0</td>\n",
       "      <td>24.5</td>\n",
       "      <td>29.2</td>\n",
       "      <td>Yes</td>\n",
       "      <td>2.4</td>\n",
       "      <td>Yes</td>\n",
       "      <td>2008</td>\n",
       "      <td>12</td>\n",
       "      <td>31</td>\n",
       "    </tr>\n",
       "  </tbody>\n",
       "</table>\n",
       "<p>2246 rows × 26 columns</p>\n",
       "</div>"
      ],
      "text/plain": [
       "       Location  MinTemp  MaxTemp  Rainfall  Evaporation  Sunshine  \\\n",
       "0        Albury     13.4     22.9       0.6          NaN       NaN   \n",
       "1        Albury      7.4     25.1       0.0          NaN       NaN   \n",
       "2        Albury     12.9     25.7       0.0          NaN       NaN   \n",
       "3        Albury      9.2     28.0       0.0          NaN       NaN   \n",
       "4        Albury     17.5     32.3       1.0          NaN       NaN   \n",
       "...         ...      ...      ...       ...          ...       ...   \n",
       "136100   Darwin     25.9     34.4       3.0          4.8       7.7   \n",
       "136101   Darwin     23.6     32.6      12.4          5.6       4.0   \n",
       "136102   Darwin     27.4     31.3       0.0          4.0       1.1   \n",
       "136103   Darwin     23.4     29.3      22.2          3.8       0.1   \n",
       "136104   Darwin     24.1     29.9      14.6          6.4       0.2   \n",
       "\n",
       "       WindGustDir  WindGustSpeed WindDir9am WindDir3pm  ...  Cloud9am  \\\n",
       "0                W           44.0          W        WNW  ...       8.0   \n",
       "1              WNW           44.0        NNW        WSW  ...       NaN   \n",
       "2              WSW           46.0          W        WSW  ...       NaN   \n",
       "3               NE           24.0         SE          E  ...       NaN   \n",
       "4                W           41.0        ENE         NW  ...       7.0   \n",
       "...            ...            ...        ...        ...  ...       ...   \n",
       "136100          NE           33.0        SSW          W  ...       5.0   \n",
       "136101         WSW           37.0        WSW          W  ...       4.0   \n",
       "136102           S           54.0        WSW          S  ...       7.0   \n",
       "136103         WNW           50.0        WNW        WSW  ...       7.0   \n",
       "136104         WSW           43.0        WSW          W  ...       7.0   \n",
       "\n",
       "        Cloud3pm  Temp9am  Temp3pm  RainToday  RISK_MM  RainTomorrow  Year  \\\n",
       "0            NaN     16.9     21.8         No      0.0            No  2008   \n",
       "1            NaN     17.2     24.3         No      0.0            No  2008   \n",
       "2            2.0     21.0     23.2         No      0.0            No  2008   \n",
       "3            NaN     18.1     26.5         No      1.0            No  2008   \n",
       "4            8.0     17.8     29.7         No      0.2            No  2008   \n",
       "...          ...      ...      ...        ...      ...           ...   ...   \n",
       "136100       7.0     29.4     32.8        Yes     12.4           Yes  2008   \n",
       "136101       7.0     30.6     31.1        Yes      0.0            No  2008   \n",
       "136102       8.0     30.1     23.7         No     22.2           Yes  2008   \n",
       "136103       7.0     26.7     29.3        Yes     14.6           Yes  2008   \n",
       "136104       7.0     24.5     29.2        Yes      2.4           Yes  2008   \n",
       "\n",
       "        Month  Day  \n",
       "0          12    1  \n",
       "1          12    2  \n",
       "2          12    3  \n",
       "3          12    4  \n",
       "4          12    5  \n",
       "...       ...  ...  \n",
       "136100     12   27  \n",
       "136101     12   28  \n",
       "136102     12   29  \n",
       "136103     12   30  \n",
       "136104     12   31  \n",
       "\n",
       "[2246 rows x 26 columns]"
      ]
     },
     "execution_count": 110,
     "metadata": {},
     "output_type": "execute_result"
    }
   ],
   "source": [
    "df_copy[df_copy['Year'] == 2008]"
   ]
  },
  {
   "cell_type": "markdown",
   "metadata": {},
   "source": [
    "### Dropping data from 2008"
   ]
  },
  {
   "cell_type": "code",
   "execution_count": 111,
   "metadata": {},
   "outputs": [
    {
     "data": {
      "text/html": [
       "<div>\n",
       "<style scoped>\n",
       "    .dataframe tbody tr th:only-of-type {\n",
       "        vertical-align: middle;\n",
       "    }\n",
       "\n",
       "    .dataframe tbody tr th {\n",
       "        vertical-align: top;\n",
       "    }\n",
       "\n",
       "    .dataframe thead th {\n",
       "        text-align: right;\n",
       "    }\n",
       "</style>\n",
       "<table border=\"1\" class=\"dataframe\">\n",
       "  <thead>\n",
       "    <tr style=\"text-align: right;\">\n",
       "      <th></th>\n",
       "      <th>Location</th>\n",
       "      <th>MinTemp</th>\n",
       "      <th>MaxTemp</th>\n",
       "      <th>Rainfall</th>\n",
       "      <th>Evaporation</th>\n",
       "      <th>Sunshine</th>\n",
       "      <th>WindGustDir</th>\n",
       "      <th>WindGustSpeed</th>\n",
       "      <th>WindDir9am</th>\n",
       "      <th>WindDir3pm</th>\n",
       "      <th>...</th>\n",
       "      <th>Cloud9am</th>\n",
       "      <th>Cloud3pm</th>\n",
       "      <th>Temp9am</th>\n",
       "      <th>Temp3pm</th>\n",
       "      <th>RainToday</th>\n",
       "      <th>RISK_MM</th>\n",
       "      <th>RainTomorrow</th>\n",
       "      <th>Year</th>\n",
       "      <th>Month</th>\n",
       "      <th>Day</th>\n",
       "    </tr>\n",
       "  </thead>\n",
       "  <tbody>\n",
       "  </tbody>\n",
       "</table>\n",
       "<p>0 rows × 26 columns</p>\n",
       "</div>"
      ],
      "text/plain": [
       "Empty DataFrame\n",
       "Columns: [Location, MinTemp, MaxTemp, Rainfall, Evaporation, Sunshine, WindGustDir, WindGustSpeed, WindDir9am, WindDir3pm, WindSpeed9am, WindSpeed3pm, Humidity9am, Humidity3pm, Pressure9am, Pressure3pm, Cloud9am, Cloud3pm, Temp9am, Temp3pm, RainToday, RISK_MM, RainTomorrow, Year, Month, Day]\n",
       "Index: []\n",
       "\n",
       "[0 rows x 26 columns]"
      ]
     },
     "execution_count": 111,
     "metadata": {},
     "output_type": "execute_result"
    }
   ],
   "source": [
    "df_copy = df_copy.drop(df_copy[df_copy['Year'] == 2008].index)\n",
    "df_copy[df_copy['Year'] == 2008]"
   ]
  },
  {
   "cell_type": "code",
   "execution_count": 112,
   "metadata": {},
   "outputs": [
    {
     "name": "stdout",
     "output_type": "stream",
     "text": [
      "<class 'pandas.core.frame.DataFrame'>\n",
      "Int64Index: 139886 entries, 30 to 142192\n",
      "Data columns (total 26 columns):\n",
      " #   Column         Non-Null Count   Dtype  \n",
      "---  ------         --------------   -----  \n",
      " 0   Location       139886 non-null  object \n",
      " 1   MinTemp        139258 non-null  float64\n",
      " 2   MaxTemp        139568 non-null  float64\n",
      " 3   Rainfall       138497 non-null  float64\n",
      " 4   Evaporation    79368 non-null   float64\n",
      " 5   Sunshine       72388 non-null   float64\n",
      " 6   WindGustDir    131003 non-null  object \n",
      " 7   WindGustSpeed  131062 non-null  float64\n",
      " 8   WindDir9am     129963 non-null  object \n",
      " 9   WindDir3pm     136127 non-null  object \n",
      " 10  WindSpeed9am   138566 non-null  float64\n",
      " 11  WindSpeed3pm   137272 non-null  float64\n",
      " 12  Humidity9am    138135 non-null  float64\n",
      " 13  Humidity3pm    136296 non-null  float64\n",
      " 14  Pressure9am    125966 non-null  float64\n",
      " 15  Pressure3pm    125998 non-null  float64\n",
      " 16  Cloud9am       86585 non-null   float64\n",
      " 17  Cloud3pm       83158 non-null   float64\n",
      " 18  Temp9am        138999 non-null  float64\n",
      " 19  Temp3pm        137173 non-null  float64\n",
      " 20  RainToday      138497 non-null  object \n",
      " 21  RISK_MM        139886 non-null  float64\n",
      " 22  RainTomorrow   139886 non-null  object \n",
      " 23  Year           139886 non-null  int64  \n",
      " 24  Month          139886 non-null  int64  \n",
      " 25  Day            139886 non-null  int64  \n",
      "dtypes: float64(17), int64(3), object(6)\n",
      "memory usage: 28.8+ MB\n"
     ]
    }
   ],
   "source": [
    "df_copy.info()"
   ]
  },
  {
   "cell_type": "markdown",
   "metadata": {},
   "source": [
    "### MinTemp"
   ]
  },
  {
   "cell_type": "code",
   "execution_count": 113,
   "metadata": {},
   "outputs": [
    {
     "data": {
      "text/html": [
       "<div>\n",
       "<style scoped>\n",
       "    .dataframe tbody tr th:only-of-type {\n",
       "        vertical-align: middle;\n",
       "    }\n",
       "\n",
       "    .dataframe tbody tr th {\n",
       "        vertical-align: top;\n",
       "    }\n",
       "\n",
       "    .dataframe thead th {\n",
       "        text-align: right;\n",
       "    }\n",
       "</style>\n",
       "<table border=\"1\" class=\"dataframe\">\n",
       "  <thead>\n",
       "    <tr style=\"text-align: right;\">\n",
       "      <th></th>\n",
       "      <th>MinTemp</th>\n",
       "      <th>MaxTemp</th>\n",
       "      <th>Rainfall</th>\n",
       "      <th>Evaporation</th>\n",
       "      <th>Sunshine</th>\n",
       "      <th>WindGustSpeed</th>\n",
       "      <th>WindSpeed9am</th>\n",
       "      <th>WindSpeed3pm</th>\n",
       "      <th>Humidity9am</th>\n",
       "      <th>Humidity3pm</th>\n",
       "      <th>Pressure9am</th>\n",
       "      <th>Pressure3pm</th>\n",
       "      <th>Cloud9am</th>\n",
       "      <th>Cloud3pm</th>\n",
       "      <th>Temp9am</th>\n",
       "      <th>Temp3pm</th>\n",
       "      <th>RISK_MM</th>\n",
       "      <th>Year</th>\n",
       "      <th>Month</th>\n",
       "      <th>Day</th>\n",
       "    </tr>\n",
       "  </thead>\n",
       "  <tbody>\n",
       "    <tr>\n",
       "      <th>count</th>\n",
       "      <td>139258.000000</td>\n",
       "      <td>139568.000000</td>\n",
       "      <td>138497.000000</td>\n",
       "      <td>79368.000000</td>\n",
       "      <td>72388.000000</td>\n",
       "      <td>131062.000000</td>\n",
       "      <td>138566.000000</td>\n",
       "      <td>137272.000000</td>\n",
       "      <td>138135.000000</td>\n",
       "      <td>136296.000000</td>\n",
       "      <td>125966.000000</td>\n",
       "      <td>125998.000000</td>\n",
       "      <td>86585.000000</td>\n",
       "      <td>83158.000000</td>\n",
       "      <td>138999.000000</td>\n",
       "      <td>137173.000000</td>\n",
       "      <td>139886.000000</td>\n",
       "      <td>139886.000000</td>\n",
       "      <td>139886.000000</td>\n",
       "      <td>139886.000000</td>\n",
       "    </tr>\n",
       "    <tr>\n",
       "      <th>mean</th>\n",
       "      <td>12.181598</td>\n",
       "      <td>23.230966</td>\n",
       "      <td>2.350291</td>\n",
       "      <td>5.476789</td>\n",
       "      <td>7.619687</td>\n",
       "      <td>39.960576</td>\n",
       "      <td>14.003082</td>\n",
       "      <td>18.625211</td>\n",
       "      <td>68.898035</td>\n",
       "      <td>51.520859</td>\n",
       "      <td>1017.684261</td>\n",
       "      <td>1015.289770</td>\n",
       "      <td>4.440215</td>\n",
       "      <td>4.507504</td>\n",
       "      <td>16.987592</td>\n",
       "      <td>21.691626</td>\n",
       "      <td>2.361672</td>\n",
       "      <td>2012.837847</td>\n",
       "      <td>6.355990</td>\n",
       "      <td>15.712330</td>\n",
       "    </tr>\n",
       "    <tr>\n",
       "      <th>std</th>\n",
       "      <td>6.401637</td>\n",
       "      <td>7.126232</td>\n",
       "      <td>8.486115</td>\n",
       "      <td>4.213676</td>\n",
       "      <td>3.784846</td>\n",
       "      <td>13.588691</td>\n",
       "      <td>8.900551</td>\n",
       "      <td>8.811182</td>\n",
       "      <td>19.088233</td>\n",
       "      <td>20.831449</td>\n",
       "      <td>7.086493</td>\n",
       "      <td>7.021147</td>\n",
       "      <td>2.889066</td>\n",
       "      <td>2.722859</td>\n",
       "      <td>6.491650</td>\n",
       "      <td>6.945068</td>\n",
       "      <td>8.499548</td>\n",
       "      <td>2.485994</td>\n",
       "      <td>3.415266</td>\n",
       "      <td>8.797364</td>\n",
       "    </tr>\n",
       "    <tr>\n",
       "      <th>min</th>\n",
       "      <td>-8.500000</td>\n",
       "      <td>-4.800000</td>\n",
       "      <td>0.000000</td>\n",
       "      <td>0.000000</td>\n",
       "      <td>0.000000</td>\n",
       "      <td>6.000000</td>\n",
       "      <td>0.000000</td>\n",
       "      <td>0.000000</td>\n",
       "      <td>0.000000</td>\n",
       "      <td>0.000000</td>\n",
       "      <td>980.500000</td>\n",
       "      <td>977.100000</td>\n",
       "      <td>0.000000</td>\n",
       "      <td>0.000000</td>\n",
       "      <td>-7.200000</td>\n",
       "      <td>-5.400000</td>\n",
       "      <td>0.000000</td>\n",
       "      <td>2009.000000</td>\n",
       "      <td>1.000000</td>\n",
       "      <td>1.000000</td>\n",
       "    </tr>\n",
       "    <tr>\n",
       "      <th>25%</th>\n",
       "      <td>7.600000</td>\n",
       "      <td>17.900000</td>\n",
       "      <td>0.000000</td>\n",
       "      <td>2.600000</td>\n",
       "      <td>4.900000</td>\n",
       "      <td>31.000000</td>\n",
       "      <td>7.000000</td>\n",
       "      <td>13.000000</td>\n",
       "      <td>57.000000</td>\n",
       "      <td>37.000000</td>\n",
       "      <td>1013.000000</td>\n",
       "      <td>1010.500000</td>\n",
       "      <td>1.000000</td>\n",
       "      <td>2.000000</td>\n",
       "      <td>12.300000</td>\n",
       "      <td>16.600000</td>\n",
       "      <td>0.000000</td>\n",
       "      <td>2011.000000</td>\n",
       "      <td>3.000000</td>\n",
       "      <td>8.000000</td>\n",
       "    </tr>\n",
       "    <tr>\n",
       "      <th>50%</th>\n",
       "      <td>12.000000</td>\n",
       "      <td>22.600000</td>\n",
       "      <td>0.000000</td>\n",
       "      <td>4.800000</td>\n",
       "      <td>8.500000</td>\n",
       "      <td>39.000000</td>\n",
       "      <td>13.000000</td>\n",
       "      <td>19.000000</td>\n",
       "      <td>70.000000</td>\n",
       "      <td>52.000000</td>\n",
       "      <td>1017.700000</td>\n",
       "      <td>1015.300000</td>\n",
       "      <td>5.000000</td>\n",
       "      <td>5.000000</td>\n",
       "      <td>16.700000</td>\n",
       "      <td>21.100000</td>\n",
       "      <td>0.000000</td>\n",
       "      <td>2013.000000</td>\n",
       "      <td>6.000000</td>\n",
       "      <td>16.000000</td>\n",
       "    </tr>\n",
       "    <tr>\n",
       "      <th>75%</th>\n",
       "      <td>16.800000</td>\n",
       "      <td>28.200000</td>\n",
       "      <td>0.800000</td>\n",
       "      <td>7.400000</td>\n",
       "      <td>10.600000</td>\n",
       "      <td>48.000000</td>\n",
       "      <td>19.000000</td>\n",
       "      <td>24.000000</td>\n",
       "      <td>83.000000</td>\n",
       "      <td>66.000000</td>\n",
       "      <td>1022.400000</td>\n",
       "      <td>1020.000000</td>\n",
       "      <td>7.000000</td>\n",
       "      <td>7.000000</td>\n",
       "      <td>21.600000</td>\n",
       "      <td>26.400000</td>\n",
       "      <td>0.800000</td>\n",
       "      <td>2015.000000</td>\n",
       "      <td>9.000000</td>\n",
       "      <td>23.000000</td>\n",
       "    </tr>\n",
       "    <tr>\n",
       "      <th>max</th>\n",
       "      <td>33.900000</td>\n",
       "      <td>48.100000</td>\n",
       "      <td>371.000000</td>\n",
       "      <td>145.000000</td>\n",
       "      <td>14.500000</td>\n",
       "      <td>135.000000</td>\n",
       "      <td>130.000000</td>\n",
       "      <td>87.000000</td>\n",
       "      <td>100.000000</td>\n",
       "      <td>100.000000</td>\n",
       "      <td>1041.000000</td>\n",
       "      <td>1039.600000</td>\n",
       "      <td>9.000000</td>\n",
       "      <td>9.000000</td>\n",
       "      <td>40.200000</td>\n",
       "      <td>46.700000</td>\n",
       "      <td>371.000000</td>\n",
       "      <td>2017.000000</td>\n",
       "      <td>12.000000</td>\n",
       "      <td>31.000000</td>\n",
       "    </tr>\n",
       "  </tbody>\n",
       "</table>\n",
       "</div>"
      ],
      "text/plain": [
       "             MinTemp        MaxTemp       Rainfall   Evaporation  \\\n",
       "count  139258.000000  139568.000000  138497.000000  79368.000000   \n",
       "mean       12.181598      23.230966       2.350291      5.476789   \n",
       "std         6.401637       7.126232       8.486115      4.213676   \n",
       "min        -8.500000      -4.800000       0.000000      0.000000   \n",
       "25%         7.600000      17.900000       0.000000      2.600000   \n",
       "50%        12.000000      22.600000       0.000000      4.800000   \n",
       "75%        16.800000      28.200000       0.800000      7.400000   \n",
       "max        33.900000      48.100000     371.000000    145.000000   \n",
       "\n",
       "           Sunshine  WindGustSpeed   WindSpeed9am   WindSpeed3pm  \\\n",
       "count  72388.000000  131062.000000  138566.000000  137272.000000   \n",
       "mean       7.619687      39.960576      14.003082      18.625211   \n",
       "std        3.784846      13.588691       8.900551       8.811182   \n",
       "min        0.000000       6.000000       0.000000       0.000000   \n",
       "25%        4.900000      31.000000       7.000000      13.000000   \n",
       "50%        8.500000      39.000000      13.000000      19.000000   \n",
       "75%       10.600000      48.000000      19.000000      24.000000   \n",
       "max       14.500000     135.000000     130.000000      87.000000   \n",
       "\n",
       "         Humidity9am    Humidity3pm    Pressure9am    Pressure3pm  \\\n",
       "count  138135.000000  136296.000000  125966.000000  125998.000000   \n",
       "mean       68.898035      51.520859    1017.684261    1015.289770   \n",
       "std        19.088233      20.831449       7.086493       7.021147   \n",
       "min         0.000000       0.000000     980.500000     977.100000   \n",
       "25%        57.000000      37.000000    1013.000000    1010.500000   \n",
       "50%        70.000000      52.000000    1017.700000    1015.300000   \n",
       "75%        83.000000      66.000000    1022.400000    1020.000000   \n",
       "max       100.000000     100.000000    1041.000000    1039.600000   \n",
       "\n",
       "           Cloud9am      Cloud3pm        Temp9am        Temp3pm  \\\n",
       "count  86585.000000  83158.000000  138999.000000  137173.000000   \n",
       "mean       4.440215      4.507504      16.987592      21.691626   \n",
       "std        2.889066      2.722859       6.491650       6.945068   \n",
       "min        0.000000      0.000000      -7.200000      -5.400000   \n",
       "25%        1.000000      2.000000      12.300000      16.600000   \n",
       "50%        5.000000      5.000000      16.700000      21.100000   \n",
       "75%        7.000000      7.000000      21.600000      26.400000   \n",
       "max        9.000000      9.000000      40.200000      46.700000   \n",
       "\n",
       "             RISK_MM           Year          Month            Day  \n",
       "count  139886.000000  139886.000000  139886.000000  139886.000000  \n",
       "mean        2.361672    2012.837847       6.355990      15.712330  \n",
       "std         8.499548       2.485994       3.415266       8.797364  \n",
       "min         0.000000    2009.000000       1.000000       1.000000  \n",
       "25%         0.000000    2011.000000       3.000000       8.000000  \n",
       "50%         0.000000    2013.000000       6.000000      16.000000  \n",
       "75%         0.800000    2015.000000       9.000000      23.000000  \n",
       "max       371.000000    2017.000000      12.000000      31.000000  "
      ]
     },
     "execution_count": 113,
     "metadata": {},
     "output_type": "execute_result"
    }
   ],
   "source": [
    "df_copy.describe()"
   ]
  },
  {
   "cell_type": "code",
   "execution_count": 114,
   "metadata": {},
   "outputs": [
    {
     "data": {
      "text/plain": [
       "<AxesSubplot:xlabel='MinTemp', ylabel='Count'>"
      ]
     },
     "execution_count": 114,
     "metadata": {},
     "output_type": "execute_result"
    },
    {
     "data": {
      "image/png": "[encoded data removed]",
      "text/plain": [
       "<Figure size 1080x720 with 1 Axes>"
      ]
     },
     "metadata": {},
     "output_type": "display_data"
    }
   ],
   "source": [
    "sns.histplot(data=df_copy, x='MinTemp', bins=30)"
   ]
  },
  {
   "cell_type": "code",
   "execution_count": 115,
   "metadata": {},
   "outputs": [
    {
     "data": {
      "text/plain": [
       "<seaborn.axisgrid.FacetGrid at 0x254cd99d8e0>"
      ]
     },
     "execution_count": 115,
     "metadata": {},
     "output_type": "execute_result"
    },
    {
     "data": {
      "image/png": "[encoded data removed]",
      "text/plain": [
       "<Figure size 360x360 with 1 Axes>"
      ]
     },
     "metadata": {},
     "output_type": "display_data"
    }
   ],
   "source": [
    "sns.catplot(data=df_copy, y='MinTemp', kind='box')"
   ]
  },
  {
   "cell_type": "code",
   "execution_count": 116,
   "metadata": {},
   "outputs": [
    {
     "data": {
      "text/plain": [
       "<seaborn.axisgrid.FacetGrid at 0x254ce4709d0>"
      ]
     },
     "execution_count": 116,
     "metadata": {},
     "output_type": "execute_result"
    },
    {
     "data": {
      "image/png": "[encoded data removed]",
      "text/plain": [
       "<Figure size 360x360 with 1 Axes>"
      ]
     },
     "metadata": {},
     "output_type": "display_data"
    }
   ],
   "source": [
    "sns.catplot(data=df_copy,x='RainTomorrow', y='MinTemp', kind='box')"
   ]
  },
  {
   "cell_type": "markdown",
   "metadata": {},
   "source": [
    "### Dropping missing values"
   ]
  },
  {
   "cell_type": "code",
   "execution_count": 117,
   "metadata": {},
   "outputs": [
    {
     "name": "stdout",
     "output_type": "stream",
     "text": [
      "<class 'pandas.core.frame.DataFrame'>\n",
      "Int64Index: 139258 entries, 30 to 142192\n",
      "Data columns (total 26 columns):\n",
      " #   Column         Non-Null Count   Dtype  \n",
      "---  ------         --------------   -----  \n",
      " 0   Location       139258 non-null  object \n",
      " 1   MinTemp        139258 non-null  float64\n",
      " 2   MaxTemp        139028 non-null  float64\n",
      " 3   Rainfall       138034 non-null  float64\n",
      " 4   Evaporation    79263 non-null   float64\n",
      " 5   Sunshine       72294 non-null   float64\n",
      " 6   WindGustDir    130782 non-null  object \n",
      " 7   WindGustSpeed  130839 non-null  float64\n",
      " 8   WindDir9am     129714 non-null  object \n",
      " 9   WindDir3pm     135787 non-null  object \n",
      " 10  WindSpeed9am   138246 non-null  float64\n",
      " 11  WindSpeed3pm   136904 non-null  float64\n",
      " 12  Humidity9am    137862 non-null  float64\n",
      " 13  Humidity3pm    135967 non-null  float64\n",
      " 14  Pressure9am    125737 non-null  float64\n",
      " 15  Pressure3pm    125749 non-null  float64\n",
      " 16  Cloud9am       86364 non-null   float64\n",
      " 17  Cloud3pm       82935 non-null   float64\n",
      " 18  Temp9am        138722 non-null  float64\n",
      " 19  Temp3pm        136837 non-null  float64\n",
      " 20  RainToday      138034 non-null  object \n",
      " 21  RISK_MM        139258 non-null  float64\n",
      " 22  RainTomorrow   139258 non-null  object \n",
      " 23  Year           139258 non-null  int64  \n",
      " 24  Month          139258 non-null  int64  \n",
      " 25  Day            139258 non-null  int64  \n",
      "dtypes: float64(17), int64(3), object(6)\n",
      "memory usage: 28.7+ MB\n"
     ]
    }
   ],
   "source": [
    "df_copy = df_copy.dropna(subset='MinTemp')\n",
    "df_copy.info()"
   ]
  },
  {
   "cell_type": "markdown",
   "metadata": {},
   "source": [
    "### MaxTemp"
   ]
  },
  {
   "cell_type": "code",
   "execution_count": 118,
   "metadata": {},
   "outputs": [
    {
     "data": {
      "text/plain": [
       "<AxesSubplot:xlabel='MaxTemp', ylabel='Count'>"
      ]
     },
     "execution_count": 118,
     "metadata": {},
     "output_type": "execute_result"
    },
    {
     "data": {
      "image/png": "[encoded data removed]",
      "text/plain": [
       "<Figure size 1080x720 with 1 Axes>"
      ]
     },
     "metadata": {},
     "output_type": "display_data"
    }
   ],
   "source": [
    "sns.histplot(data=df_copy, x='MaxTemp', bins=30)"
   ]
  },
  {
   "cell_type": "code",
   "execution_count": 119,
   "metadata": {},
   "outputs": [
    {
     "data": {
      "text/plain": [
       "<seaborn.axisgrid.FacetGrid at 0x254b1aa5ee0>"
      ]
     },
     "execution_count": 119,
     "metadata": {},
     "output_type": "execute_result"
    },
    {
     "data": {
      "image/png": "[encoded data removed]",
      "text/plain": [
       "<Figure size 360x360 with 1 Axes>"
      ]
     },
     "metadata": {},
     "output_type": "display_data"
    }
   ],
   "source": [
    "sns.catplot(data=df_copy, y='MaxTemp', kind='box')"
   ]
  },
  {
   "cell_type": "code",
   "execution_count": 120,
   "metadata": {},
   "outputs": [
    {
     "data": {
      "text/plain": [
       "<seaborn.axisgrid.FacetGrid at 0x254b12c5fa0>"
      ]
     },
     "execution_count": 120,
     "metadata": {},
     "output_type": "execute_result"
    },
    {
     "data": {
      "image/png": "[encoded data removed]",
      "text/plain": [
       "<Figure size 360x360 with 1 Axes>"
      ]
     },
     "metadata": {},
     "output_type": "display_data"
    }
   ],
   "source": [
    "sns.catplot(data=df_copy, x='RainTomorrow',y='MaxTemp', kind='box')"
   ]
  },
  {
   "cell_type": "markdown",
   "metadata": {},
   "source": [
    "### Dropping missing values"
   ]
  },
  {
   "cell_type": "code",
   "execution_count": 121,
   "metadata": {
    "scrolled": true
   },
   "outputs": [
    {
     "name": "stdout",
     "output_type": "stream",
     "text": [
      "<class 'pandas.core.frame.DataFrame'>\n",
      "Int64Index: 139028 entries, 30 to 142192\n",
      "Data columns (total 26 columns):\n",
      " #   Column         Non-Null Count   Dtype  \n",
      "---  ------         --------------   -----  \n",
      " 0   Location       139028 non-null  object \n",
      " 1   MinTemp        139028 non-null  float64\n",
      " 2   MaxTemp        139028 non-null  float64\n",
      " 3   Rainfall       137804 non-null  float64\n",
      " 4   Evaporation    79203 non-null   float64\n",
      " 5   Sunshine       72257 non-null   float64\n",
      " 6   WindGustDir    130745 non-null  object \n",
      " 7   WindGustSpeed  130802 non-null  float64\n",
      " 8   WindDir9am     129550 non-null  object \n",
      " 9   WindDir3pm     135660 non-null  object \n",
      " 10  WindSpeed9am   138025 non-null  float64\n",
      " 11  WindSpeed3pm   136765 non-null  float64\n",
      " 12  Humidity9am    137645 non-null  float64\n",
      " 13  Humidity3pm    135847 non-null  float64\n",
      " 14  Pressure9am    125631 non-null  float64\n",
      " 15  Pressure3pm    125647 non-null  float64\n",
      " 16  Cloud9am       86175 non-null   float64\n",
      " 17  Cloud3pm       82836 non-null   float64\n",
      " 18  Temp9am        138498 non-null  float64\n",
      " 19  Temp3pm        136712 non-null  float64\n",
      " 20  RainToday      137804 non-null  object \n",
      " 21  RISK_MM        139028 non-null  float64\n",
      " 22  RainTomorrow   139028 non-null  object \n",
      " 23  Year           139028 non-null  int64  \n",
      " 24  Month          139028 non-null  int64  \n",
      " 25  Day            139028 non-null  int64  \n",
      "dtypes: float64(17), int64(3), object(6)\n",
      "memory usage: 28.6+ MB\n"
     ]
    }
   ],
   "source": [
    "df_copy = df_copy.dropna(subset='MaxTemp')\n",
    "df_copy.info()"
   ]
  },
  {
   "cell_type": "markdown",
   "metadata": {},
   "source": [
    "### Rainfall"
   ]
  },
  {
   "cell_type": "code",
   "execution_count": 122,
   "metadata": {},
   "outputs": [
    {
     "data": {
      "text/html": [
       "<div>\n",
       "<style scoped>\n",
       "    .dataframe tbody tr th:only-of-type {\n",
       "        vertical-align: middle;\n",
       "    }\n",
       "\n",
       "    .dataframe tbody tr th {\n",
       "        vertical-align: top;\n",
       "    }\n",
       "\n",
       "    .dataframe thead th {\n",
       "        text-align: right;\n",
       "    }\n",
       "</style>\n",
       "<table border=\"1\" class=\"dataframe\">\n",
       "  <thead>\n",
       "    <tr style=\"text-align: right;\">\n",
       "      <th></th>\n",
       "      <th>MinTemp</th>\n",
       "      <th>MaxTemp</th>\n",
       "      <th>Rainfall</th>\n",
       "      <th>Evaporation</th>\n",
       "      <th>Sunshine</th>\n",
       "      <th>WindGustSpeed</th>\n",
       "      <th>WindSpeed9am</th>\n",
       "      <th>WindSpeed3pm</th>\n",
       "      <th>Humidity9am</th>\n",
       "      <th>Humidity3pm</th>\n",
       "      <th>Pressure9am</th>\n",
       "      <th>Pressure3pm</th>\n",
       "      <th>Cloud9am</th>\n",
       "      <th>Cloud3pm</th>\n",
       "      <th>Temp9am</th>\n",
       "      <th>Temp3pm</th>\n",
       "      <th>RISK_MM</th>\n",
       "      <th>Year</th>\n",
       "      <th>Month</th>\n",
       "      <th>Day</th>\n",
       "    </tr>\n",
       "  </thead>\n",
       "  <tbody>\n",
       "    <tr>\n",
       "      <th>count</th>\n",
       "      <td>139028.000000</td>\n",
       "      <td>139028.000000</td>\n",
       "      <td>137804.000000</td>\n",
       "      <td>79203.000000</td>\n",
       "      <td>72257.000000</td>\n",
       "      <td>130802.000000</td>\n",
       "      <td>138025.000000</td>\n",
       "      <td>136765.000000</td>\n",
       "      <td>137645.000000</td>\n",
       "      <td>135847.000000</td>\n",
       "      <td>125631.00000</td>\n",
       "      <td>125647.000000</td>\n",
       "      <td>86175.000000</td>\n",
       "      <td>82836.000000</td>\n",
       "      <td>138498.000000</td>\n",
       "      <td>136712.000000</td>\n",
       "      <td>139028.000000</td>\n",
       "      <td>139028.000000</td>\n",
       "      <td>139028.000000</td>\n",
       "      <td>139028.000000</td>\n",
       "    </tr>\n",
       "    <tr>\n",
       "      <th>mean</th>\n",
       "      <td>12.180065</td>\n",
       "      <td>23.231515</td>\n",
       "      <td>2.344676</td>\n",
       "      <td>5.475485</td>\n",
       "      <td>7.619137</td>\n",
       "      <td>39.958869</td>\n",
       "      <td>14.015222</td>\n",
       "      <td>18.637502</td>\n",
       "      <td>68.883040</td>\n",
       "      <td>51.508153</td>\n",
       "      <td>1017.68582</td>\n",
       "      <td>1015.291927</td>\n",
       "      <td>4.439930</td>\n",
       "      <td>4.507412</td>\n",
       "      <td>16.986168</td>\n",
       "      <td>21.691029</td>\n",
       "      <td>2.354113</td>\n",
       "      <td>2012.838313</td>\n",
       "      <td>6.358014</td>\n",
       "      <td>15.715093</td>\n",
       "    </tr>\n",
       "    <tr>\n",
       "      <th>std</th>\n",
       "      <td>6.401752</td>\n",
       "      <td>7.122875</td>\n",
       "      <td>8.439592</td>\n",
       "      <td>4.213826</td>\n",
       "      <td>3.784955</td>\n",
       "      <td>13.588626</td>\n",
       "      <td>8.893001</td>\n",
       "      <td>8.804739</td>\n",
       "      <td>19.092048</td>\n",
       "      <td>20.830527</td>\n",
       "      <td>7.08664</td>\n",
       "      <td>7.020778</td>\n",
       "      <td>2.888954</td>\n",
       "      <td>2.722923</td>\n",
       "      <td>6.493426</td>\n",
       "      <td>6.942628</td>\n",
       "      <td>8.460773</td>\n",
       "      <td>2.483132</td>\n",
       "      <td>3.415461</td>\n",
       "      <td>8.798441</td>\n",
       "    </tr>\n",
       "    <tr>\n",
       "      <th>min</th>\n",
       "      <td>-8.500000</td>\n",
       "      <td>-4.800000</td>\n",
       "      <td>0.000000</td>\n",
       "      <td>0.000000</td>\n",
       "      <td>0.000000</td>\n",
       "      <td>6.000000</td>\n",
       "      <td>0.000000</td>\n",
       "      <td>0.000000</td>\n",
       "      <td>0.000000</td>\n",
       "      <td>0.000000</td>\n",
       "      <td>980.50000</td>\n",
       "      <td>977.100000</td>\n",
       "      <td>0.000000</td>\n",
       "      <td>0.000000</td>\n",
       "      <td>-7.200000</td>\n",
       "      <td>-5.400000</td>\n",
       "      <td>0.000000</td>\n",
       "      <td>2009.000000</td>\n",
       "      <td>1.000000</td>\n",
       "      <td>1.000000</td>\n",
       "    </tr>\n",
       "    <tr>\n",
       "      <th>25%</th>\n",
       "      <td>7.600000</td>\n",
       "      <td>17.900000</td>\n",
       "      <td>0.000000</td>\n",
       "      <td>2.600000</td>\n",
       "      <td>4.900000</td>\n",
       "      <td>31.000000</td>\n",
       "      <td>7.000000</td>\n",
       "      <td>13.000000</td>\n",
       "      <td>57.000000</td>\n",
       "      <td>37.000000</td>\n",
       "      <td>1013.00000</td>\n",
       "      <td>1010.500000</td>\n",
       "      <td>1.000000</td>\n",
       "      <td>2.000000</td>\n",
       "      <td>12.300000</td>\n",
       "      <td>16.600000</td>\n",
       "      <td>0.000000</td>\n",
       "      <td>2011.000000</td>\n",
       "      <td>3.000000</td>\n",
       "      <td>8.000000</td>\n",
       "    </tr>\n",
       "    <tr>\n",
       "      <th>50%</th>\n",
       "      <td>12.000000</td>\n",
       "      <td>22.600000</td>\n",
       "      <td>0.000000</td>\n",
       "      <td>4.800000</td>\n",
       "      <td>8.500000</td>\n",
       "      <td>39.000000</td>\n",
       "      <td>13.000000</td>\n",
       "      <td>19.000000</td>\n",
       "      <td>70.000000</td>\n",
       "      <td>52.000000</td>\n",
       "      <td>1017.70000</td>\n",
       "      <td>1015.300000</td>\n",
       "      <td>5.000000</td>\n",
       "      <td>5.000000</td>\n",
       "      <td>16.700000</td>\n",
       "      <td>21.100000</td>\n",
       "      <td>0.000000</td>\n",
       "      <td>2013.000000</td>\n",
       "      <td>6.000000</td>\n",
       "      <td>16.000000</td>\n",
       "    </tr>\n",
       "    <tr>\n",
       "      <th>75%</th>\n",
       "      <td>16.800000</td>\n",
       "      <td>28.200000</td>\n",
       "      <td>0.800000</td>\n",
       "      <td>7.400000</td>\n",
       "      <td>10.600000</td>\n",
       "      <td>48.000000</td>\n",
       "      <td>19.000000</td>\n",
       "      <td>24.000000</td>\n",
       "      <td>83.000000</td>\n",
       "      <td>66.000000</td>\n",
       "      <td>1022.40000</td>\n",
       "      <td>1020.000000</td>\n",
       "      <td>7.000000</td>\n",
       "      <td>7.000000</td>\n",
       "      <td>21.600000</td>\n",
       "      <td>26.400000</td>\n",
       "      <td>0.800000</td>\n",
       "      <td>2015.000000</td>\n",
       "      <td>9.000000</td>\n",
       "      <td>23.000000</td>\n",
       "    </tr>\n",
       "    <tr>\n",
       "      <th>max</th>\n",
       "      <td>33.900000</td>\n",
       "      <td>48.100000</td>\n",
       "      <td>371.000000</td>\n",
       "      <td>145.000000</td>\n",
       "      <td>14.500000</td>\n",
       "      <td>135.000000</td>\n",
       "      <td>130.000000</td>\n",
       "      <td>87.000000</td>\n",
       "      <td>100.000000</td>\n",
       "      <td>100.000000</td>\n",
       "      <td>1041.00000</td>\n",
       "      <td>1039.600000</td>\n",
       "      <td>9.000000</td>\n",
       "      <td>9.000000</td>\n",
       "      <td>40.200000</td>\n",
       "      <td>46.700000</td>\n",
       "      <td>371.000000</td>\n",
       "      <td>2017.000000</td>\n",
       "      <td>12.000000</td>\n",
       "      <td>31.000000</td>\n",
       "    </tr>\n",
       "  </tbody>\n",
       "</table>\n",
       "</div>"
      ],
      "text/plain": [
       "             MinTemp        MaxTemp       Rainfall   Evaporation  \\\n",
       "count  139028.000000  139028.000000  137804.000000  79203.000000   \n",
       "mean       12.180065      23.231515       2.344676      5.475485   \n",
       "std         6.401752       7.122875       8.439592      4.213826   \n",
       "min        -8.500000      -4.800000       0.000000      0.000000   \n",
       "25%         7.600000      17.900000       0.000000      2.600000   \n",
       "50%        12.000000      22.600000       0.000000      4.800000   \n",
       "75%        16.800000      28.200000       0.800000      7.400000   \n",
       "max        33.900000      48.100000     371.000000    145.000000   \n",
       "\n",
       "           Sunshine  WindGustSpeed   WindSpeed9am   WindSpeed3pm  \\\n",
       "count  72257.000000  130802.000000  138025.000000  136765.000000   \n",
       "mean       7.619137      39.958869      14.015222      18.637502   \n",
       "std        3.784955      13.588626       8.893001       8.804739   \n",
       "min        0.000000       6.000000       0.000000       0.000000   \n",
       "25%        4.900000      31.000000       7.000000      13.000000   \n",
       "50%        8.500000      39.000000      13.000000      19.000000   \n",
       "75%       10.600000      48.000000      19.000000      24.000000   \n",
       "max       14.500000     135.000000     130.000000      87.000000   \n",
       "\n",
       "         Humidity9am    Humidity3pm   Pressure9am    Pressure3pm  \\\n",
       "count  137645.000000  135847.000000  125631.00000  125647.000000   \n",
       "mean       68.883040      51.508153    1017.68582    1015.291927   \n",
       "std        19.092048      20.830527       7.08664       7.020778   \n",
       "min         0.000000       0.000000     980.50000     977.100000   \n",
       "25%        57.000000      37.000000    1013.00000    1010.500000   \n",
       "50%        70.000000      52.000000    1017.70000    1015.300000   \n",
       "75%        83.000000      66.000000    1022.40000    1020.000000   \n",
       "max       100.000000     100.000000    1041.00000    1039.600000   \n",
       "\n",
       "           Cloud9am      Cloud3pm        Temp9am        Temp3pm  \\\n",
       "count  86175.000000  82836.000000  138498.000000  136712.000000   \n",
       "mean       4.439930      4.507412      16.986168      21.691029   \n",
       "std        2.888954      2.722923       6.493426       6.942628   \n",
       "min        0.000000      0.000000      -7.200000      -5.400000   \n",
       "25%        1.000000      2.000000      12.300000      16.600000   \n",
       "50%        5.000000      5.000000      16.700000      21.100000   \n",
       "75%        7.000000      7.000000      21.600000      26.400000   \n",
       "max        9.000000      9.000000      40.200000      46.700000   \n",
       "\n",
       "             RISK_MM           Year          Month            Day  \n",
       "count  139028.000000  139028.000000  139028.000000  139028.000000  \n",
       "mean        2.354113    2012.838313       6.358014      15.715093  \n",
       "std         8.460773       2.483132       3.415461       8.798441  \n",
       "min         0.000000    2009.000000       1.000000       1.000000  \n",
       "25%         0.000000    2011.000000       3.000000       8.000000  \n",
       "50%         0.000000    2013.000000       6.000000      16.000000  \n",
       "75%         0.800000    2015.000000       9.000000      23.000000  \n",
       "max       371.000000    2017.000000      12.000000      31.000000  "
      ]
     },
     "execution_count": 122,
     "metadata": {},
     "output_type": "execute_result"
    }
   ],
   "source": [
    "df_copy.describe()"
   ]
  },
  {
   "cell_type": "code",
   "execution_count": 123,
   "metadata": {},
   "outputs": [
    {
     "data": {
      "text/plain": [
       "<AxesSubplot:xlabel='Rainfall', ylabel='Count'>"
      ]
     },
     "execution_count": 123,
     "metadata": {},
     "output_type": "execute_result"
    },
    {
     "data": {
      "image/png": "[encoded data removed]",
      "text/plain": [
       "<Figure size 1080x720 with 1 Axes>"
      ]
     },
     "metadata": {},
     "output_type": "display_data"
    }
   ],
   "source": [
    "sns.histplot(data=df_copy, x='Rainfall', bins=10)"
   ]
  },
  {
   "cell_type": "code",
   "execution_count": 124,
   "metadata": {},
   "outputs": [
    {
     "data": {
      "text/plain": [
       "<seaborn.axisgrid.FacetGrid at 0x254b1318460>"
      ]
     },
     "execution_count": 124,
     "metadata": {},
     "output_type": "execute_result"
    },
    {
     "data": {
      "image/png": "[encoded data removed]",
      "text/plain": [
       "<Figure size 360x360 with 1 Axes>"
      ]
     },
     "metadata": {},
     "output_type": "display_data"
    }
   ],
   "source": [
    "sns.catplot(data=df_copy, x='RainTomorrow', y='Rainfall', kind='box')"
   ]
  },
  {
   "cell_type": "markdown",
   "metadata": {},
   "source": [
    "### Dropping missing values"
   ]
  },
  {
   "cell_type": "code",
   "execution_count": 125,
   "metadata": {},
   "outputs": [
    {
     "name": "stdout",
     "output_type": "stream",
     "text": [
      "<class 'pandas.core.frame.DataFrame'>\n",
      "Int64Index: 137804 entries, 30 to 142192\n",
      "Data columns (total 26 columns):\n",
      " #   Column         Non-Null Count   Dtype  \n",
      "---  ------         --------------   -----  \n",
      " 0   Location       137804 non-null  object \n",
      " 1   MinTemp        137804 non-null  float64\n",
      " 2   MaxTemp        137804 non-null  float64\n",
      " 3   Rainfall       137804 non-null  float64\n",
      " 4   Evaporation    78966 non-null   float64\n",
      " 5   Sunshine       71893 non-null   float64\n",
      " 6   WindGustDir    129629 non-null  object \n",
      " 7   WindGustSpeed  129684 non-null  float64\n",
      " 8   WindDir9am     128566 non-null  object \n",
      " 9   WindDir3pm     134484 non-null  object \n",
      " 10  WindSpeed9am   136984 non-null  float64\n",
      " 11  WindSpeed3pm   135581 non-null  float64\n",
      " 12  Humidity9am    136556 non-null  float64\n",
      " 13  Humidity3pm    134659 non-null  float64\n",
      " 14  Pressure9am    124586 non-null  float64\n",
      " 15  Pressure3pm    124555 non-null  float64\n",
      " 16  Cloud9am       85817 non-null   float64\n",
      " 17  Cloud3pm       82460 non-null   float64\n",
      " 18  Temp9am        137400 non-null  float64\n",
      " 19  Temp3pm        135517 non-null  float64\n",
      " 20  RainToday      137804 non-null  object \n",
      " 21  RISK_MM        137804 non-null  float64\n",
      " 22  RainTomorrow   137804 non-null  object \n",
      " 23  Year           137804 non-null  int64  \n",
      " 24  Month          137804 non-null  int64  \n",
      " 25  Day            137804 non-null  int64  \n",
      "dtypes: float64(17), int64(3), object(6)\n",
      "memory usage: 28.4+ MB\n"
     ]
    }
   ],
   "source": [
    "df_copy = df_copy.dropna(subset='Rainfall')\n",
    "df_copy.info()"
   ]
  },
  {
   "cell_type": "markdown",
   "metadata": {},
   "source": [
    "### Dropping Evaporation"
   ]
  },
  {
   "cell_type": "code",
   "execution_count": 126,
   "metadata": {},
   "outputs": [
    {
     "data": {
      "text/plain": [
       "<seaborn.axisgrid.FacetGrid at 0x254be9bbb80>"
      ]
     },
     "execution_count": 126,
     "metadata": {},
     "output_type": "execute_result"
    },
    {
     "data": {
      "image/png": "[encoded data removed]",
      "text/plain": [
       "<Figure size 360x360 with 1 Axes>"
      ]
     },
     "metadata": {},
     "output_type": "display_data"
    }
   ],
   "source": [
    "sns.catplot(data=df_copy, x='RainTomorrow', y='Evaporation', kind='box')"
   ]
  },
  {
   "cell_type": "code",
   "execution_count": 127,
   "metadata": {},
   "outputs": [
    {
     "data": {
      "text/html": [
       "<div>\n",
       "<style scoped>\n",
       "    .dataframe tbody tr th:only-of-type {\n",
       "        vertical-align: middle;\n",
       "    }\n",
       "\n",
       "    .dataframe tbody tr th {\n",
       "        vertical-align: top;\n",
       "    }\n",
       "\n",
       "    .dataframe thead th {\n",
       "        text-align: right;\n",
       "    }\n",
       "</style>\n",
       "<table border=\"1\" class=\"dataframe\">\n",
       "  <thead>\n",
       "    <tr style=\"text-align: right;\">\n",
       "      <th></th>\n",
       "      <th>Location</th>\n",
       "      <th>MinTemp</th>\n",
       "      <th>MaxTemp</th>\n",
       "      <th>Rainfall</th>\n",
       "      <th>Sunshine</th>\n",
       "      <th>WindGustDir</th>\n",
       "      <th>WindGustSpeed</th>\n",
       "      <th>WindDir9am</th>\n",
       "      <th>WindDir3pm</th>\n",
       "      <th>WindSpeed9am</th>\n",
       "      <th>...</th>\n",
       "      <th>Cloud9am</th>\n",
       "      <th>Cloud3pm</th>\n",
       "      <th>Temp9am</th>\n",
       "      <th>Temp3pm</th>\n",
       "      <th>RainToday</th>\n",
       "      <th>RISK_MM</th>\n",
       "      <th>RainTomorrow</th>\n",
       "      <th>Year</th>\n",
       "      <th>Month</th>\n",
       "      <th>Day</th>\n",
       "    </tr>\n",
       "  </thead>\n",
       "  <tbody>\n",
       "    <tr>\n",
       "      <th>30</th>\n",
       "      <td>Albury</td>\n",
       "      <td>11.3</td>\n",
       "      <td>26.5</td>\n",
       "      <td>0.0</td>\n",
       "      <td>NaN</td>\n",
       "      <td>WNW</td>\n",
       "      <td>56.0</td>\n",
       "      <td>W</td>\n",
       "      <td>WNW</td>\n",
       "      <td>19.0</td>\n",
       "      <td>...</td>\n",
       "      <td>NaN</td>\n",
       "      <td>NaN</td>\n",
       "      <td>19.7</td>\n",
       "      <td>25.7</td>\n",
       "      <td>No</td>\n",
       "      <td>0.0</td>\n",
       "      <td>No</td>\n",
       "      <td>2009</td>\n",
       "      <td>1</td>\n",
       "      <td>1</td>\n",
       "    </tr>\n",
       "    <tr>\n",
       "      <th>31</th>\n",
       "      <td>Albury</td>\n",
       "      <td>9.6</td>\n",
       "      <td>23.9</td>\n",
       "      <td>0.0</td>\n",
       "      <td>NaN</td>\n",
       "      <td>W</td>\n",
       "      <td>41.0</td>\n",
       "      <td>WSW</td>\n",
       "      <td>SSW</td>\n",
       "      <td>19.0</td>\n",
       "      <td>...</td>\n",
       "      <td>NaN</td>\n",
       "      <td>NaN</td>\n",
       "      <td>14.9</td>\n",
       "      <td>22.1</td>\n",
       "      <td>No</td>\n",
       "      <td>0.0</td>\n",
       "      <td>No</td>\n",
       "      <td>2009</td>\n",
       "      <td>1</td>\n",
       "      <td>2</td>\n",
       "    </tr>\n",
       "    <tr>\n",
       "      <th>32</th>\n",
       "      <td>Albury</td>\n",
       "      <td>10.5</td>\n",
       "      <td>28.8</td>\n",
       "      <td>0.0</td>\n",
       "      <td>NaN</td>\n",
       "      <td>SSE</td>\n",
       "      <td>26.0</td>\n",
       "      <td>SSE</td>\n",
       "      <td>E</td>\n",
       "      <td>11.0</td>\n",
       "      <td>...</td>\n",
       "      <td>NaN</td>\n",
       "      <td>NaN</td>\n",
       "      <td>17.1</td>\n",
       "      <td>26.5</td>\n",
       "      <td>No</td>\n",
       "      <td>0.0</td>\n",
       "      <td>No</td>\n",
       "      <td>2009</td>\n",
       "      <td>1</td>\n",
       "      <td>3</td>\n",
       "    </tr>\n",
       "    <tr>\n",
       "      <th>33</th>\n",
       "      <td>Albury</td>\n",
       "      <td>12.3</td>\n",
       "      <td>34.6</td>\n",
       "      <td>0.0</td>\n",
       "      <td>NaN</td>\n",
       "      <td>WNW</td>\n",
       "      <td>37.0</td>\n",
       "      <td>SSE</td>\n",
       "      <td>NW</td>\n",
       "      <td>6.0</td>\n",
       "      <td>...</td>\n",
       "      <td>NaN</td>\n",
       "      <td>NaN</td>\n",
       "      <td>20.7</td>\n",
       "      <td>33.9</td>\n",
       "      <td>No</td>\n",
       "      <td>0.0</td>\n",
       "      <td>No</td>\n",
       "      <td>2009</td>\n",
       "      <td>1</td>\n",
       "      <td>4</td>\n",
       "    </tr>\n",
       "    <tr>\n",
       "      <th>34</th>\n",
       "      <td>Albury</td>\n",
       "      <td>12.9</td>\n",
       "      <td>35.8</td>\n",
       "      <td>0.0</td>\n",
       "      <td>NaN</td>\n",
       "      <td>WNW</td>\n",
       "      <td>41.0</td>\n",
       "      <td>ENE</td>\n",
       "      <td>NW</td>\n",
       "      <td>6.0</td>\n",
       "      <td>...</td>\n",
       "      <td>NaN</td>\n",
       "      <td>NaN</td>\n",
       "      <td>22.4</td>\n",
       "      <td>34.4</td>\n",
       "      <td>No</td>\n",
       "      <td>0.0</td>\n",
       "      <td>No</td>\n",
       "      <td>2009</td>\n",
       "      <td>1</td>\n",
       "      <td>5</td>\n",
       "    </tr>\n",
       "  </tbody>\n",
       "</table>\n",
       "<p>5 rows × 25 columns</p>\n",
       "</div>"
      ],
      "text/plain": [
       "   Location  MinTemp  MaxTemp  Rainfall  Sunshine WindGustDir  WindGustSpeed  \\\n",
       "30   Albury     11.3     26.5       0.0       NaN         WNW           56.0   \n",
       "31   Albury      9.6     23.9       0.0       NaN           W           41.0   \n",
       "32   Albury     10.5     28.8       0.0       NaN         SSE           26.0   \n",
       "33   Albury     12.3     34.6       0.0       NaN         WNW           37.0   \n",
       "34   Albury     12.9     35.8       0.0       NaN         WNW           41.0   \n",
       "\n",
       "   WindDir9am WindDir3pm  WindSpeed9am  ...  Cloud9am  Cloud3pm  Temp9am  \\\n",
       "30          W        WNW          19.0  ...       NaN       NaN     19.7   \n",
       "31        WSW        SSW          19.0  ...       NaN       NaN     14.9   \n",
       "32        SSE          E          11.0  ...       NaN       NaN     17.1   \n",
       "33        SSE         NW           6.0  ...       NaN       NaN     20.7   \n",
       "34        ENE         NW           6.0  ...       NaN       NaN     22.4   \n",
       "\n",
       "    Temp3pm  RainToday  RISK_MM  RainTomorrow  Year  Month Day  \n",
       "30     25.7         No      0.0            No  2009      1   1  \n",
       "31     22.1         No      0.0            No  2009      1   2  \n",
       "32     26.5         No      0.0            No  2009      1   3  \n",
       "33     33.9         No      0.0            No  2009      1   4  \n",
       "34     34.4         No      0.0            No  2009      1   5  \n",
       "\n",
       "[5 rows x 25 columns]"
      ]
     },
     "execution_count": 127,
     "metadata": {},
     "output_type": "execute_result"
    }
   ],
   "source": [
    "df_copy = df_copy.drop('Evaporation', axis=1)\n",
    "df_copy.head()"
   ]
  },
  {
   "cell_type": "code",
   "execution_count": 128,
   "metadata": {},
   "outputs": [
    {
     "data": {
      "text/plain": [
       "<seaborn.axisgrid.FacetGrid at 0x254be9bb580>"
      ]
     },
     "execution_count": 128,
     "metadata": {},
     "output_type": "execute_result"
    },
    {
     "data": {
      "image/png": "[encoded data removed]",
      "text/plain": [
       "<Figure size 360x360 with 1 Axes>"
      ]
     },
     "metadata": {},
     "output_type": "display_data"
    }
   ],
   "source": [
    "sns.catplot(data=df_copy, x='RainTomorrow', y='Sunshine', kind='box')"
   ]
  },
  {
   "cell_type": "markdown",
   "metadata": {},
   "source": [
    "### WindGustDir "
   ]
  },
  {
   "cell_type": "code",
   "execution_count": 129,
   "metadata": {},
   "outputs": [
    {
     "name": "stdout",
     "output_type": "stream",
     "text": [
      "<class 'pandas.core.frame.DataFrame'>\n",
      "Int64Index: 137804 entries, 30 to 142192\n",
      "Data columns (total 25 columns):\n",
      " #   Column         Non-Null Count   Dtype  \n",
      "---  ------         --------------   -----  \n",
      " 0   Location       137804 non-null  object \n",
      " 1   MinTemp        137804 non-null  float64\n",
      " 2   MaxTemp        137804 non-null  float64\n",
      " 3   Rainfall       137804 non-null  float64\n",
      " 4   Sunshine       71893 non-null   float64\n",
      " 5   WindGustDir    129629 non-null  object \n",
      " 6   WindGustSpeed  129684 non-null  float64\n",
      " 7   WindDir9am     128566 non-null  object \n",
      " 8   WindDir3pm     134484 non-null  object \n",
      " 9   WindSpeed9am   136984 non-null  float64\n",
      " 10  WindSpeed3pm   135581 non-null  float64\n",
      " 11  Humidity9am    136556 non-null  float64\n",
      " 12  Humidity3pm    134659 non-null  float64\n",
      " 13  Pressure9am    124586 non-null  float64\n",
      " 14  Pressure3pm    124555 non-null  float64\n",
      " 15  Cloud9am       85817 non-null   float64\n",
      " 16  Cloud3pm       82460 non-null   float64\n",
      " 17  Temp9am        137400 non-null  float64\n",
      " 18  Temp3pm        135517 non-null  float64\n",
      " 19  RainToday      137804 non-null  object \n",
      " 20  RISK_MM        137804 non-null  float64\n",
      " 21  RainTomorrow   137804 non-null  object \n",
      " 22  Year           137804 non-null  int64  \n",
      " 23  Month          137804 non-null  int64  \n",
      " 24  Day            137804 non-null  int64  \n",
      "dtypes: float64(16), int64(3), object(6)\n",
      "memory usage: 27.3+ MB\n"
     ]
    }
   ],
   "source": [
    "df_copy.info()"
   ]
  },
  {
   "cell_type": "code",
   "execution_count": 130,
   "metadata": {},
   "outputs": [
    {
     "data": {
      "text/plain": [
       "array(['W', 'WNW', 'WSW', 'NE', 'NNW', 'N', 'NNE', 'SW', 'ENE', 'SSE',\n",
       "       'S', 'NW', 'SE', 'ESE', nan, 'E', 'SSW'], dtype=object)"
      ]
     },
     "execution_count": 130,
     "metadata": {},
     "output_type": "execute_result"
    }
   ],
   "source": [
    "df['WindGustDir'].unique()"
   ]
  },
  {
   "cell_type": "code",
   "execution_count": 131,
   "metadata": {},
   "outputs": [
    {
     "data": {
      "text/plain": [
       "<seaborn.axisgrid.FacetGrid at 0x254e88db880>"
      ]
     },
     "execution_count": 131,
     "metadata": {},
     "output_type": "execute_result"
    },
    {
     "data": {
      "image/png": "[encoded data removed]",
      "text/plain": [
       "<Figure size 360x360 with 1 Axes>"
      ]
     },
     "metadata": {},
     "output_type": "display_data"
    }
   ],
   "source": [
    "sns.catplot(data=df_copy, y='WindGustDir', kind='count')"
   ]
  },
  {
   "cell_type": "markdown",
   "metadata": {},
   "source": [
    "### Dropping missing values"
   ]
  },
  {
   "cell_type": "code",
   "execution_count": 132,
   "metadata": {},
   "outputs": [
    {
     "name": "stdout",
     "output_type": "stream",
     "text": [
      "<class 'pandas.core.frame.DataFrame'>\n",
      "Int64Index: 129629 entries, 30 to 142192\n",
      "Data columns (total 25 columns):\n",
      " #   Column         Non-Null Count   Dtype  \n",
      "---  ------         --------------   -----  \n",
      " 0   Location       129629 non-null  object \n",
      " 1   MinTemp        129629 non-null  float64\n",
      " 2   MaxTemp        129629 non-null  float64\n",
      " 3   Rainfall       129629 non-null  float64\n",
      " 4   Sunshine       67999 non-null   float64\n",
      " 5   WindGustDir    129629 non-null  object \n",
      " 6   WindGustSpeed  129629 non-null  float64\n",
      " 7   WindDir9am     122463 non-null  object \n",
      " 8   WindDir3pm     128734 non-null  object \n",
      " 9   WindSpeed9am   129550 non-null  float64\n",
      " 10  WindSpeed3pm   129405 non-null  float64\n",
      " 11  Humidity9am    128505 non-null  float64\n",
      " 12  Humidity3pm    127886 non-null  float64\n",
      " 13  Pressure9am    119643 non-null  float64\n",
      " 14  Pressure3pm    119625 non-null  float64\n",
      " 15  Cloud9am       78744 non-null   float64\n",
      " 16  Cloud3pm       76664 non-null   float64\n",
      " 17  Temp9am        129283 non-null  float64\n",
      " 18  Temp3pm        128686 non-null  float64\n",
      " 19  RainToday      129629 non-null  object \n",
      " 20  RISK_MM        129629 non-null  float64\n",
      " 21  RainTomorrow   129629 non-null  object \n",
      " 22  Year           129629 non-null  int64  \n",
      " 23  Month          129629 non-null  int64  \n",
      " 24  Day            129629 non-null  int64  \n",
      "dtypes: float64(16), int64(3), object(6)\n",
      "memory usage: 25.7+ MB\n"
     ]
    }
   ],
   "source": [
    "df_copy = df_copy.dropna(subset='WindGustDir')\n",
    "df_copy.info()"
   ]
  },
  {
   "cell_type": "markdown",
   "metadata": {},
   "source": [
    "### WindGustSpeed"
   ]
  },
  {
   "cell_type": "code",
   "execution_count": 133,
   "metadata": {},
   "outputs": [
    {
     "data": {
      "text/html": [
       "<div>\n",
       "<style scoped>\n",
       "    .dataframe tbody tr th:only-of-type {\n",
       "        vertical-align: middle;\n",
       "    }\n",
       "\n",
       "    .dataframe tbody tr th {\n",
       "        vertical-align: top;\n",
       "    }\n",
       "\n",
       "    .dataframe thead th {\n",
       "        text-align: right;\n",
       "    }\n",
       "</style>\n",
       "<table border=\"1\" class=\"dataframe\">\n",
       "  <thead>\n",
       "    <tr style=\"text-align: right;\">\n",
       "      <th></th>\n",
       "      <th>MinTemp</th>\n",
       "      <th>MaxTemp</th>\n",
       "      <th>Rainfall</th>\n",
       "      <th>Sunshine</th>\n",
       "      <th>WindGustSpeed</th>\n",
       "      <th>WindSpeed9am</th>\n",
       "      <th>WindSpeed3pm</th>\n",
       "      <th>Humidity9am</th>\n",
       "      <th>Humidity3pm</th>\n",
       "      <th>Pressure9am</th>\n",
       "      <th>Pressure3pm</th>\n",
       "      <th>Cloud9am</th>\n",
       "      <th>Cloud3pm</th>\n",
       "      <th>Temp9am</th>\n",
       "      <th>Temp3pm</th>\n",
       "      <th>RISK_MM</th>\n",
       "      <th>Year</th>\n",
       "      <th>Month</th>\n",
       "      <th>Day</th>\n",
       "    </tr>\n",
       "  </thead>\n",
       "  <tbody>\n",
       "    <tr>\n",
       "      <th>count</th>\n",
       "      <td>129629.000000</td>\n",
       "      <td>129629.000000</td>\n",
       "      <td>129629.000000</td>\n",
       "      <td>67999.000000</td>\n",
       "      <td>129629.000000</td>\n",
       "      <td>129550.000000</td>\n",
       "      <td>129405.000000</td>\n",
       "      <td>128505.000000</td>\n",
       "      <td>127886.000000</td>\n",
       "      <td>119643.000000</td>\n",
       "      <td>119625.000000</td>\n",
       "      <td>78744.000000</td>\n",
       "      <td>76664.000000</td>\n",
       "      <td>129283.000000</td>\n",
       "      <td>128686.000000</td>\n",
       "      <td>129629.000000</td>\n",
       "      <td>129629.000000</td>\n",
       "      <td>129629.000000</td>\n",
       "      <td>129629.000000</td>\n",
       "    </tr>\n",
       "    <tr>\n",
       "      <th>mean</th>\n",
       "      <td>12.127987</td>\n",
       "      <td>23.296362</td>\n",
       "      <td>2.321581</td>\n",
       "      <td>7.665038</td>\n",
       "      <td>39.945552</td>\n",
       "      <td>14.179822</td>\n",
       "      <td>18.730706</td>\n",
       "      <td>68.646029</td>\n",
       "      <td>51.102513</td>\n",
       "      <td>1017.668456</td>\n",
       "      <td>1015.258836</td>\n",
       "      <td>4.422140</td>\n",
       "      <td>4.501474</td>\n",
       "      <td>16.977406</td>\n",
       "      <td>21.748164</td>\n",
       "      <td>2.286279</td>\n",
       "      <td>2012.866318</td>\n",
       "      <td>6.356556</td>\n",
       "      <td>15.720001</td>\n",
       "    </tr>\n",
       "    <tr>\n",
       "      <th>std</th>\n",
       "      <td>6.467993</td>\n",
       "      <td>7.207594</td>\n",
       "      <td>8.405625</td>\n",
       "      <td>3.787457</td>\n",
       "      <td>13.578558</td>\n",
       "      <td>8.767109</td>\n",
       "      <td>8.674673</td>\n",
       "      <td>19.295203</td>\n",
       "      <td>20.907987</td>\n",
       "      <td>7.081115</td>\n",
       "      <td>7.013913</td>\n",
       "      <td>2.889634</td>\n",
       "      <td>2.725180</td>\n",
       "      <td>6.572778</td>\n",
       "      <td>7.013953</td>\n",
       "      <td>8.327436</td>\n",
       "      <td>2.476682</td>\n",
       "      <td>3.414558</td>\n",
       "      <td>8.796006</td>\n",
       "    </tr>\n",
       "    <tr>\n",
       "      <th>min</th>\n",
       "      <td>-8.500000</td>\n",
       "      <td>-4.800000</td>\n",
       "      <td>0.000000</td>\n",
       "      <td>0.000000</td>\n",
       "      <td>6.000000</td>\n",
       "      <td>0.000000</td>\n",
       "      <td>0.000000</td>\n",
       "      <td>0.000000</td>\n",
       "      <td>0.000000</td>\n",
       "      <td>980.500000</td>\n",
       "      <td>977.100000</td>\n",
       "      <td>0.000000</td>\n",
       "      <td>0.000000</td>\n",
       "      <td>-7.200000</td>\n",
       "      <td>-5.400000</td>\n",
       "      <td>0.000000</td>\n",
       "      <td>2009.000000</td>\n",
       "      <td>1.000000</td>\n",
       "      <td>1.000000</td>\n",
       "    </tr>\n",
       "    <tr>\n",
       "      <th>25%</th>\n",
       "      <td>7.500000</td>\n",
       "      <td>17.900000</td>\n",
       "      <td>0.000000</td>\n",
       "      <td>4.900000</td>\n",
       "      <td>31.000000</td>\n",
       "      <td>7.000000</td>\n",
       "      <td>13.000000</td>\n",
       "      <td>57.000000</td>\n",
       "      <td>36.000000</td>\n",
       "      <td>1013.000000</td>\n",
       "      <td>1010.500000</td>\n",
       "      <td>1.000000</td>\n",
       "      <td>2.000000</td>\n",
       "      <td>12.200000</td>\n",
       "      <td>16.600000</td>\n",
       "      <td>0.000000</td>\n",
       "      <td>2011.000000</td>\n",
       "      <td>3.000000</td>\n",
       "      <td>8.000000</td>\n",
       "    </tr>\n",
       "    <tr>\n",
       "      <th>50%</th>\n",
       "      <td>11.900000</td>\n",
       "      <td>22.800000</td>\n",
       "      <td>0.000000</td>\n",
       "      <td>8.500000</td>\n",
       "      <td>39.000000</td>\n",
       "      <td>13.000000</td>\n",
       "      <td>19.000000</td>\n",
       "      <td>70.000000</td>\n",
       "      <td>51.000000</td>\n",
       "      <td>1017.600000</td>\n",
       "      <td>1015.200000</td>\n",
       "      <td>5.000000</td>\n",
       "      <td>5.000000</td>\n",
       "      <td>16.700000</td>\n",
       "      <td>21.200000</td>\n",
       "      <td>0.000000</td>\n",
       "      <td>2013.000000</td>\n",
       "      <td>6.000000</td>\n",
       "      <td>16.000000</td>\n",
       "    </tr>\n",
       "    <tr>\n",
       "      <th>75%</th>\n",
       "      <td>16.800000</td>\n",
       "      <td>28.400000</td>\n",
       "      <td>0.600000</td>\n",
       "      <td>10.700000</td>\n",
       "      <td>48.000000</td>\n",
       "      <td>19.000000</td>\n",
       "      <td>24.000000</td>\n",
       "      <td>83.000000</td>\n",
       "      <td>65.000000</td>\n",
       "      <td>1022.400000</td>\n",
       "      <td>1020.000000</td>\n",
       "      <td>7.000000</td>\n",
       "      <td>7.000000</td>\n",
       "      <td>21.600000</td>\n",
       "      <td>26.600000</td>\n",
       "      <td>0.600000</td>\n",
       "      <td>2015.000000</td>\n",
       "      <td>9.000000</td>\n",
       "      <td>23.000000</td>\n",
       "    </tr>\n",
       "    <tr>\n",
       "      <th>max</th>\n",
       "      <td>33.900000</td>\n",
       "      <td>48.100000</td>\n",
       "      <td>367.600000</td>\n",
       "      <td>14.500000</td>\n",
       "      <td>135.000000</td>\n",
       "      <td>87.000000</td>\n",
       "      <td>87.000000</td>\n",
       "      <td>100.000000</td>\n",
       "      <td>100.000000</td>\n",
       "      <td>1041.000000</td>\n",
       "      <td>1039.600000</td>\n",
       "      <td>9.000000</td>\n",
       "      <td>9.000000</td>\n",
       "      <td>40.200000</td>\n",
       "      <td>46.700000</td>\n",
       "      <td>371.000000</td>\n",
       "      <td>2017.000000</td>\n",
       "      <td>12.000000</td>\n",
       "      <td>31.000000</td>\n",
       "    </tr>\n",
       "  </tbody>\n",
       "</table>\n",
       "</div>"
      ],
      "text/plain": [
       "             MinTemp        MaxTemp       Rainfall      Sunshine  \\\n",
       "count  129629.000000  129629.000000  129629.000000  67999.000000   \n",
       "mean       12.127987      23.296362       2.321581      7.665038   \n",
       "std         6.467993       7.207594       8.405625      3.787457   \n",
       "min        -8.500000      -4.800000       0.000000      0.000000   \n",
       "25%         7.500000      17.900000       0.000000      4.900000   \n",
       "50%        11.900000      22.800000       0.000000      8.500000   \n",
       "75%        16.800000      28.400000       0.600000     10.700000   \n",
       "max        33.900000      48.100000     367.600000     14.500000   \n",
       "\n",
       "       WindGustSpeed   WindSpeed9am   WindSpeed3pm    Humidity9am  \\\n",
       "count  129629.000000  129550.000000  129405.000000  128505.000000   \n",
       "mean       39.945552      14.179822      18.730706      68.646029   \n",
       "std        13.578558       8.767109       8.674673      19.295203   \n",
       "min         6.000000       0.000000       0.000000       0.000000   \n",
       "25%        31.000000       7.000000      13.000000      57.000000   \n",
       "50%        39.000000      13.000000      19.000000      70.000000   \n",
       "75%        48.000000      19.000000      24.000000      83.000000   \n",
       "max       135.000000      87.000000      87.000000     100.000000   \n",
       "\n",
       "         Humidity3pm    Pressure9am    Pressure3pm      Cloud9am  \\\n",
       "count  127886.000000  119643.000000  119625.000000  78744.000000   \n",
       "mean       51.102513    1017.668456    1015.258836      4.422140   \n",
       "std        20.907987       7.081115       7.013913      2.889634   \n",
       "min         0.000000     980.500000     977.100000      0.000000   \n",
       "25%        36.000000    1013.000000    1010.500000      1.000000   \n",
       "50%        51.000000    1017.600000    1015.200000      5.000000   \n",
       "75%        65.000000    1022.400000    1020.000000      7.000000   \n",
       "max       100.000000    1041.000000    1039.600000      9.000000   \n",
       "\n",
       "           Cloud3pm        Temp9am        Temp3pm        RISK_MM  \\\n",
       "count  76664.000000  129283.000000  128686.000000  129629.000000   \n",
       "mean       4.501474      16.977406      21.748164       2.286279   \n",
       "std        2.725180       6.572778       7.013953       8.327436   \n",
       "min        0.000000      -7.200000      -5.400000       0.000000   \n",
       "25%        2.000000      12.200000      16.600000       0.000000   \n",
       "50%        5.000000      16.700000      21.200000       0.000000   \n",
       "75%        7.000000      21.600000      26.600000       0.600000   \n",
       "max        9.000000      40.200000      46.700000     371.000000   \n",
       "\n",
       "                Year          Month            Day  \n",
       "count  129629.000000  129629.000000  129629.000000  \n",
       "mean     2012.866318       6.356556      15.720001  \n",
       "std         2.476682       3.414558       8.796006  \n",
       "min      2009.000000       1.000000       1.000000  \n",
       "25%      2011.000000       3.000000       8.000000  \n",
       "50%      2013.000000       6.000000      16.000000  \n",
       "75%      2015.000000       9.000000      23.000000  \n",
       "max      2017.000000      12.000000      31.000000  "
      ]
     },
     "execution_count": 133,
     "metadata": {},
     "output_type": "execute_result"
    }
   ],
   "source": [
    "df_copy.describe()"
   ]
  },
  {
   "cell_type": "code",
   "execution_count": 134,
   "metadata": {},
   "outputs": [
    {
     "data": {
      "text/plain": [
       "<AxesSubplot:xlabel='WindGustSpeed', ylabel='Count'>"
      ]
     },
     "execution_count": 134,
     "metadata": {},
     "output_type": "execute_result"
    },
    {
     "data": {
      "image/png": "[encoded data removed]",
      "text/plain": [
       "<Figure size 1080x720 with 1 Axes>"
      ]
     },
     "metadata": {},
     "output_type": "display_data"
    }
   ],
   "source": [
    "sns.histplot(data=df_copy, x='WindGustSpeed', bins=20)"
   ]
  },
  {
   "cell_type": "code",
   "execution_count": 135,
   "metadata": {},
   "outputs": [
    {
     "data": {
      "text/plain": [
       "<seaborn.axisgrid.FacetGrid at 0x254e396f250>"
      ]
     },
     "execution_count": 135,
     "metadata": {},
     "output_type": "execute_result"
    },
    {
     "data": {
      "image/png": "[encoded data removed]",
      "text/plain": [
       "<Figure size 360x360 with 1 Axes>"
      ]
     },
     "metadata": {},
     "output_type": "display_data"
    }
   ],
   "source": [
    "sns.catplot(data=df_copy, x='RainTomorrow', y='WindGustSpeed', kind='box')"
   ]
  },
  {
   "cell_type": "code",
   "execution_count": 136,
   "metadata": {},
   "outputs": [
    {
     "name": "stdout",
     "output_type": "stream",
     "text": [
      "<class 'pandas.core.frame.DataFrame'>\n",
      "Int64Index: 129629 entries, 30 to 142192\n",
      "Data columns (total 25 columns):\n",
      " #   Column         Non-Null Count   Dtype  \n",
      "---  ------         --------------   -----  \n",
      " 0   Location       129629 non-null  object \n",
      " 1   MinTemp        129629 non-null  float64\n",
      " 2   MaxTemp        129629 non-null  float64\n",
      " 3   Rainfall       129629 non-null  float64\n",
      " 4   Sunshine       67999 non-null   float64\n",
      " 5   WindGustDir    129629 non-null  object \n",
      " 6   WindGustSpeed  129629 non-null  float64\n",
      " 7   WindDir9am     122463 non-null  object \n",
      " 8   WindDir3pm     128734 non-null  object \n",
      " 9   WindSpeed9am   129550 non-null  float64\n",
      " 10  WindSpeed3pm   129405 non-null  float64\n",
      " 11  Humidity9am    128505 non-null  float64\n",
      " 12  Humidity3pm    127886 non-null  float64\n",
      " 13  Pressure9am    119643 non-null  float64\n",
      " 14  Pressure3pm    119625 non-null  float64\n",
      " 15  Cloud9am       78744 non-null   float64\n",
      " 16  Cloud3pm       76664 non-null   float64\n",
      " 17  Temp9am        129283 non-null  float64\n",
      " 18  Temp3pm        128686 non-null  float64\n",
      " 19  RainToday      129629 non-null  object \n",
      " 20  RISK_MM        129629 non-null  float64\n",
      " 21  RainTomorrow   129629 non-null  object \n",
      " 22  Year           129629 non-null  int64  \n",
      " 23  Month          129629 non-null  int64  \n",
      " 24  Day            129629 non-null  int64  \n",
      "dtypes: float64(16), int64(3), object(6)\n",
      "memory usage: 25.7+ MB\n"
     ]
    }
   ],
   "source": [
    "df_copy.info()"
   ]
  },
  {
   "cell_type": "markdown",
   "metadata": {},
   "source": [
    "### WindDir 9am/3pm"
   ]
  },
  {
   "cell_type": "code",
   "execution_count": 137,
   "metadata": {},
   "outputs": [
    {
     "data": {
      "text/plain": [
       "array(['W', 'NNW', 'SE', 'ENE', 'SW', 'SSE', 'S', 'NE', nan, 'SSW', 'N',\n",
       "       'WSW', 'ESE', 'E', 'NW', 'WNW', 'NNE'], dtype=object)"
      ]
     },
     "execution_count": 137,
     "metadata": {},
     "output_type": "execute_result"
    }
   ],
   "source": [
    "df['WindDir9am'].unique()"
   ]
  },
  {
   "cell_type": "code",
   "execution_count": 138,
   "metadata": {},
   "outputs": [
    {
     "data": {
      "text/plain": [
       "array(['WNW', 'WSW', 'E', 'NW', 'W', 'SSE', 'ESE', 'ENE', 'NNW', 'SSW',\n",
       "       'SW', 'SE', 'N', 'S', 'NNE', nan, 'NE'], dtype=object)"
      ]
     },
     "execution_count": 138,
     "metadata": {},
     "output_type": "execute_result"
    }
   ],
   "source": [
    "df['WindDir3pm'].unique()"
   ]
  },
  {
   "cell_type": "markdown",
   "metadata": {},
   "source": [
    "### Dropping missing values"
   ]
  },
  {
   "cell_type": "code",
   "execution_count": 139,
   "metadata": {
    "scrolled": true
   },
   "outputs": [
    {
     "name": "stdout",
     "output_type": "stream",
     "text": [
      "<class 'pandas.core.frame.DataFrame'>\n",
      "Int64Index: 121802 entries, 30 to 142192\n",
      "Data columns (total 25 columns):\n",
      " #   Column         Non-Null Count   Dtype  \n",
      "---  ------         --------------   -----  \n",
      " 0   Location       121802 non-null  object \n",
      " 1   MinTemp        121802 non-null  float64\n",
      " 2   MaxTemp        121802 non-null  float64\n",
      " 3   Rainfall       121802 non-null  float64\n",
      " 4   Sunshine       65513 non-null   float64\n",
      " 5   WindGustDir    121802 non-null  object \n",
      " 6   WindGustSpeed  121802 non-null  float64\n",
      " 7   WindDir9am     121802 non-null  object \n",
      " 8   WindDir3pm     121802 non-null  object \n",
      " 9   WindSpeed9am   121802 non-null  float64\n",
      " 10  WindSpeed3pm   121802 non-null  float64\n",
      " 11  Humidity9am    120828 non-null  float64\n",
      " 12  Humidity3pm    120326 non-null  float64\n",
      " 13  Pressure9am    112719 non-null  float64\n",
      " 14  Pressure3pm    112768 non-null  float64\n",
      " 15  Cloud9am       75925 non-null   float64\n",
      " 16  Cloud3pm       73945 non-null   float64\n",
      " 17  Temp9am        121489 non-null  float64\n",
      " 18  Temp3pm        121042 non-null  float64\n",
      " 19  RainToday      121802 non-null  object \n",
      " 20  RISK_MM        121802 non-null  float64\n",
      " 21  RainTomorrow   121802 non-null  object \n",
      " 22  Year           121802 non-null  int64  \n",
      " 23  Month          121802 non-null  int64  \n",
      " 24  Day            121802 non-null  int64  \n",
      "dtypes: float64(16), int64(3), object(6)\n",
      "memory usage: 24.2+ MB\n"
     ]
    }
   ],
   "source": [
    "df_copy = df_copy.dropna(subset=['WindDir9am', 'WindDir3pm'])\n",
    "df_copy.info()"
   ]
  },
  {
   "cell_type": "markdown",
   "metadata": {},
   "source": [
    "### WindSpeed 9am/3pm"
   ]
  },
  {
   "cell_type": "code",
   "execution_count": 140,
   "metadata": {},
   "outputs": [
    {
     "data": {
      "text/plain": [
       "<AxesSubplot:xlabel='WindSpeed9am', ylabel='Count'>"
      ]
     },
     "execution_count": 140,
     "metadata": {},
     "output_type": "execute_result"
    },
    {
     "data": {
      "image/png": "[encoded data removed]",
      "text/plain": [
       "<Figure size 1080x720 with 1 Axes>"
      ]
     },
     "metadata": {},
     "output_type": "display_data"
    }
   ],
   "source": [
    "sns.histplot(data=df_copy, x='WindSpeed9am', bins=20)"
   ]
  },
  {
   "cell_type": "code",
   "execution_count": 141,
   "metadata": {},
   "outputs": [
    {
     "data": {
      "text/plain": [
       "<seaborn.axisgrid.FacetGrid at 0x254e9c13790>"
      ]
     },
     "execution_count": 141,
     "metadata": {},
     "output_type": "execute_result"
    },
    {
     "data": {
      "image/png": "[encoded data removed]",
      "text/plain": [
       "<Figure size 360x360 with 1 Axes>"
      ]
     },
     "metadata": {},
     "output_type": "display_data"
    }
   ],
   "source": [
    "sns.catplot(data=df_copy, x='RainTomorrow', y='WindSpeed9am', kind='box')"
   ]
  },
  {
   "cell_type": "code",
   "execution_count": 142,
   "metadata": {},
   "outputs": [
    {
     "data": {
      "text/plain": [
       "<AxesSubplot:xlabel='WindSpeed3pm', ylabel='Count'>"
      ]
     },
     "execution_count": 142,
     "metadata": {},
     "output_type": "execute_result"
    },
    {
     "data": {
      "image/png": "[encoded data removed]",
      "text/plain": [
       "<Figure size 1080x720 with 1 Axes>"
      ]
     },
     "metadata": {},
     "output_type": "display_data"
    }
   ],
   "source": [
    "sns.histplot(data=df_copy, x='WindSpeed3pm', bins=20)"
   ]
  },
  {
   "cell_type": "code",
   "execution_count": 143,
   "metadata": {},
   "outputs": [
    {
     "data": {
      "text/plain": [
       "<seaborn.axisgrid.FacetGrid at 0x254c7771880>"
      ]
     },
     "execution_count": 143,
     "metadata": {},
     "output_type": "execute_result"
    },
    {
     "data": {
      "image/png": "[encoded data removed]",
      "text/plain": [
       "<Figure size 360x360 with 1 Axes>"
      ]
     },
     "metadata": {},
     "output_type": "display_data"
    }
   ],
   "source": [
    "sns.catplot(data=df_copy, x='RainTomorrow', y='WindSpeed3pm', kind='box')"
   ]
  },
  {
   "cell_type": "markdown",
   "metadata": {},
   "source": [
    "### Humidity 3pm/9am"
   ]
  },
  {
   "cell_type": "code",
   "execution_count": 144,
   "metadata": {},
   "outputs": [
    {
     "data": {
      "text/plain": [
       "<AxesSubplot:xlabel='Humidity9am', ylabel='Count'>"
      ]
     },
     "execution_count": 144,
     "metadata": {},
     "output_type": "execute_result"
    },
    {
     "data": {
      "image/png": "[encoded data removed]",
      "text/plain": [
       "<Figure size 1080x720 with 1 Axes>"
      ]
     },
     "metadata": {},
     "output_type": "display_data"
    }
   ],
   "source": [
    "sns.histplot(data=df_copy, x='Humidity9am', bins=30)"
   ]
  },
  {
   "cell_type": "code",
   "execution_count": 145,
   "metadata": {},
   "outputs": [
    {
     "data": {
      "text/plain": [
       "<seaborn.axisgrid.FacetGrid at 0x254cd188fd0>"
      ]
     },
     "execution_count": 145,
     "metadata": {},
     "output_type": "execute_result"
    },
    {
     "data": {
      "image/png": "[encoded data removed]",
      "text/plain": [
       "<Figure size 360x360 with 1 Axes>"
      ]
     },
     "metadata": {},
     "output_type": "display_data"
    }
   ],
   "source": [
    "sns.catplot(data=df_copy, x='RainTomorrow', y='Humidity9am', kind='box')"
   ]
  },
  {
   "cell_type": "code",
   "execution_count": 146,
   "metadata": {},
   "outputs": [
    {
     "data": {
      "text/plain": [
       "<AxesSubplot:xlabel='Humidity3pm', ylabel='Count'>"
      ]
     },
     "execution_count": 146,
     "metadata": {},
     "output_type": "execute_result"
    },
    {
     "data": {
      "image/png": "[encoded data removed]",
      "text/plain": [
       "<Figure size 1080x720 with 1 Axes>"
      ]
     },
     "metadata": {},
     "output_type": "display_data"
    }
   ],
   "source": [
    "sns.histplot(data=df_copy, x='Humidity3pm', bins=30)"
   ]
  },
  {
   "cell_type": "code",
   "execution_count": 147,
   "metadata": {},
   "outputs": [
    {
     "data": {
      "text/plain": [
       "<seaborn.axisgrid.FacetGrid at 0x254ebe62af0>"
      ]
     },
     "execution_count": 147,
     "metadata": {},
     "output_type": "execute_result"
    },
    {
     "data": {
      "image/png": "[encoded data removed]",
      "text/plain": [
       "<Figure size 360x360 with 1 Axes>"
      ]
     },
     "metadata": {},
     "output_type": "display_data"
    }
   ],
   "source": [
    "sns.catplot(data=df_copy, x='RainTomorrow', y='Humidity3pm', kind='box')"
   ]
  },
  {
   "cell_type": "markdown",
   "metadata": {},
   "source": [
    "### Dropping missing values"
   ]
  },
  {
   "cell_type": "code",
   "execution_count": 148,
   "metadata": {
    "scrolled": true
   },
   "outputs": [
    {
     "name": "stdout",
     "output_type": "stream",
     "text": [
      "<class 'pandas.core.frame.DataFrame'>\n",
      "Int64Index: 120016 entries, 30 to 142192\n",
      "Data columns (total 25 columns):\n",
      " #   Column         Non-Null Count   Dtype  \n",
      "---  ------         --------------   -----  \n",
      " 0   Location       120016 non-null  object \n",
      " 1   MinTemp        120016 non-null  float64\n",
      " 2   MaxTemp        120016 non-null  float64\n",
      " 3   Rainfall       120016 non-null  float64\n",
      " 4   Sunshine       65193 non-null   float64\n",
      " 5   WindGustDir    120016 non-null  object \n",
      " 6   WindGustSpeed  120016 non-null  float64\n",
      " 7   WindDir9am     120016 non-null  object \n",
      " 8   WindDir3pm     120016 non-null  object \n",
      " 9   WindSpeed9am   120016 non-null  float64\n",
      " 10  WindSpeed3pm   120016 non-null  float64\n",
      " 11  Humidity9am    120016 non-null  float64\n",
      " 12  Humidity3pm    120016 non-null  float64\n",
      " 13  Pressure9am    111214 non-null  float64\n",
      " 14  Pressure3pm    111265 non-null  float64\n",
      " 15  Cloud9am       74916 non-null   float64\n",
      " 16  Cloud3pm       73581 non-null   float64\n",
      " 17  Temp9am        120016 non-null  float64\n",
      " 18  Temp3pm        120016 non-null  float64\n",
      " 19  RainToday      120016 non-null  object \n",
      " 20  RISK_MM        120016 non-null  float64\n",
      " 21  RainTomorrow   120016 non-null  object \n",
      " 22  Year           120016 non-null  int64  \n",
      " 23  Month          120016 non-null  int64  \n",
      " 24  Day            120016 non-null  int64  \n",
      "dtypes: float64(16), int64(3), object(6)\n",
      "memory usage: 23.8+ MB\n"
     ]
    }
   ],
   "source": [
    "df_copy = df_copy.dropna(subset=['Humidity9am', 'Humidity3pm'])\n",
    "df_copy.info()"
   ]
  },
  {
   "cell_type": "markdown",
   "metadata": {},
   "source": [
    "### Pressure"
   ]
  },
  {
   "cell_type": "code",
   "execution_count": 149,
   "metadata": {},
   "outputs": [
    {
     "data": {
      "text/html": [
       "<div>\n",
       "<style scoped>\n",
       "    .dataframe tbody tr th:only-of-type {\n",
       "        vertical-align: middle;\n",
       "    }\n",
       "\n",
       "    .dataframe tbody tr th {\n",
       "        vertical-align: top;\n",
       "    }\n",
       "\n",
       "    .dataframe thead th {\n",
       "        text-align: right;\n",
       "    }\n",
       "</style>\n",
       "<table border=\"1\" class=\"dataframe\">\n",
       "  <thead>\n",
       "    <tr style=\"text-align: right;\">\n",
       "      <th></th>\n",
       "      <th>MinTemp</th>\n",
       "      <th>MaxTemp</th>\n",
       "      <th>Rainfall</th>\n",
       "      <th>Sunshine</th>\n",
       "      <th>WindGustSpeed</th>\n",
       "      <th>WindSpeed9am</th>\n",
       "      <th>WindSpeed3pm</th>\n",
       "      <th>Humidity9am</th>\n",
       "      <th>Humidity3pm</th>\n",
       "      <th>Pressure9am</th>\n",
       "      <th>Pressure3pm</th>\n",
       "      <th>Cloud9am</th>\n",
       "      <th>Cloud3pm</th>\n",
       "      <th>Temp9am</th>\n",
       "      <th>Temp3pm</th>\n",
       "      <th>RISK_MM</th>\n",
       "      <th>Year</th>\n",
       "      <th>Month</th>\n",
       "      <th>Day</th>\n",
       "    </tr>\n",
       "  </thead>\n",
       "  <tbody>\n",
       "    <tr>\n",
       "      <th>count</th>\n",
       "      <td>120016.000000</td>\n",
       "      <td>120016.000000</td>\n",
       "      <td>120016.000000</td>\n",
       "      <td>65193.000000</td>\n",
       "      <td>120016.000000</td>\n",
       "      <td>120016.000000</td>\n",
       "      <td>120016.000000</td>\n",
       "      <td>120016.000000</td>\n",
       "      <td>120016.000000</td>\n",
       "      <td>111214.000000</td>\n",
       "      <td>111265.000000</td>\n",
       "      <td>74916.000000</td>\n",
       "      <td>73581.000000</td>\n",
       "      <td>120016.000000</td>\n",
       "      <td>120016.000000</td>\n",
       "      <td>120016.000000</td>\n",
       "      <td>120016.000000</td>\n",
       "      <td>120016.000000</td>\n",
       "      <td>120016.000000</td>\n",
       "    </tr>\n",
       "    <tr>\n",
       "      <th>mean</th>\n",
       "      <td>12.391379</td>\n",
       "      <td>23.443086</td>\n",
       "      <td>2.357949</td>\n",
       "      <td>7.719544</td>\n",
       "      <td>40.668528</td>\n",
       "      <td>15.041653</td>\n",
       "      <td>19.201648</td>\n",
       "      <td>67.742018</td>\n",
       "      <td>50.854436</td>\n",
       "      <td>1017.458572</td>\n",
       "      <td>1015.084683</td>\n",
       "      <td>4.424195</td>\n",
       "      <td>4.496514</td>\n",
       "      <td>17.219990</td>\n",
       "      <td>21.914747</td>\n",
       "      <td>2.310338</td>\n",
       "      <td>2012.859652</td>\n",
       "      <td>6.387990</td>\n",
       "      <td>15.713280</td>\n",
       "    </tr>\n",
       "    <tr>\n",
       "      <th>std</th>\n",
       "      <td>6.329952</td>\n",
       "      <td>7.145401</td>\n",
       "      <td>8.502443</td>\n",
       "      <td>3.780566</td>\n",
       "      <td>13.388251</td>\n",
       "      <td>8.318630</td>\n",
       "      <td>8.590975</td>\n",
       "      <td>19.090525</td>\n",
       "      <td>20.972111</td>\n",
       "      <td>7.012767</td>\n",
       "      <td>6.941722</td>\n",
       "      <td>2.878501</td>\n",
       "      <td>2.720869</td>\n",
       "      <td>6.449757</td>\n",
       "      <td>7.010703</td>\n",
       "      <td>8.428753</td>\n",
       "      <td>2.476476</td>\n",
       "      <td>3.468515</td>\n",
       "      <td>8.787941</td>\n",
       "    </tr>\n",
       "    <tr>\n",
       "      <th>min</th>\n",
       "      <td>-8.500000</td>\n",
       "      <td>-4.800000</td>\n",
       "      <td>0.000000</td>\n",
       "      <td>0.000000</td>\n",
       "      <td>7.000000</td>\n",
       "      <td>2.000000</td>\n",
       "      <td>2.000000</td>\n",
       "      <td>0.000000</td>\n",
       "      <td>0.000000</td>\n",
       "      <td>980.500000</td>\n",
       "      <td>977.100000</td>\n",
       "      <td>0.000000</td>\n",
       "      <td>0.000000</td>\n",
       "      <td>-7.200000</td>\n",
       "      <td>-5.400000</td>\n",
       "      <td>0.000000</td>\n",
       "      <td>2009.000000</td>\n",
       "      <td>1.000000</td>\n",
       "      <td>1.000000</td>\n",
       "    </tr>\n",
       "    <tr>\n",
       "      <th>25%</th>\n",
       "      <td>7.800000</td>\n",
       "      <td>18.100000</td>\n",
       "      <td>0.000000</td>\n",
       "      <td>5.000000</td>\n",
       "      <td>31.000000</td>\n",
       "      <td>9.000000</td>\n",
       "      <td>13.000000</td>\n",
       "      <td>56.000000</td>\n",
       "      <td>36.000000</td>\n",
       "      <td>1012.800000</td>\n",
       "      <td>1010.400000</td>\n",
       "      <td>1.000000</td>\n",
       "      <td>2.000000</td>\n",
       "      <td>12.500000</td>\n",
       "      <td>16.800000</td>\n",
       "      <td>0.000000</td>\n",
       "      <td>2011.000000</td>\n",
       "      <td>3.000000</td>\n",
       "      <td>8.000000</td>\n",
       "    </tr>\n",
       "    <tr>\n",
       "      <th>50%</th>\n",
       "      <td>12.200000</td>\n",
       "      <td>23.000000</td>\n",
       "      <td>0.000000</td>\n",
       "      <td>8.600000</td>\n",
       "      <td>39.000000</td>\n",
       "      <td>13.000000</td>\n",
       "      <td>19.000000</td>\n",
       "      <td>69.000000</td>\n",
       "      <td>51.000000</td>\n",
       "      <td>1017.500000</td>\n",
       "      <td>1015.100000</td>\n",
       "      <td>5.000000</td>\n",
       "      <td>5.000000</td>\n",
       "      <td>16.900000</td>\n",
       "      <td>21.400000</td>\n",
       "      <td>0.000000</td>\n",
       "      <td>2013.000000</td>\n",
       "      <td>6.000000</td>\n",
       "      <td>16.000000</td>\n",
       "    </tr>\n",
       "    <tr>\n",
       "      <th>75%</th>\n",
       "      <td>17.000000</td>\n",
       "      <td>28.500000</td>\n",
       "      <td>0.800000</td>\n",
       "      <td>10.700000</td>\n",
       "      <td>48.000000</td>\n",
       "      <td>20.000000</td>\n",
       "      <td>24.000000</td>\n",
       "      <td>82.000000</td>\n",
       "      <td>65.000000</td>\n",
       "      <td>1022.100000</td>\n",
       "      <td>1019.800000</td>\n",
       "      <td>7.000000</td>\n",
       "      <td>7.000000</td>\n",
       "      <td>21.800000</td>\n",
       "      <td>26.800000</td>\n",
       "      <td>0.600000</td>\n",
       "      <td>2015.000000</td>\n",
       "      <td>9.000000</td>\n",
       "      <td>23.000000</td>\n",
       "    </tr>\n",
       "    <tr>\n",
       "      <th>max</th>\n",
       "      <td>33.900000</td>\n",
       "      <td>48.100000</td>\n",
       "      <td>367.600000</td>\n",
       "      <td>14.500000</td>\n",
       "      <td>135.000000</td>\n",
       "      <td>87.000000</td>\n",
       "      <td>87.000000</td>\n",
       "      <td>100.000000</td>\n",
       "      <td>100.000000</td>\n",
       "      <td>1041.000000</td>\n",
       "      <td>1039.600000</td>\n",
       "      <td>9.000000</td>\n",
       "      <td>9.000000</td>\n",
       "      <td>40.200000</td>\n",
       "      <td>46.700000</td>\n",
       "      <td>371.000000</td>\n",
       "      <td>2017.000000</td>\n",
       "      <td>12.000000</td>\n",
       "      <td>31.000000</td>\n",
       "    </tr>\n",
       "  </tbody>\n",
       "</table>\n",
       "</div>"
      ],
      "text/plain": [
       "             MinTemp        MaxTemp       Rainfall      Sunshine  \\\n",
       "count  120016.000000  120016.000000  120016.000000  65193.000000   \n",
       "mean       12.391379      23.443086       2.357949      7.719544   \n",
       "std         6.329952       7.145401       8.502443      3.780566   \n",
       "min        -8.500000      -4.800000       0.000000      0.000000   \n",
       "25%         7.800000      18.100000       0.000000      5.000000   \n",
       "50%        12.200000      23.000000       0.000000      8.600000   \n",
       "75%        17.000000      28.500000       0.800000     10.700000   \n",
       "max        33.900000      48.100000     367.600000     14.500000   \n",
       "\n",
       "       WindGustSpeed   WindSpeed9am   WindSpeed3pm    Humidity9am  \\\n",
       "count  120016.000000  120016.000000  120016.000000  120016.000000   \n",
       "mean       40.668528      15.041653      19.201648      67.742018   \n",
       "std        13.388251       8.318630       8.590975      19.090525   \n",
       "min         7.000000       2.000000       2.000000       0.000000   \n",
       "25%        31.000000       9.000000      13.000000      56.000000   \n",
       "50%        39.000000      13.000000      19.000000      69.000000   \n",
       "75%        48.000000      20.000000      24.000000      82.000000   \n",
       "max       135.000000      87.000000      87.000000     100.000000   \n",
       "\n",
       "         Humidity3pm    Pressure9am    Pressure3pm      Cloud9am  \\\n",
       "count  120016.000000  111214.000000  111265.000000  74916.000000   \n",
       "mean       50.854436    1017.458572    1015.084683      4.424195   \n",
       "std        20.972111       7.012767       6.941722      2.878501   \n",
       "min         0.000000     980.500000     977.100000      0.000000   \n",
       "25%        36.000000    1012.800000    1010.400000      1.000000   \n",
       "50%        51.000000    1017.500000    1015.100000      5.000000   \n",
       "75%        65.000000    1022.100000    1019.800000      7.000000   \n",
       "max       100.000000    1041.000000    1039.600000      9.000000   \n",
       "\n",
       "           Cloud3pm        Temp9am        Temp3pm        RISK_MM  \\\n",
       "count  73581.000000  120016.000000  120016.000000  120016.000000   \n",
       "mean       4.496514      17.219990      21.914747       2.310338   \n",
       "std        2.720869       6.449757       7.010703       8.428753   \n",
       "min        0.000000      -7.200000      -5.400000       0.000000   \n",
       "25%        2.000000      12.500000      16.800000       0.000000   \n",
       "50%        5.000000      16.900000      21.400000       0.000000   \n",
       "75%        7.000000      21.800000      26.800000       0.600000   \n",
       "max        9.000000      40.200000      46.700000     371.000000   \n",
       "\n",
       "                Year          Month            Day  \n",
       "count  120016.000000  120016.000000  120016.000000  \n",
       "mean     2012.859652       6.387990      15.713280  \n",
       "std         2.476476       3.468515       8.787941  \n",
       "min      2009.000000       1.000000       1.000000  \n",
       "25%      2011.000000       3.000000       8.000000  \n",
       "50%      2013.000000       6.000000      16.000000  \n",
       "75%      2015.000000       9.000000      23.000000  \n",
       "max      2017.000000      12.000000      31.000000  "
      ]
     },
     "execution_count": 149,
     "metadata": {},
     "output_type": "execute_result"
    }
   ],
   "source": [
    "df_copy.describe()"
   ]
  },
  {
   "cell_type": "code",
   "execution_count": 150,
   "metadata": {},
   "outputs": [
    {
     "data": {
      "text/plain": [
       "<AxesSubplot:xlabel='Pressure9am', ylabel='Count'>"
      ]
     },
     "execution_count": 150,
     "metadata": {},
     "output_type": "execute_result"
    },
    {
     "data": {
      "image/png": "[encoded data removed]",
      "text/plain": [
       "<Figure size 1080x720 with 1 Axes>"
      ]
     },
     "metadata": {},
     "output_type": "display_data"
    }
   ],
   "source": [
    "sns.histplot(data=df_copy, x='Pressure9am', bins=30)"
   ]
  },
  {
   "cell_type": "code",
   "execution_count": 151,
   "metadata": {},
   "outputs": [
    {
     "data": {
      "text/plain": [
       "<seaborn.axisgrid.FacetGrid at 0x254ec80e520>"
      ]
     },
     "execution_count": 151,
     "metadata": {},
     "output_type": "execute_result"
    },
    {
     "data": {
      "image/png": "[encoded data removed]",
      "text/plain": [
       "<Figure size 360x360 with 1 Axes>"
      ]
     },
     "metadata": {},
     "output_type": "display_data"
    }
   ],
   "source": [
    "sns.catplot(data=df_copy, x='RainTomorrow', y='Pressure9am', kind='box')"
   ]
  },
  {
   "cell_type": "code",
   "execution_count": 152,
   "metadata": {},
   "outputs": [
    {
     "data": {
      "text/plain": [
       "<AxesSubplot:xlabel='Pressure3pm', ylabel='Count'>"
      ]
     },
     "execution_count": 152,
     "metadata": {},
     "output_type": "execute_result"
    },
    {
     "data": {
      "image/png": "[encoded data removed]",
      "text/plain": [
       "<Figure size 1080x720 with 1 Axes>"
      ]
     },
     "metadata": {},
     "output_type": "display_data"
    }
   ],
   "source": [
    "sns.histplot(data=df_copy, x='Pressure3pm', bins=30)"
   ]
  },
  {
   "cell_type": "code",
   "execution_count": 153,
   "metadata": {},
   "outputs": [
    {
     "data": {
      "text/plain": [
       "<seaborn.axisgrid.FacetGrid at 0x254d0cee790>"
      ]
     },
     "execution_count": 153,
     "metadata": {},
     "output_type": "execute_result"
    },
    {
     "data": {
      "image/png": "[encoded data removed]",
      "text/plain": [
       "<Figure size 360x360 with 1 Axes>"
      ]
     },
     "metadata": {},
     "output_type": "display_data"
    }
   ],
   "source": [
    "sns.catplot(data=df_copy, x='RainTomorrow', y='Pressure3pm', kind='box')"
   ]
  },
  {
   "cell_type": "code",
   "execution_count": 154,
   "metadata": {},
   "outputs": [
    {
     "name": "stdout",
     "output_type": "stream",
     "text": [
      "<class 'pandas.core.frame.DataFrame'>\n",
      "Int64Index: 120016 entries, 30 to 142192\n",
      "Data columns (total 25 columns):\n",
      " #   Column         Non-Null Count   Dtype  \n",
      "---  ------         --------------   -----  \n",
      " 0   Location       120016 non-null  object \n",
      " 1   MinTemp        120016 non-null  float64\n",
      " 2   MaxTemp        120016 non-null  float64\n",
      " 3   Rainfall       120016 non-null  float64\n",
      " 4   Sunshine       65193 non-null   float64\n",
      " 5   WindGustDir    120016 non-null  object \n",
      " 6   WindGustSpeed  120016 non-null  float64\n",
      " 7   WindDir9am     120016 non-null  object \n",
      " 8   WindDir3pm     120016 non-null  object \n",
      " 9   WindSpeed9am   120016 non-null  float64\n",
      " 10  WindSpeed3pm   120016 non-null  float64\n",
      " 11  Humidity9am    120016 non-null  float64\n",
      " 12  Humidity3pm    120016 non-null  float64\n",
      " 13  Pressure9am    111214 non-null  float64\n",
      " 14  Pressure3pm    111265 non-null  float64\n",
      " 15  Cloud9am       74916 non-null   float64\n",
      " 16  Cloud3pm       73581 non-null   float64\n",
      " 17  Temp9am        120016 non-null  float64\n",
      " 18  Temp3pm        120016 non-null  float64\n",
      " 19  RainToday      120016 non-null  object \n",
      " 20  RISK_MM        120016 non-null  float64\n",
      " 21  RainTomorrow   120016 non-null  object \n",
      " 22  Year           120016 non-null  int64  \n",
      " 23  Month          120016 non-null  int64  \n",
      " 24  Day            120016 non-null  int64  \n",
      "dtypes: float64(16), int64(3), object(6)\n",
      "memory usage: 23.8+ MB\n"
     ]
    }
   ],
   "source": [
    "df_copy.info()"
   ]
  },
  {
   "cell_type": "markdown",
   "metadata": {},
   "source": [
    "### Filling missing values with their means"
   ]
  },
  {
   "cell_type": "code",
   "execution_count": 155,
   "metadata": {},
   "outputs": [],
   "source": [
    "press_9 = np.mean(df_copy['Pressure9am'])\n",
    "press_3 = np.mean(df_copy['Pressure3pm'])"
   ]
  },
  {
   "cell_type": "code",
   "execution_count": 156,
   "metadata": {},
   "outputs": [
    {
     "name": "stderr",
     "output_type": "stream",
     "text": [
      "C:\\Users\\48666\\AppData\\Local\\Temp\\ipykernel_4588\\4221018152.py:1: SettingWithCopyWarning: \n",
      "A value is trying to be set on a copy of a slice from a DataFrame.\n",
      "Try using .loc[row_indexer,col_indexer] = value instead\n",
      "\n",
      "See the caveats in the documentation: https://pandas.pydata.org/pandas-docs/stable/user_guide/indexing.html#returning-a-view-versus-a-copy\n",
      "  df_copy['Pressure9am'] = df_copy['Pressure9am'].fillna(press_9)\n"
     ]
    }
   ],
   "source": [
    "df_copy['Pressure9am'] = df_copy['Pressure9am'].fillna(press_9)"
   ]
  },
  {
   "cell_type": "code",
   "execution_count": 157,
   "metadata": {},
   "outputs": [
    {
     "name": "stderr",
     "output_type": "stream",
     "text": [
      "C:\\Users\\48666\\AppData\\Local\\Temp\\ipykernel_4588\\505931456.py:1: SettingWithCopyWarning: \n",
      "A value is trying to be set on a copy of a slice from a DataFrame.\n",
      "Try using .loc[row_indexer,col_indexer] = value instead\n",
      "\n",
      "See the caveats in the documentation: https://pandas.pydata.org/pandas-docs/stable/user_guide/indexing.html#returning-a-view-versus-a-copy\n",
      "  df_copy['Pressure3pm'] = df_copy['Pressure3pm'].fillna(press_3)\n"
     ]
    }
   ],
   "source": [
    "df_copy['Pressure3pm'] = df_copy['Pressure3pm'].fillna(press_3)"
   ]
  },
  {
   "cell_type": "code",
   "execution_count": 158,
   "metadata": {
    "scrolled": true
   },
   "outputs": [
    {
     "name": "stdout",
     "output_type": "stream",
     "text": [
      "<class 'pandas.core.frame.DataFrame'>\n",
      "Int64Index: 120016 entries, 30 to 142192\n",
      "Data columns (total 25 columns):\n",
      " #   Column         Non-Null Count   Dtype  \n",
      "---  ------         --------------   -----  \n",
      " 0   Location       120016 non-null  object \n",
      " 1   MinTemp        120016 non-null  float64\n",
      " 2   MaxTemp        120016 non-null  float64\n",
      " 3   Rainfall       120016 non-null  float64\n",
      " 4   Sunshine       65193 non-null   float64\n",
      " 5   WindGustDir    120016 non-null  object \n",
      " 6   WindGustSpeed  120016 non-null  float64\n",
      " 7   WindDir9am     120016 non-null  object \n",
      " 8   WindDir3pm     120016 non-null  object \n",
      " 9   WindSpeed9am   120016 non-null  float64\n",
      " 10  WindSpeed3pm   120016 non-null  float64\n",
      " 11  Humidity9am    120016 non-null  float64\n",
      " 12  Humidity3pm    120016 non-null  float64\n",
      " 13  Pressure9am    120016 non-null  float64\n",
      " 14  Pressure3pm    120016 non-null  float64\n",
      " 15  Cloud9am       74916 non-null   float64\n",
      " 16  Cloud3pm       73581 non-null   float64\n",
      " 17  Temp9am        120016 non-null  float64\n",
      " 18  Temp3pm        120016 non-null  float64\n",
      " 19  RainToday      120016 non-null  object \n",
      " 20  RISK_MM        120016 non-null  float64\n",
      " 21  RainTomorrow   120016 non-null  object \n",
      " 22  Year           120016 non-null  int64  \n",
      " 23  Month          120016 non-null  int64  \n",
      " 24  Day            120016 non-null  int64  \n",
      "dtypes: float64(16), int64(3), object(6)\n",
      "memory usage: 23.8+ MB\n"
     ]
    }
   ],
   "source": [
    "df_copy.info()"
   ]
  },
  {
   "cell_type": "markdown",
   "metadata": {},
   "source": [
    "### Cloud 3am/9pm"
   ]
  },
  {
   "cell_type": "code",
   "execution_count": 159,
   "metadata": {},
   "outputs": [
    {
     "data": {
      "text/html": [
       "<div>\n",
       "<style scoped>\n",
       "    .dataframe tbody tr th:only-of-type {\n",
       "        vertical-align: middle;\n",
       "    }\n",
       "\n",
       "    .dataframe tbody tr th {\n",
       "        vertical-align: top;\n",
       "    }\n",
       "\n",
       "    .dataframe thead th {\n",
       "        text-align: right;\n",
       "    }\n",
       "</style>\n",
       "<table border=\"1\" class=\"dataframe\">\n",
       "  <thead>\n",
       "    <tr style=\"text-align: right;\">\n",
       "      <th></th>\n",
       "      <th>MinTemp</th>\n",
       "      <th>MaxTemp</th>\n",
       "      <th>Rainfall</th>\n",
       "      <th>Sunshine</th>\n",
       "      <th>WindGustSpeed</th>\n",
       "      <th>WindSpeed9am</th>\n",
       "      <th>WindSpeed3pm</th>\n",
       "      <th>Humidity9am</th>\n",
       "      <th>Humidity3pm</th>\n",
       "      <th>Pressure9am</th>\n",
       "      <th>Pressure3pm</th>\n",
       "      <th>Cloud9am</th>\n",
       "      <th>Cloud3pm</th>\n",
       "      <th>Temp9am</th>\n",
       "      <th>Temp3pm</th>\n",
       "      <th>RISK_MM</th>\n",
       "      <th>Year</th>\n",
       "      <th>Month</th>\n",
       "      <th>Day</th>\n",
       "    </tr>\n",
       "  </thead>\n",
       "  <tbody>\n",
       "    <tr>\n",
       "      <th>count</th>\n",
       "      <td>120016.000000</td>\n",
       "      <td>120016.000000</td>\n",
       "      <td>120016.000000</td>\n",
       "      <td>65193.000000</td>\n",
       "      <td>120016.000000</td>\n",
       "      <td>120016.000000</td>\n",
       "      <td>120016.000000</td>\n",
       "      <td>120016.000000</td>\n",
       "      <td>120016.000000</td>\n",
       "      <td>120016.000000</td>\n",
       "      <td>120016.000000</td>\n",
       "      <td>74916.000000</td>\n",
       "      <td>73581.000000</td>\n",
       "      <td>120016.000000</td>\n",
       "      <td>120016.000000</td>\n",
       "      <td>120016.000000</td>\n",
       "      <td>120016.000000</td>\n",
       "      <td>120016.000000</td>\n",
       "      <td>120016.000000</td>\n",
       "    </tr>\n",
       "    <tr>\n",
       "      <th>mean</th>\n",
       "      <td>12.391379</td>\n",
       "      <td>23.443086</td>\n",
       "      <td>2.357949</td>\n",
       "      <td>7.719544</td>\n",
       "      <td>40.668528</td>\n",
       "      <td>15.041653</td>\n",
       "      <td>19.201648</td>\n",
       "      <td>67.742018</td>\n",
       "      <td>50.854436</td>\n",
       "      <td>1017.458572</td>\n",
       "      <td>1015.084683</td>\n",
       "      <td>4.424195</td>\n",
       "      <td>4.496514</td>\n",
       "      <td>17.219990</td>\n",
       "      <td>21.914747</td>\n",
       "      <td>2.310338</td>\n",
       "      <td>2012.859652</td>\n",
       "      <td>6.387990</td>\n",
       "      <td>15.713280</td>\n",
       "    </tr>\n",
       "    <tr>\n",
       "      <th>std</th>\n",
       "      <td>6.329952</td>\n",
       "      <td>7.145401</td>\n",
       "      <td>8.502443</td>\n",
       "      <td>3.780566</td>\n",
       "      <td>13.388251</td>\n",
       "      <td>8.318630</td>\n",
       "      <td>8.590975</td>\n",
       "      <td>19.090525</td>\n",
       "      <td>20.972111</td>\n",
       "      <td>6.750710</td>\n",
       "      <td>6.683852</td>\n",
       "      <td>2.878501</td>\n",
       "      <td>2.720869</td>\n",
       "      <td>6.449757</td>\n",
       "      <td>7.010703</td>\n",
       "      <td>8.428753</td>\n",
       "      <td>2.476476</td>\n",
       "      <td>3.468515</td>\n",
       "      <td>8.787941</td>\n",
       "    </tr>\n",
       "    <tr>\n",
       "      <th>min</th>\n",
       "      <td>-8.500000</td>\n",
       "      <td>-4.800000</td>\n",
       "      <td>0.000000</td>\n",
       "      <td>0.000000</td>\n",
       "      <td>7.000000</td>\n",
       "      <td>2.000000</td>\n",
       "      <td>2.000000</td>\n",
       "      <td>0.000000</td>\n",
       "      <td>0.000000</td>\n",
       "      <td>980.500000</td>\n",
       "      <td>977.100000</td>\n",
       "      <td>0.000000</td>\n",
       "      <td>0.000000</td>\n",
       "      <td>-7.200000</td>\n",
       "      <td>-5.400000</td>\n",
       "      <td>0.000000</td>\n",
       "      <td>2009.000000</td>\n",
       "      <td>1.000000</td>\n",
       "      <td>1.000000</td>\n",
       "    </tr>\n",
       "    <tr>\n",
       "      <th>25%</th>\n",
       "      <td>7.800000</td>\n",
       "      <td>18.100000</td>\n",
       "      <td>0.000000</td>\n",
       "      <td>5.000000</td>\n",
       "      <td>31.000000</td>\n",
       "      <td>9.000000</td>\n",
       "      <td>13.000000</td>\n",
       "      <td>56.000000</td>\n",
       "      <td>36.000000</td>\n",
       "      <td>1013.300000</td>\n",
       "      <td>1010.800000</td>\n",
       "      <td>1.000000</td>\n",
       "      <td>2.000000</td>\n",
       "      <td>12.500000</td>\n",
       "      <td>16.800000</td>\n",
       "      <td>0.000000</td>\n",
       "      <td>2011.000000</td>\n",
       "      <td>3.000000</td>\n",
       "      <td>8.000000</td>\n",
       "    </tr>\n",
       "    <tr>\n",
       "      <th>50%</th>\n",
       "      <td>12.200000</td>\n",
       "      <td>23.000000</td>\n",
       "      <td>0.000000</td>\n",
       "      <td>8.600000</td>\n",
       "      <td>39.000000</td>\n",
       "      <td>13.000000</td>\n",
       "      <td>19.000000</td>\n",
       "      <td>69.000000</td>\n",
       "      <td>51.000000</td>\n",
       "      <td>1017.458572</td>\n",
       "      <td>1015.084683</td>\n",
       "      <td>5.000000</td>\n",
       "      <td>5.000000</td>\n",
       "      <td>16.900000</td>\n",
       "      <td>21.400000</td>\n",
       "      <td>0.000000</td>\n",
       "      <td>2013.000000</td>\n",
       "      <td>6.000000</td>\n",
       "      <td>16.000000</td>\n",
       "    </tr>\n",
       "    <tr>\n",
       "      <th>75%</th>\n",
       "      <td>17.000000</td>\n",
       "      <td>28.500000</td>\n",
       "      <td>0.800000</td>\n",
       "      <td>10.700000</td>\n",
       "      <td>48.000000</td>\n",
       "      <td>20.000000</td>\n",
       "      <td>24.000000</td>\n",
       "      <td>82.000000</td>\n",
       "      <td>65.000000</td>\n",
       "      <td>1021.700000</td>\n",
       "      <td>1019.300000</td>\n",
       "      <td>7.000000</td>\n",
       "      <td>7.000000</td>\n",
       "      <td>21.800000</td>\n",
       "      <td>26.800000</td>\n",
       "      <td>0.600000</td>\n",
       "      <td>2015.000000</td>\n",
       "      <td>9.000000</td>\n",
       "      <td>23.000000</td>\n",
       "    </tr>\n",
       "    <tr>\n",
       "      <th>max</th>\n",
       "      <td>33.900000</td>\n",
       "      <td>48.100000</td>\n",
       "      <td>367.600000</td>\n",
       "      <td>14.500000</td>\n",
       "      <td>135.000000</td>\n",
       "      <td>87.000000</td>\n",
       "      <td>87.000000</td>\n",
       "      <td>100.000000</td>\n",
       "      <td>100.000000</td>\n",
       "      <td>1041.000000</td>\n",
       "      <td>1039.600000</td>\n",
       "      <td>9.000000</td>\n",
       "      <td>9.000000</td>\n",
       "      <td>40.200000</td>\n",
       "      <td>46.700000</td>\n",
       "      <td>371.000000</td>\n",
       "      <td>2017.000000</td>\n",
       "      <td>12.000000</td>\n",
       "      <td>31.000000</td>\n",
       "    </tr>\n",
       "  </tbody>\n",
       "</table>\n",
       "</div>"
      ],
      "text/plain": [
       "             MinTemp        MaxTemp       Rainfall      Sunshine  \\\n",
       "count  120016.000000  120016.000000  120016.000000  65193.000000   \n",
       "mean       12.391379      23.443086       2.357949      7.719544   \n",
       "std         6.329952       7.145401       8.502443      3.780566   \n",
       "min        -8.500000      -4.800000       0.000000      0.000000   \n",
       "25%         7.800000      18.100000       0.000000      5.000000   \n",
       "50%        12.200000      23.000000       0.000000      8.600000   \n",
       "75%        17.000000      28.500000       0.800000     10.700000   \n",
       "max        33.900000      48.100000     367.600000     14.500000   \n",
       "\n",
       "       WindGustSpeed   WindSpeed9am   WindSpeed3pm    Humidity9am  \\\n",
       "count  120016.000000  120016.000000  120016.000000  120016.000000   \n",
       "mean       40.668528      15.041653      19.201648      67.742018   \n",
       "std        13.388251       8.318630       8.590975      19.090525   \n",
       "min         7.000000       2.000000       2.000000       0.000000   \n",
       "25%        31.000000       9.000000      13.000000      56.000000   \n",
       "50%        39.000000      13.000000      19.000000      69.000000   \n",
       "75%        48.000000      20.000000      24.000000      82.000000   \n",
       "max       135.000000      87.000000      87.000000     100.000000   \n",
       "\n",
       "         Humidity3pm    Pressure9am    Pressure3pm      Cloud9am  \\\n",
       "count  120016.000000  120016.000000  120016.000000  74916.000000   \n",
       "mean       50.854436    1017.458572    1015.084683      4.424195   \n",
       "std        20.972111       6.750710       6.683852      2.878501   \n",
       "min         0.000000     980.500000     977.100000      0.000000   \n",
       "25%        36.000000    1013.300000    1010.800000      1.000000   \n",
       "50%        51.000000    1017.458572    1015.084683      5.000000   \n",
       "75%        65.000000    1021.700000    1019.300000      7.000000   \n",
       "max       100.000000    1041.000000    1039.600000      9.000000   \n",
       "\n",
       "           Cloud3pm        Temp9am        Temp3pm        RISK_MM  \\\n",
       "count  73581.000000  120016.000000  120016.000000  120016.000000   \n",
       "mean       4.496514      17.219990      21.914747       2.310338   \n",
       "std        2.720869       6.449757       7.010703       8.428753   \n",
       "min        0.000000      -7.200000      -5.400000       0.000000   \n",
       "25%        2.000000      12.500000      16.800000       0.000000   \n",
       "50%        5.000000      16.900000      21.400000       0.000000   \n",
       "75%        7.000000      21.800000      26.800000       0.600000   \n",
       "max        9.000000      40.200000      46.700000     371.000000   \n",
       "\n",
       "                Year          Month            Day  \n",
       "count  120016.000000  120016.000000  120016.000000  \n",
       "mean     2012.859652       6.387990      15.713280  \n",
       "std         2.476476       3.468515       8.787941  \n",
       "min      2009.000000       1.000000       1.000000  \n",
       "25%      2011.000000       3.000000       8.000000  \n",
       "50%      2013.000000       6.000000      16.000000  \n",
       "75%      2015.000000       9.000000      23.000000  \n",
       "max      2017.000000      12.000000      31.000000  "
      ]
     },
     "execution_count": 159,
     "metadata": {},
     "output_type": "execute_result"
    }
   ],
   "source": [
    "df_copy.describe()"
   ]
  },
  {
   "cell_type": "code",
   "execution_count": 160,
   "metadata": {},
   "outputs": [
    {
     "data": {
      "text/plain": [
       "<AxesSubplot:xlabel='Cloud9am', ylabel='Count'>"
      ]
     },
     "execution_count": 160,
     "metadata": {},
     "output_type": "execute_result"
    },
    {
     "data": {
      "image/png": "[encoded data removed]",
      "text/plain": [
       "<Figure size 1080x720 with 1 Axes>"
      ]
     },
     "metadata": {},
     "output_type": "display_data"
    }
   ],
   "source": [
    "sns.histplot(data=df_copy, x='Cloud9am')"
   ]
  },
  {
   "cell_type": "code",
   "execution_count": 161,
   "metadata": {},
   "outputs": [
    {
     "data": {
      "text/plain": [
       "<seaborn.axisgrid.FacetGrid at 0x254ec826220>"
      ]
     },
     "execution_count": 161,
     "metadata": {},
     "output_type": "execute_result"
    },
    {
     "data": {
      "image/png": "[encoded data removed]",
      "text/plain": [
       "<Figure size 360x360 with 1 Axes>"
      ]
     },
     "metadata": {},
     "output_type": "display_data"
    }
   ],
   "source": [
    "sns.catplot(data=df_copy, x='RainTomorrow', y='Cloud9am', kind='box')"
   ]
  },
  {
   "cell_type": "code",
   "execution_count": 162,
   "metadata": {},
   "outputs": [
    {
     "data": {
      "text/plain": [
       "<AxesSubplot:xlabel='Cloud3pm', ylabel='Count'>"
      ]
     },
     "execution_count": 162,
     "metadata": {},
     "output_type": "execute_result"
    },
    {
     "data": {
      "image/png": "[encoded data removed]",
      "text/plain": [
       "<Figure size 1080x720 with 1 Axes>"
      ]
     },
     "metadata": {},
     "output_type": "display_data"
    }
   ],
   "source": [
    "sns.histplot(data=df_copy, x='Cloud3pm')"
   ]
  },
  {
   "cell_type": "code",
   "execution_count": 163,
   "metadata": {},
   "outputs": [
    {
     "data": {
      "text/plain": [
       "<seaborn.axisgrid.FacetGrid at 0x254d213ce50>"
      ]
     },
     "execution_count": 163,
     "metadata": {},
     "output_type": "execute_result"
    },
    {
     "data": {
      "image/png": "[encoded data removed]",
      "text/plain": [
       "<Figure size 360x360 with 1 Axes>"
      ]
     },
     "metadata": {},
     "output_type": "display_data"
    }
   ],
   "source": [
    "sns.catplot(data=df_copy, x='RainTomorrow', y='Cloud3pm', kind='box')"
   ]
  },
  {
   "cell_type": "code",
   "execution_count": 164,
   "metadata": {},
   "outputs": [
    {
     "name": "stdout",
     "output_type": "stream",
     "text": [
      "<class 'pandas.core.frame.DataFrame'>\n",
      "Int64Index: 120016 entries, 30 to 142192\n",
      "Data columns (total 25 columns):\n",
      " #   Column         Non-Null Count   Dtype  \n",
      "---  ------         --------------   -----  \n",
      " 0   Location       120016 non-null  object \n",
      " 1   MinTemp        120016 non-null  float64\n",
      " 2   MaxTemp        120016 non-null  float64\n",
      " 3   Rainfall       120016 non-null  float64\n",
      " 4   Sunshine       65193 non-null   float64\n",
      " 5   WindGustDir    120016 non-null  object \n",
      " 6   WindGustSpeed  120016 non-null  float64\n",
      " 7   WindDir9am     120016 non-null  object \n",
      " 8   WindDir3pm     120016 non-null  object \n",
      " 9   WindSpeed9am   120016 non-null  float64\n",
      " 10  WindSpeed3pm   120016 non-null  float64\n",
      " 11  Humidity9am    120016 non-null  float64\n",
      " 12  Humidity3pm    120016 non-null  float64\n",
      " 13  Pressure9am    120016 non-null  float64\n",
      " 14  Pressure3pm    120016 non-null  float64\n",
      " 15  Cloud9am       74916 non-null   float64\n",
      " 16  Cloud3pm       73581 non-null   float64\n",
      " 17  Temp9am        120016 non-null  float64\n",
      " 18  Temp3pm        120016 non-null  float64\n",
      " 19  RainToday      120016 non-null  object \n",
      " 20  RISK_MM        120016 non-null  float64\n",
      " 21  RainTomorrow   120016 non-null  object \n",
      " 22  Year           120016 non-null  int64  \n",
      " 23  Month          120016 non-null  int64  \n",
      " 24  Day            120016 non-null  int64  \n",
      "dtypes: float64(16), int64(3), object(6)\n",
      "memory usage: 23.8+ MB\n"
     ]
    }
   ],
   "source": [
    "df_copy.info()"
   ]
  },
  {
   "cell_type": "markdown",
   "metadata": {},
   "source": [
    "#### Not considering cloud columns for now bcs of missing values"
   ]
  },
  {
   "cell_type": "markdown",
   "metadata": {},
   "source": [
    "### Temp9am/3pm"
   ]
  },
  {
   "cell_type": "code",
   "execution_count": 165,
   "metadata": {},
   "outputs": [
    {
     "data": {
      "text/plain": [
       "<AxesSubplot:xlabel='Temp9am', ylabel='Count'>"
      ]
     },
     "execution_count": 165,
     "metadata": {},
     "output_type": "execute_result"
    },
    {
     "data": {
      "image/png": "[encoded data removed]",
      "text/plain": [
       "<Figure size 1080x720 with 1 Axes>"
      ]
     },
     "metadata": {},
     "output_type": "display_data"
    }
   ],
   "source": [
    "sns.histplot(data=df_copy, x='Temp9am', bins=30)"
   ]
  },
  {
   "cell_type": "code",
   "execution_count": 166,
   "metadata": {},
   "outputs": [
    {
     "data": {
      "text/plain": [
       "<seaborn.axisgrid.FacetGrid at 0x254ee4bbf10>"
      ]
     },
     "execution_count": 166,
     "metadata": {},
     "output_type": "execute_result"
    },
    {
     "data": {
      "image/png": "[encoded data removed]",
      "text/plain": [
       "<Figure size 360x360 with 1 Axes>"
      ]
     },
     "metadata": {},
     "output_type": "display_data"
    }
   ],
   "source": [
    "sns.catplot(data=df_copy, x='RainTomorrow', y='Temp9am', kind='box')"
   ]
  },
  {
   "cell_type": "code",
   "execution_count": 167,
   "metadata": {},
   "outputs": [
    {
     "data": {
      "text/plain": [
       "<AxesSubplot:xlabel='Temp3pm', ylabel='Count'>"
      ]
     },
     "execution_count": 167,
     "metadata": {},
     "output_type": "execute_result"
    },
    {
     "data": {
      "image/png": "[encoded data removed]",
      "text/plain": [
       "<Figure size 1080x720 with 1 Axes>"
      ]
     },
     "metadata": {},
     "output_type": "display_data"
    }
   ],
   "source": [
    "sns.histplot(data=df_copy, x='Temp3pm', bins=30)"
   ]
  },
  {
   "cell_type": "code",
   "execution_count": 168,
   "metadata": {},
   "outputs": [
    {
     "data": {
      "text/plain": [
       "<seaborn.axisgrid.FacetGrid at 0x254d9049790>"
      ]
     },
     "execution_count": 168,
     "metadata": {},
     "output_type": "execute_result"
    },
    {
     "data": {
      "image/png": "[encoded data removed]",
      "text/plain": [
       "<Figure size 360x360 with 1 Axes>"
      ]
     },
     "metadata": {},
     "output_type": "display_data"
    }
   ],
   "source": [
    "sns.catplot(data=df_copy, x='RainTomorrow', y='Temp3pm', kind='box')"
   ]
  },
  {
   "cell_type": "markdown",
   "metadata": {},
   "source": [
    "### RISK_MM"
   ]
  },
  {
   "cell_type": "code",
   "execution_count": 169,
   "metadata": {},
   "outputs": [
    {
     "data": {
      "text/html": [
       "<div>\n",
       "<style scoped>\n",
       "    .dataframe tbody tr th:only-of-type {\n",
       "        vertical-align: middle;\n",
       "    }\n",
       "\n",
       "    .dataframe tbody tr th {\n",
       "        vertical-align: top;\n",
       "    }\n",
       "\n",
       "    .dataframe thead th {\n",
       "        text-align: right;\n",
       "    }\n",
       "</style>\n",
       "<table border=\"1\" class=\"dataframe\">\n",
       "  <thead>\n",
       "    <tr style=\"text-align: right;\">\n",
       "      <th></th>\n",
       "      <th>MinTemp</th>\n",
       "      <th>MaxTemp</th>\n",
       "      <th>Rainfall</th>\n",
       "      <th>Sunshine</th>\n",
       "      <th>WindGustSpeed</th>\n",
       "      <th>WindSpeed9am</th>\n",
       "      <th>WindSpeed3pm</th>\n",
       "      <th>Humidity9am</th>\n",
       "      <th>Humidity3pm</th>\n",
       "      <th>Pressure9am</th>\n",
       "      <th>Pressure3pm</th>\n",
       "      <th>Cloud9am</th>\n",
       "      <th>Cloud3pm</th>\n",
       "      <th>Temp9am</th>\n",
       "      <th>Temp3pm</th>\n",
       "      <th>RISK_MM</th>\n",
       "      <th>Year</th>\n",
       "      <th>Month</th>\n",
       "      <th>Day</th>\n",
       "    </tr>\n",
       "  </thead>\n",
       "  <tbody>\n",
       "    <tr>\n",
       "      <th>count</th>\n",
       "      <td>120016.000000</td>\n",
       "      <td>120016.000000</td>\n",
       "      <td>120016.000000</td>\n",
       "      <td>65193.000000</td>\n",
       "      <td>120016.000000</td>\n",
       "      <td>120016.000000</td>\n",
       "      <td>120016.000000</td>\n",
       "      <td>120016.000000</td>\n",
       "      <td>120016.000000</td>\n",
       "      <td>120016.000000</td>\n",
       "      <td>120016.000000</td>\n",
       "      <td>74916.000000</td>\n",
       "      <td>73581.000000</td>\n",
       "      <td>120016.000000</td>\n",
       "      <td>120016.000000</td>\n",
       "      <td>120016.000000</td>\n",
       "      <td>120016.000000</td>\n",
       "      <td>120016.000000</td>\n",
       "      <td>120016.000000</td>\n",
       "    </tr>\n",
       "    <tr>\n",
       "      <th>mean</th>\n",
       "      <td>12.391379</td>\n",
       "      <td>23.443086</td>\n",
       "      <td>2.357949</td>\n",
       "      <td>7.719544</td>\n",
       "      <td>40.668528</td>\n",
       "      <td>15.041653</td>\n",
       "      <td>19.201648</td>\n",
       "      <td>67.742018</td>\n",
       "      <td>50.854436</td>\n",
       "      <td>1017.458572</td>\n",
       "      <td>1015.084683</td>\n",
       "      <td>4.424195</td>\n",
       "      <td>4.496514</td>\n",
       "      <td>17.219990</td>\n",
       "      <td>21.914747</td>\n",
       "      <td>2.310338</td>\n",
       "      <td>2012.859652</td>\n",
       "      <td>6.387990</td>\n",
       "      <td>15.713280</td>\n",
       "    </tr>\n",
       "    <tr>\n",
       "      <th>std</th>\n",
       "      <td>6.329952</td>\n",
       "      <td>7.145401</td>\n",
       "      <td>8.502443</td>\n",
       "      <td>3.780566</td>\n",
       "      <td>13.388251</td>\n",
       "      <td>8.318630</td>\n",
       "      <td>8.590975</td>\n",
       "      <td>19.090525</td>\n",
       "      <td>20.972111</td>\n",
       "      <td>6.750710</td>\n",
       "      <td>6.683852</td>\n",
       "      <td>2.878501</td>\n",
       "      <td>2.720869</td>\n",
       "      <td>6.449757</td>\n",
       "      <td>7.010703</td>\n",
       "      <td>8.428753</td>\n",
       "      <td>2.476476</td>\n",
       "      <td>3.468515</td>\n",
       "      <td>8.787941</td>\n",
       "    </tr>\n",
       "    <tr>\n",
       "      <th>min</th>\n",
       "      <td>-8.500000</td>\n",
       "      <td>-4.800000</td>\n",
       "      <td>0.000000</td>\n",
       "      <td>0.000000</td>\n",
       "      <td>7.000000</td>\n",
       "      <td>2.000000</td>\n",
       "      <td>2.000000</td>\n",
       "      <td>0.000000</td>\n",
       "      <td>0.000000</td>\n",
       "      <td>980.500000</td>\n",
       "      <td>977.100000</td>\n",
       "      <td>0.000000</td>\n",
       "      <td>0.000000</td>\n",
       "      <td>-7.200000</td>\n",
       "      <td>-5.400000</td>\n",
       "      <td>0.000000</td>\n",
       "      <td>2009.000000</td>\n",
       "      <td>1.000000</td>\n",
       "      <td>1.000000</td>\n",
       "    </tr>\n",
       "    <tr>\n",
       "      <th>25%</th>\n",
       "      <td>7.800000</td>\n",
       "      <td>18.100000</td>\n",
       "      <td>0.000000</td>\n",
       "      <td>5.000000</td>\n",
       "      <td>31.000000</td>\n",
       "      <td>9.000000</td>\n",
       "      <td>13.000000</td>\n",
       "      <td>56.000000</td>\n",
       "      <td>36.000000</td>\n",
       "      <td>1013.300000</td>\n",
       "      <td>1010.800000</td>\n",
       "      <td>1.000000</td>\n",
       "      <td>2.000000</td>\n",
       "      <td>12.500000</td>\n",
       "      <td>16.800000</td>\n",
       "      <td>0.000000</td>\n",
       "      <td>2011.000000</td>\n",
       "      <td>3.000000</td>\n",
       "      <td>8.000000</td>\n",
       "    </tr>\n",
       "    <tr>\n",
       "      <th>50%</th>\n",
       "      <td>12.200000</td>\n",
       "      <td>23.000000</td>\n",
       "      <td>0.000000</td>\n",
       "      <td>8.600000</td>\n",
       "      <td>39.000000</td>\n",
       "      <td>13.000000</td>\n",
       "      <td>19.000000</td>\n",
       "      <td>69.000000</td>\n",
       "      <td>51.000000</td>\n",
       "      <td>1017.458572</td>\n",
       "      <td>1015.084683</td>\n",
       "      <td>5.000000</td>\n",
       "      <td>5.000000</td>\n",
       "      <td>16.900000</td>\n",
       "      <td>21.400000</td>\n",
       "      <td>0.000000</td>\n",
       "      <td>2013.000000</td>\n",
       "      <td>6.000000</td>\n",
       "      <td>16.000000</td>\n",
       "    </tr>\n",
       "    <tr>\n",
       "      <th>75%</th>\n",
       "      <td>17.000000</td>\n",
       "      <td>28.500000</td>\n",
       "      <td>0.800000</td>\n",
       "      <td>10.700000</td>\n",
       "      <td>48.000000</td>\n",
       "      <td>20.000000</td>\n",
       "      <td>24.000000</td>\n",
       "      <td>82.000000</td>\n",
       "      <td>65.000000</td>\n",
       "      <td>1021.700000</td>\n",
       "      <td>1019.300000</td>\n",
       "      <td>7.000000</td>\n",
       "      <td>7.000000</td>\n",
       "      <td>21.800000</td>\n",
       "      <td>26.800000</td>\n",
       "      <td>0.600000</td>\n",
       "      <td>2015.000000</td>\n",
       "      <td>9.000000</td>\n",
       "      <td>23.000000</td>\n",
       "    </tr>\n",
       "    <tr>\n",
       "      <th>max</th>\n",
       "      <td>33.900000</td>\n",
       "      <td>48.100000</td>\n",
       "      <td>367.600000</td>\n",
       "      <td>14.500000</td>\n",
       "      <td>135.000000</td>\n",
       "      <td>87.000000</td>\n",
       "      <td>87.000000</td>\n",
       "      <td>100.000000</td>\n",
       "      <td>100.000000</td>\n",
       "      <td>1041.000000</td>\n",
       "      <td>1039.600000</td>\n",
       "      <td>9.000000</td>\n",
       "      <td>9.000000</td>\n",
       "      <td>40.200000</td>\n",
       "      <td>46.700000</td>\n",
       "      <td>371.000000</td>\n",
       "      <td>2017.000000</td>\n",
       "      <td>12.000000</td>\n",
       "      <td>31.000000</td>\n",
       "    </tr>\n",
       "  </tbody>\n",
       "</table>\n",
       "</div>"
      ],
      "text/plain": [
       "             MinTemp        MaxTemp       Rainfall      Sunshine  \\\n",
       "count  120016.000000  120016.000000  120016.000000  65193.000000   \n",
       "mean       12.391379      23.443086       2.357949      7.719544   \n",
       "std         6.329952       7.145401       8.502443      3.780566   \n",
       "min        -8.500000      -4.800000       0.000000      0.000000   \n",
       "25%         7.800000      18.100000       0.000000      5.000000   \n",
       "50%        12.200000      23.000000       0.000000      8.600000   \n",
       "75%        17.000000      28.500000       0.800000     10.700000   \n",
       "max        33.900000      48.100000     367.600000     14.500000   \n",
       "\n",
       "       WindGustSpeed   WindSpeed9am   WindSpeed3pm    Humidity9am  \\\n",
       "count  120016.000000  120016.000000  120016.000000  120016.000000   \n",
       "mean       40.668528      15.041653      19.201648      67.742018   \n",
       "std        13.388251       8.318630       8.590975      19.090525   \n",
       "min         7.000000       2.000000       2.000000       0.000000   \n",
       "25%        31.000000       9.000000      13.000000      56.000000   \n",
       "50%        39.000000      13.000000      19.000000      69.000000   \n",
       "75%        48.000000      20.000000      24.000000      82.000000   \n",
       "max       135.000000      87.000000      87.000000     100.000000   \n",
       "\n",
       "         Humidity3pm    Pressure9am    Pressure3pm      Cloud9am  \\\n",
       "count  120016.000000  120016.000000  120016.000000  74916.000000   \n",
       "mean       50.854436    1017.458572    1015.084683      4.424195   \n",
       "std        20.972111       6.750710       6.683852      2.878501   \n",
       "min         0.000000     980.500000     977.100000      0.000000   \n",
       "25%        36.000000    1013.300000    1010.800000      1.000000   \n",
       "50%        51.000000    1017.458572    1015.084683      5.000000   \n",
       "75%        65.000000    1021.700000    1019.300000      7.000000   \n",
       "max       100.000000    1041.000000    1039.600000      9.000000   \n",
       "\n",
       "           Cloud3pm        Temp9am        Temp3pm        RISK_MM  \\\n",
       "count  73581.000000  120016.000000  120016.000000  120016.000000   \n",
       "mean       4.496514      17.219990      21.914747       2.310338   \n",
       "std        2.720869       6.449757       7.010703       8.428753   \n",
       "min        0.000000      -7.200000      -5.400000       0.000000   \n",
       "25%        2.000000      12.500000      16.800000       0.000000   \n",
       "50%        5.000000      16.900000      21.400000       0.000000   \n",
       "75%        7.000000      21.800000      26.800000       0.600000   \n",
       "max        9.000000      40.200000      46.700000     371.000000   \n",
       "\n",
       "                Year          Month            Day  \n",
       "count  120016.000000  120016.000000  120016.000000  \n",
       "mean     2012.859652       6.387990      15.713280  \n",
       "std         2.476476       3.468515       8.787941  \n",
       "min      2009.000000       1.000000       1.000000  \n",
       "25%      2011.000000       3.000000       8.000000  \n",
       "50%      2013.000000       6.000000      16.000000  \n",
       "75%      2015.000000       9.000000      23.000000  \n",
       "max      2017.000000      12.000000      31.000000  "
      ]
     },
     "execution_count": 169,
     "metadata": {},
     "output_type": "execute_result"
    }
   ],
   "source": [
    "df_copy.describe()"
   ]
  },
  {
   "cell_type": "code",
   "execution_count": 170,
   "metadata": {},
   "outputs": [
    {
     "data": {
      "text/plain": [
       "<seaborn.axisgrid.FacetGrid at 0x254db518220>"
      ]
     },
     "execution_count": 170,
     "metadata": {},
     "output_type": "execute_result"
    },
    {
     "data": {
      "image/png": "[encoded data removed]",
      "text/plain": [
       "<Figure size 360x360 with 1 Axes>"
      ]
     },
     "metadata": {},
     "output_type": "display_data"
    }
   ],
   "source": [
    "sns.catplot(data=df_copy, x='RainTomorrow', y='RISK_MM', kind='box')"
   ]
  },
  {
   "cell_type": "markdown",
   "metadata": {},
   "source": [
    "### Dropping RISK_MM"
   ]
  },
  {
   "cell_type": "code",
   "execution_count": 171,
   "metadata": {},
   "outputs": [
    {
     "data": {
      "text/html": [
       "<div>\n",
       "<style scoped>\n",
       "    .dataframe tbody tr th:only-of-type {\n",
       "        vertical-align: middle;\n",
       "    }\n",
       "\n",
       "    .dataframe tbody tr th {\n",
       "        vertical-align: top;\n",
       "    }\n",
       "\n",
       "    .dataframe thead th {\n",
       "        text-align: right;\n",
       "    }\n",
       "</style>\n",
       "<table border=\"1\" class=\"dataframe\">\n",
       "  <thead>\n",
       "    <tr style=\"text-align: right;\">\n",
       "      <th></th>\n",
       "      <th>Location</th>\n",
       "      <th>MinTemp</th>\n",
       "      <th>MaxTemp</th>\n",
       "      <th>Rainfall</th>\n",
       "      <th>Sunshine</th>\n",
       "      <th>WindGustDir</th>\n",
       "      <th>WindGustSpeed</th>\n",
       "      <th>WindDir9am</th>\n",
       "      <th>WindDir3pm</th>\n",
       "      <th>WindSpeed9am</th>\n",
       "      <th>...</th>\n",
       "      <th>Pressure3pm</th>\n",
       "      <th>Cloud9am</th>\n",
       "      <th>Cloud3pm</th>\n",
       "      <th>Temp9am</th>\n",
       "      <th>Temp3pm</th>\n",
       "      <th>RainToday</th>\n",
       "      <th>RainTomorrow</th>\n",
       "      <th>Year</th>\n",
       "      <th>Month</th>\n",
       "      <th>Day</th>\n",
       "    </tr>\n",
       "  </thead>\n",
       "  <tbody>\n",
       "    <tr>\n",
       "      <th>30</th>\n",
       "      <td>Albury</td>\n",
       "      <td>11.3</td>\n",
       "      <td>26.5</td>\n",
       "      <td>0.0</td>\n",
       "      <td>NaN</td>\n",
       "      <td>WNW</td>\n",
       "      <td>56.0</td>\n",
       "      <td>W</td>\n",
       "      <td>WNW</td>\n",
       "      <td>19.0</td>\n",
       "      <td>...</td>\n",
       "      <td>1003.2</td>\n",
       "      <td>NaN</td>\n",
       "      <td>NaN</td>\n",
       "      <td>19.7</td>\n",
       "      <td>25.7</td>\n",
       "      <td>No</td>\n",
       "      <td>No</td>\n",
       "      <td>2009</td>\n",
       "      <td>1</td>\n",
       "      <td>1</td>\n",
       "    </tr>\n",
       "    <tr>\n",
       "      <th>31</th>\n",
       "      <td>Albury</td>\n",
       "      <td>9.6</td>\n",
       "      <td>23.9</td>\n",
       "      <td>0.0</td>\n",
       "      <td>NaN</td>\n",
       "      <td>W</td>\n",
       "      <td>41.0</td>\n",
       "      <td>WSW</td>\n",
       "      <td>SSW</td>\n",
       "      <td>19.0</td>\n",
       "      <td>...</td>\n",
       "      <td>1013.1</td>\n",
       "      <td>NaN</td>\n",
       "      <td>NaN</td>\n",
       "      <td>14.9</td>\n",
       "      <td>22.1</td>\n",
       "      <td>No</td>\n",
       "      <td>No</td>\n",
       "      <td>2009</td>\n",
       "      <td>1</td>\n",
       "      <td>2</td>\n",
       "    </tr>\n",
       "    <tr>\n",
       "      <th>32</th>\n",
       "      <td>Albury</td>\n",
       "      <td>10.5</td>\n",
       "      <td>28.8</td>\n",
       "      <td>0.0</td>\n",
       "      <td>NaN</td>\n",
       "      <td>SSE</td>\n",
       "      <td>26.0</td>\n",
       "      <td>SSE</td>\n",
       "      <td>E</td>\n",
       "      <td>11.0</td>\n",
       "      <td>...</td>\n",
       "      <td>1014.8</td>\n",
       "      <td>NaN</td>\n",
       "      <td>NaN</td>\n",
       "      <td>17.1</td>\n",
       "      <td>26.5</td>\n",
       "      <td>No</td>\n",
       "      <td>No</td>\n",
       "      <td>2009</td>\n",
       "      <td>1</td>\n",
       "      <td>3</td>\n",
       "    </tr>\n",
       "    <tr>\n",
       "      <th>33</th>\n",
       "      <td>Albury</td>\n",
       "      <td>12.3</td>\n",
       "      <td>34.6</td>\n",
       "      <td>0.0</td>\n",
       "      <td>NaN</td>\n",
       "      <td>WNW</td>\n",
       "      <td>37.0</td>\n",
       "      <td>SSE</td>\n",
       "      <td>NW</td>\n",
       "      <td>6.0</td>\n",
       "      <td>...</td>\n",
       "      <td>1010.3</td>\n",
       "      <td>NaN</td>\n",
       "      <td>NaN</td>\n",
       "      <td>20.7</td>\n",
       "      <td>33.9</td>\n",
       "      <td>No</td>\n",
       "      <td>No</td>\n",
       "      <td>2009</td>\n",
       "      <td>1</td>\n",
       "      <td>4</td>\n",
       "    </tr>\n",
       "    <tr>\n",
       "      <th>34</th>\n",
       "      <td>Albury</td>\n",
       "      <td>12.9</td>\n",
       "      <td>35.8</td>\n",
       "      <td>0.0</td>\n",
       "      <td>NaN</td>\n",
       "      <td>WNW</td>\n",
       "      <td>41.0</td>\n",
       "      <td>ENE</td>\n",
       "      <td>NW</td>\n",
       "      <td>6.0</td>\n",
       "      <td>...</td>\n",
       "      <td>1009.2</td>\n",
       "      <td>NaN</td>\n",
       "      <td>NaN</td>\n",
       "      <td>22.4</td>\n",
       "      <td>34.4</td>\n",
       "      <td>No</td>\n",
       "      <td>No</td>\n",
       "      <td>2009</td>\n",
       "      <td>1</td>\n",
       "      <td>5</td>\n",
       "    </tr>\n",
       "  </tbody>\n",
       "</table>\n",
       "<p>5 rows × 24 columns</p>\n",
       "</div>"
      ],
      "text/plain": [
       "   Location  MinTemp  MaxTemp  Rainfall  Sunshine WindGustDir  WindGustSpeed  \\\n",
       "30   Albury     11.3     26.5       0.0       NaN         WNW           56.0   \n",
       "31   Albury      9.6     23.9       0.0       NaN           W           41.0   \n",
       "32   Albury     10.5     28.8       0.0       NaN         SSE           26.0   \n",
       "33   Albury     12.3     34.6       0.0       NaN         WNW           37.0   \n",
       "34   Albury     12.9     35.8       0.0       NaN         WNW           41.0   \n",
       "\n",
       "   WindDir9am WindDir3pm  WindSpeed9am  ...  Pressure3pm  Cloud9am  Cloud3pm  \\\n",
       "30          W        WNW          19.0  ...       1003.2       NaN       NaN   \n",
       "31        WSW        SSW          19.0  ...       1013.1       NaN       NaN   \n",
       "32        SSE          E          11.0  ...       1014.8       NaN       NaN   \n",
       "33        SSE         NW           6.0  ...       1010.3       NaN       NaN   \n",
       "34        ENE         NW           6.0  ...       1009.2       NaN       NaN   \n",
       "\n",
       "    Temp9am  Temp3pm  RainToday  RainTomorrow  Year  Month Day  \n",
       "30     19.7     25.7         No            No  2009      1   1  \n",
       "31     14.9     22.1         No            No  2009      1   2  \n",
       "32     17.1     26.5         No            No  2009      1   3  \n",
       "33     20.7     33.9         No            No  2009      1   4  \n",
       "34     22.4     34.4         No            No  2009      1   5  \n",
       "\n",
       "[5 rows x 24 columns]"
      ]
     },
     "execution_count": 171,
     "metadata": {},
     "output_type": "execute_result"
    }
   ],
   "source": [
    "df_copy = df_copy.drop('RISK_MM', axis=1)\n",
    "df_copy.head()"
   ]
  },
  {
   "cell_type": "code",
   "execution_count": 172,
   "metadata": {},
   "outputs": [
    {
     "name": "stdout",
     "output_type": "stream",
     "text": [
      "<class 'pandas.core.frame.DataFrame'>\n",
      "Int64Index: 120016 entries, 30 to 142192\n",
      "Data columns (total 24 columns):\n",
      " #   Column         Non-Null Count   Dtype  \n",
      "---  ------         --------------   -----  \n",
      " 0   Location       120016 non-null  object \n",
      " 1   MinTemp        120016 non-null  float64\n",
      " 2   MaxTemp        120016 non-null  float64\n",
      " 3   Rainfall       120016 non-null  float64\n",
      " 4   Sunshine       65193 non-null   float64\n",
      " 5   WindGustDir    120016 non-null  object \n",
      " 6   WindGustSpeed  120016 non-null  float64\n",
      " 7   WindDir9am     120016 non-null  object \n",
      " 8   WindDir3pm     120016 non-null  object \n",
      " 9   WindSpeed9am   120016 non-null  float64\n",
      " 10  WindSpeed3pm   120016 non-null  float64\n",
      " 11  Humidity9am    120016 non-null  float64\n",
      " 12  Humidity3pm    120016 non-null  float64\n",
      " 13  Pressure9am    120016 non-null  float64\n",
      " 14  Pressure3pm    120016 non-null  float64\n",
      " 15  Cloud9am       74916 non-null   float64\n",
      " 16  Cloud3pm       73581 non-null   float64\n",
      " 17  Temp9am        120016 non-null  float64\n",
      " 18  Temp3pm        120016 non-null  float64\n",
      " 19  RainToday      120016 non-null  object \n",
      " 20  RainTomorrow   120016 non-null  object \n",
      " 21  Year           120016 non-null  int64  \n",
      " 22  Month          120016 non-null  int64  \n",
      " 23  Day            120016 non-null  int64  \n",
      "dtypes: float64(15), int64(3), object(6)\n",
      "memory usage: 22.9+ MB\n"
     ]
    }
   ],
   "source": [
    "df_copy.info()"
   ]
  },
  {
   "cell_type": "code",
   "execution_count": 173,
   "metadata": {},
   "outputs": [],
   "source": [
    "df_copy_all = df_copy.copy()"
   ]
  },
  {
   "cell_type": "code",
   "execution_count": 174,
   "metadata": {},
   "outputs": [],
   "source": [
    "df_copy_all.to_csv('df_copy_all.csv', index=False)"
   ]
  },
  {
   "cell_type": "markdown",
   "metadata": {},
   "source": [
    "### Label encoding"
   ]
  },
  {
   "cell_type": "code",
   "execution_count": 175,
   "metadata": {},
   "outputs": [],
   "source": [
    "df_copy['RainTomorrow']= LabelEncoder().fit_transform(df_copy['RainTomorrow'])"
   ]
  },
  {
   "cell_type": "code",
   "execution_count": 176,
   "metadata": {},
   "outputs": [
    {
     "name": "stdout",
     "output_type": "stream",
     "text": [
      "<class 'pandas.core.frame.DataFrame'>\n",
      "Int64Index: 120016 entries, 30 to 142192\n",
      "Data columns (total 24 columns):\n",
      " #   Column         Non-Null Count   Dtype  \n",
      "---  ------         --------------   -----  \n",
      " 0   Location       120016 non-null  object \n",
      " 1   MinTemp        120016 non-null  float64\n",
      " 2   MaxTemp        120016 non-null  float64\n",
      " 3   Rainfall       120016 non-null  float64\n",
      " 4   Sunshine       65193 non-null   float64\n",
      " 5   WindGustDir    120016 non-null  object \n",
      " 6   WindGustSpeed  120016 non-null  float64\n",
      " 7   WindDir9am     120016 non-null  object \n",
      " 8   WindDir3pm     120016 non-null  object \n",
      " 9   WindSpeed9am   120016 non-null  float64\n",
      " 10  WindSpeed3pm   120016 non-null  float64\n",
      " 11  Humidity9am    120016 non-null  float64\n",
      " 12  Humidity3pm    120016 non-null  float64\n",
      " 13  Pressure9am    120016 non-null  float64\n",
      " 14  Pressure3pm    120016 non-null  float64\n",
      " 15  Cloud9am       74916 non-null   float64\n",
      " 16  Cloud3pm       73581 non-null   float64\n",
      " 17  Temp9am        120016 non-null  float64\n",
      " 18  Temp3pm        120016 non-null  float64\n",
      " 19  RainToday      120016 non-null  object \n",
      " 20  RainTomorrow   120016 non-null  int32  \n",
      " 21  Year           120016 non-null  int64  \n",
      " 22  Month          120016 non-null  int64  \n",
      " 23  Day            120016 non-null  int64  \n",
      "dtypes: float64(15), int32(1), int64(3), object(5)\n",
      "memory usage: 22.4+ MB\n"
     ]
    }
   ],
   "source": [
    "df_copy.info()"
   ]
  },
  {
   "cell_type": "code",
   "execution_count": 177,
   "metadata": {},
   "outputs": [
    {
     "data": {
      "text/plain": [
       "<seaborn.axisgrid.FacetGrid at 0x254c78a09a0>"
      ]
     },
     "execution_count": 177,
     "metadata": {},
     "output_type": "execute_result"
    },
    {
     "data": {
      "image/png": "[encoded data removed]",
      "text/plain": [
       "<Figure size 360x360 with 1 Axes>"
      ]
     },
     "metadata": {},
     "output_type": "display_data"
    }
   ],
   "source": [
    "sns.catplot(data=df_copy, x='RainTomorrow', kind='count')"
   ]
  },
  {
   "cell_type": "markdown",
   "metadata": {},
   "source": [
    "### Dropping 3 columns"
   ]
  },
  {
   "cell_type": "code",
   "execution_count": 178,
   "metadata": {},
   "outputs": [],
   "source": [
    "df_copy = df_copy.drop(['Sunshine', 'Cloud9am', 'Cloud3pm'], axis=1)"
   ]
  },
  {
   "cell_type": "code",
   "execution_count": 179,
   "metadata": {},
   "outputs": [
    {
     "data": {
      "text/plain": [
       "Index(['Location', 'MinTemp', 'MaxTemp', 'Rainfall', 'WindGustDir',\n",
       "       'WindGustSpeed', 'WindDir9am', 'WindDir3pm', 'WindSpeed9am',\n",
       "       'WindSpeed3pm', 'Humidity9am', 'Humidity3pm', 'Pressure9am',\n",
       "       'Pressure3pm', 'Temp9am', 'Temp3pm', 'RainToday', 'RainTomorrow',\n",
       "       'Year', 'Month', 'Day'],\n",
       "      dtype='object')"
      ]
     },
     "execution_count": 179,
     "metadata": {},
     "output_type": "execute_result"
    }
   ],
   "source": [
    "df_copy.columns"
   ]
  },
  {
   "cell_type": "markdown",
   "metadata": {},
   "source": [
    "## Correlation "
   ]
  },
  {
   "cell_type": "code",
   "execution_count": 180,
   "metadata": {},
   "outputs": [],
   "source": [
    "cM = df_copy.corr(method='spearman')"
   ]
  },
  {
   "cell_type": "code",
   "execution_count": 181,
   "metadata": {},
   "outputs": [
    {
     "data": {
      "image/png": "[encoded data removed]",
      "text/plain": [
       "<Figure size 1080x720 with 2 Axes>"
      ]
     },
     "metadata": {},
     "output_type": "display_data"
    }
   ],
   "source": [
    "sns.set(rc={'figure.figsize': (15,10)})\n",
    "color_map = sns.diverging_palette(240,10,n=10)\n",
    "sns.heatmap(cM, vmin=-1., vmax=1., cmap=color_map, annot=True);"
   ]
  },
  {
   "cell_type": "markdown",
   "metadata": {},
   "source": [
    "## Categorical data"
   ]
  },
  {
   "cell_type": "code",
   "execution_count": 182,
   "metadata": {},
   "outputs": [
    {
     "name": "stdout",
     "output_type": "stream",
     "text": [
      "<class 'pandas.core.frame.DataFrame'>\n",
      "Int64Index: 120016 entries, 30 to 142192\n",
      "Data columns (total 21 columns):\n",
      " #   Column         Non-Null Count   Dtype  \n",
      "---  ------         --------------   -----  \n",
      " 0   Location       120016 non-null  object \n",
      " 1   MinTemp        120016 non-null  float64\n",
      " 2   MaxTemp        120016 non-null  float64\n",
      " 3   Rainfall       120016 non-null  float64\n",
      " 4   WindGustDir    120016 non-null  object \n",
      " 5   WindGustSpeed  120016 non-null  float64\n",
      " 6   WindDir9am     120016 non-null  object \n",
      " 7   WindDir3pm     120016 non-null  object \n",
      " 8   WindSpeed9am   120016 non-null  float64\n",
      " 9   WindSpeed3pm   120016 non-null  float64\n",
      " 10  Humidity9am    120016 non-null  float64\n",
      " 11  Humidity3pm    120016 non-null  float64\n",
      " 12  Pressure9am    120016 non-null  float64\n",
      " 13  Pressure3pm    120016 non-null  float64\n",
      " 14  Temp9am        120016 non-null  float64\n",
      " 15  Temp3pm        120016 non-null  float64\n",
      " 16  RainToday      120016 non-null  object \n",
      " 17  RainTomorrow   120016 non-null  int32  \n",
      " 18  Year           120016 non-null  int64  \n",
      " 19  Month          120016 non-null  int64  \n",
      " 20  Day            120016 non-null  int64  \n",
      "dtypes: float64(12), int32(1), int64(3), object(5)\n",
      "memory usage: 19.7+ MB\n"
     ]
    }
   ],
   "source": [
    "df_copy.info()"
   ]
  },
  {
   "cell_type": "code",
   "execution_count": 183,
   "metadata": {},
   "outputs": [
    {
     "data": {
      "text/html": [
       "<div>\n",
       "<style scoped>\n",
       "    .dataframe tbody tr th:only-of-type {\n",
       "        vertical-align: middle;\n",
       "    }\n",
       "\n",
       "    .dataframe tbody tr th {\n",
       "        vertical-align: top;\n",
       "    }\n",
       "\n",
       "    .dataframe thead th {\n",
       "        text-align: right;\n",
       "    }\n",
       "</style>\n",
       "<table border=\"1\" class=\"dataframe\">\n",
       "  <thead>\n",
       "    <tr style=\"text-align: right;\">\n",
       "      <th></th>\n",
       "      <th>Location</th>\n",
       "      <th>MinTemp</th>\n",
       "      <th>MaxTemp</th>\n",
       "      <th>Rainfall</th>\n",
       "      <th>WindGustDir</th>\n",
       "      <th>WindGustSpeed</th>\n",
       "      <th>WindDir9am</th>\n",
       "      <th>WindDir3pm</th>\n",
       "      <th>WindSpeed9am</th>\n",
       "      <th>WindSpeed3pm</th>\n",
       "      <th>...</th>\n",
       "      <th>Humidity3pm</th>\n",
       "      <th>Pressure9am</th>\n",
       "      <th>Pressure3pm</th>\n",
       "      <th>Temp9am</th>\n",
       "      <th>Temp3pm</th>\n",
       "      <th>RainToday</th>\n",
       "      <th>RainTomorrow</th>\n",
       "      <th>Year</th>\n",
       "      <th>Month</th>\n",
       "      <th>Day</th>\n",
       "    </tr>\n",
       "  </thead>\n",
       "  <tbody>\n",
       "    <tr>\n",
       "      <th>30</th>\n",
       "      <td>Albury</td>\n",
       "      <td>11.3</td>\n",
       "      <td>26.5</td>\n",
       "      <td>0.0</td>\n",
       "      <td>WNW</td>\n",
       "      <td>56.0</td>\n",
       "      <td>W</td>\n",
       "      <td>WNW</td>\n",
       "      <td>19.0</td>\n",
       "      <td>31.0</td>\n",
       "      <td>...</td>\n",
       "      <td>26.0</td>\n",
       "      <td>1004.5</td>\n",
       "      <td>1003.2</td>\n",
       "      <td>19.7</td>\n",
       "      <td>25.7</td>\n",
       "      <td>No</td>\n",
       "      <td>0</td>\n",
       "      <td>2009</td>\n",
       "      <td>1</td>\n",
       "      <td>1</td>\n",
       "    </tr>\n",
       "    <tr>\n",
       "      <th>31</th>\n",
       "      <td>Albury</td>\n",
       "      <td>9.6</td>\n",
       "      <td>23.9</td>\n",
       "      <td>0.0</td>\n",
       "      <td>W</td>\n",
       "      <td>41.0</td>\n",
       "      <td>WSW</td>\n",
       "      <td>SSW</td>\n",
       "      <td>19.0</td>\n",
       "      <td>11.0</td>\n",
       "      <td>...</td>\n",
       "      <td>22.0</td>\n",
       "      <td>1014.4</td>\n",
       "      <td>1013.1</td>\n",
       "      <td>14.9</td>\n",
       "      <td>22.1</td>\n",
       "      <td>No</td>\n",
       "      <td>0</td>\n",
       "      <td>2009</td>\n",
       "      <td>1</td>\n",
       "      <td>2</td>\n",
       "    </tr>\n",
       "    <tr>\n",
       "      <th>32</th>\n",
       "      <td>Albury</td>\n",
       "      <td>10.5</td>\n",
       "      <td>28.8</td>\n",
       "      <td>0.0</td>\n",
       "      <td>SSE</td>\n",
       "      <td>26.0</td>\n",
       "      <td>SSE</td>\n",
       "      <td>E</td>\n",
       "      <td>11.0</td>\n",
       "      <td>7.0</td>\n",
       "      <td>...</td>\n",
       "      <td>22.0</td>\n",
       "      <td>1018.7</td>\n",
       "      <td>1014.8</td>\n",
       "      <td>17.1</td>\n",
       "      <td>26.5</td>\n",
       "      <td>No</td>\n",
       "      <td>0</td>\n",
       "      <td>2009</td>\n",
       "      <td>1</td>\n",
       "      <td>3</td>\n",
       "    </tr>\n",
       "    <tr>\n",
       "      <th>33</th>\n",
       "      <td>Albury</td>\n",
       "      <td>12.3</td>\n",
       "      <td>34.6</td>\n",
       "      <td>0.0</td>\n",
       "      <td>WNW</td>\n",
       "      <td>37.0</td>\n",
       "      <td>SSE</td>\n",
       "      <td>NW</td>\n",
       "      <td>6.0</td>\n",
       "      <td>17.0</td>\n",
       "      <td>...</td>\n",
       "      <td>12.0</td>\n",
       "      <td>1015.1</td>\n",
       "      <td>1010.3</td>\n",
       "      <td>20.7</td>\n",
       "      <td>33.9</td>\n",
       "      <td>No</td>\n",
       "      <td>0</td>\n",
       "      <td>2009</td>\n",
       "      <td>1</td>\n",
       "      <td>4</td>\n",
       "    </tr>\n",
       "    <tr>\n",
       "      <th>34</th>\n",
       "      <td>Albury</td>\n",
       "      <td>12.9</td>\n",
       "      <td>35.8</td>\n",
       "      <td>0.0</td>\n",
       "      <td>WNW</td>\n",
       "      <td>41.0</td>\n",
       "      <td>ENE</td>\n",
       "      <td>NW</td>\n",
       "      <td>6.0</td>\n",
       "      <td>26.0</td>\n",
       "      <td>...</td>\n",
       "      <td>9.0</td>\n",
       "      <td>1012.6</td>\n",
       "      <td>1009.2</td>\n",
       "      <td>22.4</td>\n",
       "      <td>34.4</td>\n",
       "      <td>No</td>\n",
       "      <td>0</td>\n",
       "      <td>2009</td>\n",
       "      <td>1</td>\n",
       "      <td>5</td>\n",
       "    </tr>\n",
       "  </tbody>\n",
       "</table>\n",
       "<p>5 rows × 21 columns</p>\n",
       "</div>"
      ],
      "text/plain": [
       "   Location  MinTemp  MaxTemp  Rainfall WindGustDir  WindGustSpeed WindDir9am  \\\n",
       "30   Albury     11.3     26.5       0.0         WNW           56.0          W   \n",
       "31   Albury      9.6     23.9       0.0           W           41.0        WSW   \n",
       "32   Albury     10.5     28.8       0.0         SSE           26.0        SSE   \n",
       "33   Albury     12.3     34.6       0.0         WNW           37.0        SSE   \n",
       "34   Albury     12.9     35.8       0.0         WNW           41.0        ENE   \n",
       "\n",
       "   WindDir3pm  WindSpeed9am  WindSpeed3pm  ...  Humidity3pm  Pressure9am  \\\n",
       "30        WNW          19.0          31.0  ...         26.0       1004.5   \n",
       "31        SSW          19.0          11.0  ...         22.0       1014.4   \n",
       "32          E          11.0           7.0  ...         22.0       1018.7   \n",
       "33         NW           6.0          17.0  ...         12.0       1015.1   \n",
       "34         NW           6.0          26.0  ...          9.0       1012.6   \n",
       "\n",
       "    Pressure3pm  Temp9am  Temp3pm  RainToday RainTomorrow  Year  Month  Day  \n",
       "30       1003.2     19.7     25.7         No            0  2009      1    1  \n",
       "31       1013.1     14.9     22.1         No            0  2009      1    2  \n",
       "32       1014.8     17.1     26.5         No            0  2009      1    3  \n",
       "33       1010.3     20.7     33.9         No            0  2009      1    4  \n",
       "34       1009.2     22.4     34.4         No            0  2009      1    5  \n",
       "\n",
       "[5 rows x 21 columns]"
      ]
     },
     "execution_count": 183,
     "metadata": {},
     "output_type": "execute_result"
    }
   ],
   "source": [
    "df_copy.head()"
   ]
  },
  {
   "cell_type": "markdown",
   "metadata": {},
   "source": [
    "### Columns to transform: Location, WindGustDir, WindDir9am, WindDir3pm, RainToday"
   ]
  },
  {
   "cell_type": "code",
   "execution_count": 184,
   "metadata": {},
   "outputs": [],
   "source": [
    "df_copy = pd.get_dummies(data=df_copy, columns=['Location', 'WindGustDir', 'WindDir9am', 'WindDir3pm', 'RainToday'])"
   ]
  },
  {
   "cell_type": "code",
   "execution_count": 185,
   "metadata": {},
   "outputs": [
    {
     "name": "stdout",
     "output_type": "stream",
     "text": [
      "<class 'pandas.core.frame.DataFrame'>\n",
      "Int64Index: 120016 entries, 30 to 142192\n",
      "Columns: 113 entries, MinTemp to RainToday_Yes\n",
      "dtypes: float64(12), int32(1), int64(3), uint8(97)\n",
      "memory usage: 26.2 MB\n"
     ]
    }
   ],
   "source": [
    "df_copy.info()"
   ]
  },
  {
   "cell_type": "code",
   "execution_count": 186,
   "metadata": {},
   "outputs": [
    {
     "data": {
      "text/plain": [
       "Index(['MinTemp', 'MaxTemp', 'Rainfall', 'WindGustSpeed', 'WindSpeed9am',\n",
       "       'WindSpeed3pm', 'Humidity9am', 'Humidity3pm', 'Pressure9am',\n",
       "       'Pressure3pm',\n",
       "       ...\n",
       "       'WindDir3pm_S', 'WindDir3pm_SE', 'WindDir3pm_SSE', 'WindDir3pm_SSW',\n",
       "       'WindDir3pm_SW', 'WindDir3pm_W', 'WindDir3pm_WNW', 'WindDir3pm_WSW',\n",
       "       'RainToday_No', 'RainToday_Yes'],\n",
       "      dtype='object', length=113)"
      ]
     },
     "execution_count": 186,
     "metadata": {},
     "output_type": "execute_result"
    }
   ],
   "source": [
    "df_copy.columns"
   ]
  },
  {
   "cell_type": "code",
   "execution_count": 187,
   "metadata": {},
   "outputs": [],
   "source": [
    "df_copy.to_csv('df_clean.csv', index=False)"
   ]
  }
 ],
 "metadata": {
  "kernelspec": {
   "display_name": "Python 3 (ipykernel)",
   "language": "python",
   "name": "python3"
  },
  "language_info": {
   "codemirror_mode": {
    "name": "ipython",
    "version": 3
   },
   "file_extension": ".py",
   "mimetype": "text/x-python",
   "name": "python",
   "nbconvert_exporter": "python",
   "pygments_lexer": "ipython3",
   "version": "3.9.12"
  }
 },
 "nbformat": 4,
 "nbformat_minor": 4
}
