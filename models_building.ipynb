{
 "cells": [
  {
   "cell_type": "code",
   "execution_count": 221,
   "metadata": {},
   "outputs": [],
   "source": [
    "import numpy as np\n",
    "import pandas as pd\n",
    "from sklearn.model_selection import train_test_split, GridSearchCV, RandomizedSearchCV, cross_val_score\n",
    "from sklearn.preprocessing import StandardScaler, LabelEncoder\n",
    "from sklearn.ensemble import RandomForestClassifier\n",
    "from sklearn.metrics import accuracy_score"
   ]
  },
  {
   "cell_type": "code",
   "execution_count": 222,
   "metadata": {},
   "outputs": [],
   "source": [
    "df_copy = pd.read_csv('df_clean.csv')\n",
    "df_copy_all = pd.read_csv('df_copy_all.csv')"
   ]
  },
  {
   "cell_type": "markdown",
   "metadata": {},
   "source": [
    "## Train and test data"
   ]
  },
  {
   "cell_type": "code",
   "execution_count": 223,
   "metadata": {},
   "outputs": [],
   "source": [
    "X_train, X_test, y_train, y_test = train_test_split(df_copy.drop('RainTomorrow', axis=1), \n",
    "                                                    df_copy['RainTomorrow'], random_state=42)"
   ]
  },
  {
   "cell_type": "code",
   "execution_count": 224,
   "metadata": {},
   "outputs": [
    {
     "data": {
      "text/plain": [
       "((90012, 112), (30004, 112), (90012,), (30004,))"
      ]
     },
     "execution_count": 224,
     "metadata": {},
     "output_type": "execute_result"
    }
   ],
   "source": [
    "X_train.shape, X_test.shape, y_train.shape, y_test.shape"
   ]
  },
  {
   "cell_type": "markdown",
   "metadata": {},
   "source": [
    "## Standarisation"
   ]
  },
  {
   "cell_type": "code",
   "execution_count": 225,
   "metadata": {},
   "outputs": [],
   "source": [
    "std_scaler = StandardScaler()"
   ]
  },
  {
   "cell_type": "code",
   "execution_count": 226,
   "metadata": {},
   "outputs": [],
   "source": [
    "normalized_X_train = pd.DataFrame(std_scaler.fit_transform(X_train), columns=X_train.columns)"
   ]
  },
  {
   "cell_type": "code",
   "execution_count": 227,
   "metadata": {},
   "outputs": [
    {
     "data": {
      "text/plain": [
       "(90012, 112)"
      ]
     },
     "execution_count": 227,
     "metadata": {},
     "output_type": "execute_result"
    }
   ],
   "source": [
    "normalized_X_train.shape"
   ]
  },
  {
   "cell_type": "code",
   "execution_count": 228,
   "metadata": {},
   "outputs": [],
   "source": [
    "normalized_X_test = pd.DataFrame(std_scaler.transform(X_test), columns=X_test.columns)"
   ]
  },
  {
   "cell_type": "code",
   "execution_count": 229,
   "metadata": {},
   "outputs": [
    {
     "data": {
      "text/plain": [
       "(30004, 112)"
      ]
     },
     "execution_count": 229,
     "metadata": {},
     "output_type": "execute_result"
    }
   ],
   "source": [
    "normalized_X_test.shape"
   ]
  },
  {
   "cell_type": "markdown",
   "metadata": {},
   "source": [
    "## First basic Random Forest model"
   ]
  },
  {
   "cell_type": "code",
   "execution_count": 230,
   "metadata": {},
   "outputs": [
    {
     "data": {
      "text/plain": [
       "RandomForestClassifier(max_depth=5, n_estimators=5, random_state=42)"
      ]
     },
     "execution_count": 230,
     "metadata": {},
     "output_type": "execute_result"
    }
   ],
   "source": [
    "rf_classifier = RandomForestClassifier(n_estimators=5, criterion='gini', max_depth=5, random_state=42)\n",
    "\n",
    "rf_classifier.fit(normalized_X_train, y_train)"
   ]
  },
  {
   "cell_type": "markdown",
   "metadata": {},
   "source": [
    "### crossvalidation"
   ]
  },
  {
   "cell_type": "code",
   "execution_count": 231,
   "metadata": {
    "scrolled": true
   },
   "outputs": [
    {
     "data": {
      "text/plain": [
       "0.8212127310350198"
      ]
     },
     "execution_count": 231,
     "metadata": {},
     "output_type": "execute_result"
    }
   ],
   "source": [
    "cross_val_score(rf_classifier, normalized_X_train, y_train, cv=10).mean()"
   ]
  },
  {
   "cell_type": "code",
   "execution_count": 232,
   "metadata": {},
   "outputs": [],
   "source": [
    "y_pred = rf_classifier.predict(normalized_X_test)"
   ]
  },
  {
   "cell_type": "code",
   "execution_count": 233,
   "metadata": {},
   "outputs": [
    {
     "data": {
      "text/plain": [
       "0.8205905879216104"
      ]
     },
     "execution_count": 233,
     "metadata": {},
     "output_type": "execute_result"
    }
   ],
   "source": [
    "accuracy_score(y_test, y_pred)"
   ]
  },
  {
   "cell_type": "markdown",
   "metadata": {},
   "source": [
    "## RandomizedSearchCV for better parameters"
   ]
  },
  {
   "cell_type": "code",
   "execution_count": 234,
   "metadata": {},
   "outputs": [],
   "source": [
    "param_grid = {'criterion': ['entropy', 'gini'],\n",
    "              'max_depth': [2, 4, 6, 8, None],\n",
    "              'min_samples_leaf': list(range(2,6)),\n",
    "              'n_estimators': [10, 50, 100, 200]}"
   ]
  },
  {
   "cell_type": "code",
   "execution_count": 235,
   "metadata": {},
   "outputs": [],
   "source": [
    "def grid_combination(grid):\n",
    "    total_params = 1 \n",
    "    for par in grid:\n",
    "        total_params  = total_params * len(grid[par])\n",
    "    return total_params"
   ]
  },
  {
   "cell_type": "code",
   "execution_count": 236,
   "metadata": {},
   "outputs": [
    {
     "name": "stdout",
     "output_type": "stream",
     "text": [
      "All combinations: 160\n"
     ]
    }
   ],
   "source": [
    "print(f'All combinations: {grid_combination(param_grid)}')"
   ]
  },
  {
   "cell_type": "code",
   "execution_count": 237,
   "metadata": {},
   "outputs": [
    {
     "name": "stdout",
     "output_type": "stream",
     "text": [
      "Fitting 5 folds for each of 20 candidates, totalling 100 fits\n"
     ]
    },
    {
     "data": {
      "text/plain": [
       "RandomizedSearchCV(cv=5,\n",
       "                   estimator=RandomForestClassifier(max_depth=5, n_estimators=5,\n",
       "                                                    random_state=42),\n",
       "                   n_iter=20,\n",
       "                   param_distributions={'criterion': ['entropy', 'gini'],\n",
       "                                        'max_depth': [2, 4, 6, 8, None],\n",
       "                                        'min_samples_leaf': [2, 3, 4, 5],\n",
       "                                        'n_estimators': [10, 50, 100, 200]},\n",
       "                   random_state=42, scoring='accuracy', verbose=1)"
      ]
     },
     "execution_count": 237,
     "metadata": {},
     "output_type": "execute_result"
    }
   ],
   "source": [
    "random_search = RandomizedSearchCV(rf_classifier, param_distributions=param_grid, cv=5, n_iter=20, verbose=1, \n",
    "                                   scoring='accuracy',random_state=42)\n",
    "\n",
    "random_search.fit(normalized_X_train,y_train)"
   ]
  },
  {
   "cell_type": "code",
   "execution_count": 238,
   "metadata": {},
   "outputs": [
    {
     "data": {
      "text/plain": [
       "{'n_estimators': 100,\n",
       " 'min_samples_leaf': 2,\n",
       " 'max_depth': None,\n",
       " 'criterion': 'entropy'}"
      ]
     },
     "execution_count": 238,
     "metadata": {},
     "output_type": "execute_result"
    }
   ],
   "source": [
    "random_search.best_params_"
   ]
  },
  {
   "cell_type": "code",
   "execution_count": 239,
   "metadata": {},
   "outputs": [
    {
     "data": {
      "text/plain": [
       "0.8570635177192104"
      ]
     },
     "execution_count": 239,
     "metadata": {},
     "output_type": "execute_result"
    }
   ],
   "source": [
    "random_search.best_score_"
   ]
  },
  {
   "cell_type": "code",
   "execution_count": 240,
   "metadata": {},
   "outputs": [],
   "source": [
    "y_pred = random_search.best_estimator_.predict(normalized_X_test)"
   ]
  },
  {
   "cell_type": "code",
   "execution_count": 241,
   "metadata": {},
   "outputs": [
    {
     "data": {
      "text/plain": [
       "0.8563858152246367"
      ]
     },
     "execution_count": 241,
     "metadata": {},
     "output_type": "execute_result"
    }
   ],
   "source": [
    "accuracy_score(y_test, y_pred)"
   ]
  },
  {
   "cell_type": "markdown",
   "metadata": {},
   "source": [
    "## GridSearchCV for best parameters"
   ]
  },
  {
   "cell_type": "code",
   "execution_count": 242,
   "metadata": {},
   "outputs": [],
   "source": [
    "param_grid_2 = {'criterion': ['entropy'],\n",
    "                'max_depth': [8, None],\n",
    "                'min_samples_leaf': [2, 3],\n",
    "                'n_estimators': [200, 220, 250]}"
   ]
  },
  {
   "cell_type": "code",
   "execution_count": 243,
   "metadata": {},
   "outputs": [
    {
     "name": "stdout",
     "output_type": "stream",
     "text": [
      "Liczba wszystkich kombinacji: 12\n"
     ]
    }
   ],
   "source": [
    "print(f'Liczba wszystkich kombinacji: {grid_combination(param_grid_2)}')"
   ]
  },
  {
   "cell_type": "code",
   "execution_count": 244,
   "metadata": {},
   "outputs": [
    {
     "name": "stdout",
     "output_type": "stream",
     "text": [
      "Fitting 5 folds for each of 12 candidates, totalling 60 fits\n"
     ]
    },
    {
     "data": {
      "text/plain": [
       "GridSearchCV(cv=5,\n",
       "             estimator=RandomForestClassifier(max_depth=5, n_estimators=5,\n",
       "                                              random_state=42),\n",
       "             param_grid={'criterion': ['entropy'], 'max_depth': [8, None],\n",
       "                         'min_samples_leaf': [2, 3],\n",
       "                         'n_estimators': [200, 220, 250]},\n",
       "             verbose=1)"
      ]
     },
     "execution_count": 244,
     "metadata": {},
     "output_type": "execute_result"
    }
   ],
   "source": [
    "grid_search = GridSearchCV(rf_classifier, param_grid=param_grid_2, cv=5, verbose=1)\n",
    "\n",
    "grid_search.fit(normalized_X_train, y_train)"
   ]
  },
  {
   "cell_type": "code",
   "execution_count": 245,
   "metadata": {},
   "outputs": [
    {
     "data": {
      "text/plain": [
       "{'criterion': 'entropy',\n",
       " 'max_depth': None,\n",
       " 'min_samples_leaf': 2,\n",
       " 'n_estimators': 250}"
      ]
     },
     "execution_count": 245,
     "metadata": {},
     "output_type": "execute_result"
    }
   ],
   "source": [
    "grid_search.best_params_"
   ]
  },
  {
   "cell_type": "code",
   "execution_count": 246,
   "metadata": {},
   "outputs": [
    {
     "data": {
      "text/plain": [
       "0.8574412282247297"
      ]
     },
     "execution_count": 246,
     "metadata": {},
     "output_type": "execute_result"
    }
   ],
   "source": [
    "grid_search.best_score_"
   ]
  },
  {
   "cell_type": "code",
   "execution_count": 247,
   "metadata": {},
   "outputs": [],
   "source": [
    "y_pred = grid_search.best_estimator_.predict(normalized_X_test)"
   ]
  },
  {
   "cell_type": "code",
   "execution_count": 248,
   "metadata": {},
   "outputs": [
    {
     "data": {
      "text/plain": [
       "0.856985735235302"
      ]
     },
     "execution_count": 248,
     "metadata": {},
     "output_type": "execute_result"
    }
   ],
   "source": [
    "accuracy_score(y_test, y_pred)"
   ]
  },
  {
   "cell_type": "markdown",
   "metadata": {},
   "source": [
    "### Adjusting max_features"
   ]
  },
  {
   "cell_type": "code",
   "execution_count": 249,
   "metadata": {},
   "outputs": [],
   "source": [
    "rf_classifier_2 = RandomForestClassifier(criterion='entropy', max_depth=None, min_samples_leaf=2,\n",
    "                                         n_estimators=250, max_features=8)"
   ]
  },
  {
   "cell_type": "code",
   "execution_count": 250,
   "metadata": {},
   "outputs": [
    {
     "data": {
      "text/plain": [
       "0.8567524362352599"
      ]
     },
     "execution_count": 250,
     "metadata": {},
     "output_type": "execute_result"
    }
   ],
   "source": [
    "cross_val_score(rf_classifier_2, normalized_X_train, y_train, cv=5).mean()"
   ]
  },
  {
   "cell_type": "markdown",
   "metadata": {},
   "source": [
    "### Best model so far"
   ]
  },
  {
   "cell_type": "code",
   "execution_count": 251,
   "metadata": {},
   "outputs": [],
   "source": [
    "rf_classifier_3 = RandomForestClassifier(criterion='entropy', max_depth=None, min_samples_leaf=2,\n",
    "                                         n_estimators=250, max_features=10)"
   ]
  },
  {
   "cell_type": "code",
   "execution_count": 252,
   "metadata": {},
   "outputs": [
    {
     "data": {
      "text/plain": [
       "0.8575523276086459"
      ]
     },
     "execution_count": 252,
     "metadata": {},
     "output_type": "execute_result"
    }
   ],
   "source": [
    "cross_val_score(rf_classifier_3, normalized_X_train, y_train, cv=5).mean()"
   ]
  },
  {
   "cell_type": "code",
   "execution_count": 253,
   "metadata": {},
   "outputs": [
    {
     "data": {
      "text/plain": [
       "RandomForestClassifier(criterion='entropy', max_features=10, min_samples_leaf=2,\n",
       "                       n_estimators=250)"
      ]
     },
     "execution_count": 253,
     "metadata": {},
     "output_type": "execute_result"
    }
   ],
   "source": [
    "rf_classifier_3.fit(normalized_X_train, y_train)"
   ]
  },
  {
   "cell_type": "code",
   "execution_count": 254,
   "metadata": {},
   "outputs": [],
   "source": [
    "y_pred = rf_classifier_3.predict(normalized_X_test)"
   ]
  },
  {
   "cell_type": "code",
   "execution_count": 255,
   "metadata": {},
   "outputs": [
    {
     "data": {
      "text/plain": [
       "0.857485668577523"
      ]
     },
     "execution_count": 255,
     "metadata": {},
     "output_type": "execute_result"
    }
   ],
   "source": [
    "accuracy_score(y_test, y_pred)"
   ]
  },
  {
   "cell_type": "markdown",
   "metadata": {},
   "source": [
    "## Filling missing values in sunshine, cloud9am/3pm"
   ]
  },
  {
   "cell_type": "code",
   "execution_count": 256,
   "metadata": {},
   "outputs": [
    {
     "name": "stdout",
     "output_type": "stream",
     "text": [
      "<class 'pandas.core.frame.DataFrame'>\n",
      "RangeIndex: 120016 entries, 0 to 120015\n",
      "Data columns (total 24 columns):\n",
      " #   Column         Non-Null Count   Dtype  \n",
      "---  ------         --------------   -----  \n",
      " 0   Location       120016 non-null  object \n",
      " 1   MinTemp        120016 non-null  float64\n",
      " 2   MaxTemp        120016 non-null  float64\n",
      " 3   Rainfall       120016 non-null  float64\n",
      " 4   Sunshine       65193 non-null   float64\n",
      " 5   WindGustDir    120016 non-null  object \n",
      " 6   WindGustSpeed  120016 non-null  float64\n",
      " 7   WindDir9am     120016 non-null  object \n",
      " 8   WindDir3pm     120016 non-null  object \n",
      " 9   WindSpeed9am   120016 non-null  float64\n",
      " 10  WindSpeed3pm   120016 non-null  float64\n",
      " 11  Humidity9am    120016 non-null  float64\n",
      " 12  Humidity3pm    120016 non-null  float64\n",
      " 13  Pressure9am    120016 non-null  float64\n",
      " 14  Pressure3pm    120016 non-null  float64\n",
      " 15  Cloud9am       74916 non-null   float64\n",
      " 16  Cloud3pm       73581 non-null   float64\n",
      " 17  Temp9am        120016 non-null  float64\n",
      " 18  Temp3pm        120016 non-null  float64\n",
      " 19  RainToday      120016 non-null  object \n",
      " 20  RainTomorrow   120016 non-null  object \n",
      " 21  Year           120016 non-null  int64  \n",
      " 22  Month          120016 non-null  int64  \n",
      " 23  Day            120016 non-null  int64  \n",
      "dtypes: float64(15), int64(3), object(6)\n",
      "memory usage: 22.0+ MB\n"
     ]
    }
   ],
   "source": [
    "df_copy_all.info()"
   ]
  },
  {
   "cell_type": "code",
   "execution_count": 257,
   "metadata": {},
   "outputs": [],
   "source": [
    "sun_mean = np.mean(df_copy_all['Sunshine'])\n",
    "cl9_mean = np.mean(df_copy_all['Cloud9am'])\n",
    "cl3_mean = np.mean(df_copy_all['Cloud3pm'])"
   ]
  },
  {
   "cell_type": "code",
   "execution_count": 258,
   "metadata": {},
   "outputs": [],
   "source": [
    "df_copy_all['Sunshine'] = df_copy_all['Sunshine'].fillna(sun_mean)\n",
    "df_copy_all['Cloud9am'] = df_copy_all['Cloud9am'].fillna(cl9_mean)\n",
    "df_copy_all['Cloud3pm'] = df_copy_all['Cloud3pm'].fillna(cl3_mean)"
   ]
  },
  {
   "cell_type": "code",
   "execution_count": 259,
   "metadata": {},
   "outputs": [
    {
     "name": "stdout",
     "output_type": "stream",
     "text": [
      "<class 'pandas.core.frame.DataFrame'>\n",
      "RangeIndex: 120016 entries, 0 to 120015\n",
      "Data columns (total 24 columns):\n",
      " #   Column         Non-Null Count   Dtype  \n",
      "---  ------         --------------   -----  \n",
      " 0   Location       120016 non-null  object \n",
      " 1   MinTemp        120016 non-null  float64\n",
      " 2   MaxTemp        120016 non-null  float64\n",
      " 3   Rainfall       120016 non-null  float64\n",
      " 4   Sunshine       120016 non-null  float64\n",
      " 5   WindGustDir    120016 non-null  object \n",
      " 6   WindGustSpeed  120016 non-null  float64\n",
      " 7   WindDir9am     120016 non-null  object \n",
      " 8   WindDir3pm     120016 non-null  object \n",
      " 9   WindSpeed9am   120016 non-null  float64\n",
      " 10  WindSpeed3pm   120016 non-null  float64\n",
      " 11  Humidity9am    120016 non-null  float64\n",
      " 12  Humidity3pm    120016 non-null  float64\n",
      " 13  Pressure9am    120016 non-null  float64\n",
      " 14  Pressure3pm    120016 non-null  float64\n",
      " 15  Cloud9am       120016 non-null  float64\n",
      " 16  Cloud3pm       120016 non-null  float64\n",
      " 17  Temp9am        120016 non-null  float64\n",
      " 18  Temp3pm        120016 non-null  float64\n",
      " 19  RainToday      120016 non-null  object \n",
      " 20  RainTomorrow   120016 non-null  object \n",
      " 21  Year           120016 non-null  int64  \n",
      " 22  Month          120016 non-null  int64  \n",
      " 23  Day            120016 non-null  int64  \n",
      "dtypes: float64(15), int64(3), object(6)\n",
      "memory usage: 22.0+ MB\n"
     ]
    }
   ],
   "source": [
    "df_copy_all.info()"
   ]
  },
  {
   "cell_type": "code",
   "execution_count": 260,
   "metadata": {},
   "outputs": [
    {
     "data": {
      "text/plain": [
       "array(['No', 'Yes'], dtype=object)"
      ]
     },
     "execution_count": 260,
     "metadata": {},
     "output_type": "execute_result"
    }
   ],
   "source": [
    "df_copy_all['RainTomorrow'].unique()"
   ]
  },
  {
   "cell_type": "markdown",
   "metadata": {},
   "source": [
    "### Label encoding"
   ]
  },
  {
   "cell_type": "code",
   "execution_count": 261,
   "metadata": {},
   "outputs": [],
   "source": [
    "le = LabelEncoder()"
   ]
  },
  {
   "cell_type": "code",
   "execution_count": 262,
   "metadata": {},
   "outputs": [
    {
     "data": {
      "text/plain": [
       "LabelEncoder()"
      ]
     },
     "execution_count": 262,
     "metadata": {},
     "output_type": "execute_result"
    }
   ],
   "source": [
    "le.fit(df_copy_all['RainTomorrow'])"
   ]
  },
  {
   "cell_type": "code",
   "execution_count": 263,
   "metadata": {},
   "outputs": [],
   "source": [
    "df_copy_all['RainTomorrow'] = le.transform(df_copy_all['RainTomorrow'])"
   ]
  },
  {
   "cell_type": "code",
   "execution_count": 264,
   "metadata": {},
   "outputs": [
    {
     "name": "stdout",
     "output_type": "stream",
     "text": [
      "<class 'pandas.core.frame.DataFrame'>\n",
      "RangeIndex: 120016 entries, 0 to 120015\n",
      "Data columns (total 24 columns):\n",
      " #   Column         Non-Null Count   Dtype  \n",
      "---  ------         --------------   -----  \n",
      " 0   Location       120016 non-null  object \n",
      " 1   MinTemp        120016 non-null  float64\n",
      " 2   MaxTemp        120016 non-null  float64\n",
      " 3   Rainfall       120016 non-null  float64\n",
      " 4   Sunshine       120016 non-null  float64\n",
      " 5   WindGustDir    120016 non-null  object \n",
      " 6   WindGustSpeed  120016 non-null  float64\n",
      " 7   WindDir9am     120016 non-null  object \n",
      " 8   WindDir3pm     120016 non-null  object \n",
      " 9   WindSpeed9am   120016 non-null  float64\n",
      " 10  WindSpeed3pm   120016 non-null  float64\n",
      " 11  Humidity9am    120016 non-null  float64\n",
      " 12  Humidity3pm    120016 non-null  float64\n",
      " 13  Pressure9am    120016 non-null  float64\n",
      " 14  Pressure3pm    120016 non-null  float64\n",
      " 15  Cloud9am       120016 non-null  float64\n",
      " 16  Cloud3pm       120016 non-null  float64\n",
      " 17  Temp9am        120016 non-null  float64\n",
      " 18  Temp3pm        120016 non-null  float64\n",
      " 19  RainToday      120016 non-null  object \n",
      " 20  RainTomorrow   120016 non-null  int32  \n",
      " 21  Year           120016 non-null  int64  \n",
      " 22  Month          120016 non-null  int64  \n",
      " 23  Day            120016 non-null  int64  \n",
      "dtypes: float64(15), int32(1), int64(3), object(5)\n",
      "memory usage: 21.5+ MB\n"
     ]
    }
   ],
   "source": [
    "df_copy_all.info()"
   ]
  },
  {
   "cell_type": "markdown",
   "metadata": {},
   "source": [
    "## Correlation"
   ]
  },
  {
   "cell_type": "code",
   "execution_count": 265,
   "metadata": {},
   "outputs": [
    {
     "data": {
      "image/png": "[encoded data removed]",
      "text/plain": [
       "<Figure size 1080x720 with 2 Axes>"
      ]
     },
     "metadata": {},
     "output_type": "display_data"
    }
   ],
   "source": [
    "cM = df_copy_all.corr(method='spearman')\n",
    "sns.set(rc={'figure.figsize': (15,10)})\n",
    "color_map = sns.diverging_palette(240,10,n=10)\n",
    "sns.heatmap(cM, vmin=-1., vmax=1., cmap=color_map, annot=True);"
   ]
  },
  {
   "cell_type": "markdown",
   "metadata": {},
   "source": [
    "## Categorical data "
   ]
  },
  {
   "cell_type": "code",
   "execution_count": 266,
   "metadata": {},
   "outputs": [],
   "source": [
    "df_copy_all = pd.get_dummies(df_copy_all)"
   ]
  },
  {
   "cell_type": "code",
   "execution_count": 267,
   "metadata": {},
   "outputs": [
    {
     "name": "stdout",
     "output_type": "stream",
     "text": [
      "<class 'pandas.core.frame.DataFrame'>\n",
      "RangeIndex: 120016 entries, 0 to 120015\n",
      "Columns: 116 entries, MinTemp to RainToday_Yes\n",
      "dtypes: float64(15), int32(1), int64(3), uint8(97)\n",
      "memory usage: 28.0 MB\n"
     ]
    }
   ],
   "source": [
    "df_copy_all.info()"
   ]
  },
  {
   "cell_type": "markdown",
   "metadata": {},
   "source": [
    "## Train and test data"
   ]
  },
  {
   "cell_type": "code",
   "execution_count": 268,
   "metadata": {},
   "outputs": [],
   "source": [
    "X_train, X_test, y_train, y_test = train_test_split(df_copy_all.drop('RainTomorrow', axis=1), df_copy_all['RainTomorrow'],\n",
    "                                                   random_state=42)"
   ]
  },
  {
   "cell_type": "code",
   "execution_count": 269,
   "metadata": {},
   "outputs": [
    {
     "data": {
      "text/plain": [
       "((90012, 115), (30004, 115), (90012,), (30004,))"
      ]
     },
     "execution_count": 269,
     "metadata": {},
     "output_type": "execute_result"
    }
   ],
   "source": [
    "X_train.shape, X_test.shape, y_train.shape, y_test.shape"
   ]
  },
  {
   "cell_type": "markdown",
   "metadata": {},
   "source": [
    "## Standarisation"
   ]
  },
  {
   "cell_type": "code",
   "execution_count": 270,
   "metadata": {},
   "outputs": [],
   "source": [
    "std_scaler = StandardScaler()\n",
    "normalized_X_train = pd.DataFrame(std_scaler.fit_transform(X_train), columns=X_train.columns)"
   ]
  },
  {
   "cell_type": "code",
   "execution_count": 271,
   "metadata": {},
   "outputs": [],
   "source": [
    "normalized_X_test = pd.DataFrame(std_scaler.transform(X_test), columns=X_test.columns)"
   ]
  },
  {
   "cell_type": "markdown",
   "metadata": {},
   "source": [
    "## Basic model on this data"
   ]
  },
  {
   "cell_type": "code",
   "execution_count": 272,
   "metadata": {},
   "outputs": [
    {
     "data": {
      "text/plain": [
       "RandomForestClassifier(max_depth=5, n_estimators=5, random_state=42)"
      ]
     },
     "execution_count": 272,
     "metadata": {},
     "output_type": "execute_result"
    }
   ],
   "source": [
    "rf_classifier = RandomForestClassifier(n_estimators=5, criterion='gini', max_depth=5, random_state=42)\n",
    "\n",
    "rf_classifier.fit(normalized_X_train, y_train)"
   ]
  },
  {
   "cell_type": "code",
   "execution_count": 273,
   "metadata": {},
   "outputs": [
    {
     "data": {
      "text/plain": [
       "0.8356996362768057"
      ]
     },
     "execution_count": 273,
     "metadata": {},
     "output_type": "execute_result"
    }
   ],
   "source": [
    "cross_val_score(rf_classifier, normalized_X_train, y_train, cv=10).mean()"
   ]
  },
  {
   "cell_type": "markdown",
   "metadata": {},
   "source": [
    "## RandomizedSearchCV for better parameters"
   ]
  },
  {
   "cell_type": "code",
   "execution_count": 274,
   "metadata": {},
   "outputs": [],
   "source": [
    "param_grid = {'criterion': ['entropy', 'gini'],\n",
    "              'max_depth': [4, 6, 8, None],\n",
    "              'min_samples_leaf': [4, 6, 8],\n",
    "              'n_estimators': [100, 150, 200]}"
   ]
  },
  {
   "cell_type": "code",
   "execution_count": 275,
   "metadata": {},
   "outputs": [
    {
     "name": "stdout",
     "output_type": "stream",
     "text": [
      "Liczba wszystkich kombinacji: 72\n"
     ]
    }
   ],
   "source": [
    "print(f'Liczba wszystkich kombinacji: {grid_combination(param_grid)}')"
   ]
  },
  {
   "cell_type": "code",
   "execution_count": 276,
   "metadata": {
    "scrolled": true
   },
   "outputs": [
    {
     "name": "stdout",
     "output_type": "stream",
     "text": [
      "Fitting 5 folds for each of 15 candidates, totalling 75 fits\n",
      "[CV] END criterion=entropy, max_depth=4, min_samples_leaf=6, n_estimators=150; total time=   4.3s\n",
      "[CV] END criterion=entropy, max_depth=4, min_samples_leaf=6, n_estimators=150; total time=   4.3s\n",
      "[CV] END criterion=entropy, max_depth=4, min_samples_leaf=6, n_estimators=150; total time=   4.5s\n",
      "[CV] END criterion=entropy, max_depth=4, min_samples_leaf=6, n_estimators=150; total time=   4.8s\n",
      "[CV] END criterion=entropy, max_depth=4, min_samples_leaf=6, n_estimators=150; total time=   6.7s\n",
      "[CV] END criterion=gini, max_depth=8, min_samples_leaf=8, n_estimators=200; total time=  11.0s\n",
      "[CV] END criterion=gini, max_depth=8, min_samples_leaf=8, n_estimators=200; total time=  11.2s\n",
      "[CV] END criterion=gini, max_depth=8, min_samples_leaf=8, n_estimators=200; total time=  12.4s\n",
      "[CV] END criterion=gini, max_depth=8, min_samples_leaf=8, n_estimators=200; total time=  11.2s\n",
      "[CV] END criterion=gini, max_depth=8, min_samples_leaf=8, n_estimators=200; total time=  10.3s\n",
      "[CV] END criterion=entropy, max_depth=8, min_samples_leaf=4, n_estimators=100; total time=   5.7s\n",
      "[CV] END criterion=entropy, max_depth=8, min_samples_leaf=4, n_estimators=100; total time=   6.7s\n",
      "[CV] END criterion=entropy, max_depth=8, min_samples_leaf=4, n_estimators=100; total time=   6.3s\n",
      "[CV] END criterion=entropy, max_depth=8, min_samples_leaf=4, n_estimators=100; total time=   5.4s\n",
      "[CV] END criterion=entropy, max_depth=8, min_samples_leaf=4, n_estimators=100; total time=   5.6s\n",
      "[CV] END criterion=entropy, max_depth=4, min_samples_leaf=4, n_estimators=100; total time=   2.8s\n",
      "[CV] END criterion=entropy, max_depth=4, min_samples_leaf=4, n_estimators=100; total time=   2.9s\n",
      "[CV] END criterion=entropy, max_depth=4, min_samples_leaf=4, n_estimators=100; total time=   2.8s\n",
      "[CV] END criterion=entropy, max_depth=4, min_samples_leaf=4, n_estimators=100; total time=   2.8s\n",
      "[CV] END criterion=entropy, max_depth=4, min_samples_leaf=4, n_estimators=100; total time=   2.9s\n",
      "[CV] END criterion=entropy, max_depth=None, min_samples_leaf=4, n_estimators=150; total time=  25.4s\n",
      "[CV] END criterion=entropy, max_depth=None, min_samples_leaf=4, n_estimators=150; total time=  21.7s\n",
      "[CV] END criterion=entropy, max_depth=None, min_samples_leaf=4, n_estimators=150; total time=  22.1s\n",
      "[CV] END criterion=entropy, max_depth=None, min_samples_leaf=4, n_estimators=150; total time=  20.8s\n",
      "[CV] END criterion=entropy, max_depth=None, min_samples_leaf=4, n_estimators=150; total time=  20.6s\n",
      "[CV] END criterion=gini, max_depth=6, min_samples_leaf=6, n_estimators=200; total time=   8.0s\n",
      "[CV] END criterion=gini, max_depth=6, min_samples_leaf=6, n_estimators=200; total time=   8.0s\n",
      "[CV] END criterion=gini, max_depth=6, min_samples_leaf=6, n_estimators=200; total time=   8.0s\n",
      "[CV] END criterion=gini, max_depth=6, min_samples_leaf=6, n_estimators=200; total time=   8.0s\n",
      "[CV] END criterion=gini, max_depth=6, min_samples_leaf=6, n_estimators=200; total time=   8.0s\n",
      "[CV] END criterion=entropy, max_depth=6, min_samples_leaf=4, n_estimators=150; total time=   6.1s\n",
      "[CV] END criterion=entropy, max_depth=6, min_samples_leaf=4, n_estimators=150; total time=   6.0s\n",
      "[CV] END criterion=entropy, max_depth=6, min_samples_leaf=4, n_estimators=150; total time=   6.0s\n",
      "[CV] END criterion=entropy, max_depth=6, min_samples_leaf=4, n_estimators=150; total time=   6.0s\n",
      "[CV] END criterion=entropy, max_depth=6, min_samples_leaf=4, n_estimators=150; total time=   6.1s\n",
      "[CV] END criterion=entropy, max_depth=None, min_samples_leaf=8, n_estimators=150; total time=  21.1s\n",
      "[CV] END criterion=entropy, max_depth=None, min_samples_leaf=8, n_estimators=150; total time=  21.1s\n",
      "[CV] END criterion=entropy, max_depth=None, min_samples_leaf=8, n_estimators=150; total time=  21.3s\n",
      "[CV] END criterion=entropy, max_depth=None, min_samples_leaf=8, n_estimators=150; total time=  18.0s\n",
      "[CV] END criterion=entropy, max_depth=None, min_samples_leaf=8, n_estimators=150; total time=  17.9s\n",
      "[CV] END criterion=entropy, max_depth=6, min_samples_leaf=6, n_estimators=100; total time=   4.1s\n",
      "[CV] END criterion=entropy, max_depth=6, min_samples_leaf=6, n_estimators=100; total time=   4.4s\n",
      "[CV] END criterion=entropy, max_depth=6, min_samples_leaf=6, n_estimators=100; total time=   4.0s\n",
      "[CV] END criterion=entropy, max_depth=6, min_samples_leaf=6, n_estimators=100; total time=   4.3s\n",
      "[CV] END criterion=entropy, max_depth=6, min_samples_leaf=6, n_estimators=100; total time=   4.2s\n",
      "[CV] END criterion=gini, max_depth=8, min_samples_leaf=4, n_estimators=100; total time=   5.2s\n",
      "[CV] END criterion=gini, max_depth=8, min_samples_leaf=4, n_estimators=100; total time=   5.6s\n",
      "[CV] END criterion=gini, max_depth=8, min_samples_leaf=4, n_estimators=100; total time=   5.7s\n",
      "[CV] END criterion=gini, max_depth=8, min_samples_leaf=4, n_estimators=100; total time=   5.6s\n",
      "[CV] END criterion=gini, max_depth=8, min_samples_leaf=4, n_estimators=100; total time=   5.0s\n",
      "[CV] END criterion=gini, max_depth=6, min_samples_leaf=4, n_estimators=200; total time=   7.6s\n",
      "[CV] END criterion=gini, max_depth=6, min_samples_leaf=4, n_estimators=200; total time=   7.5s\n",
      "[CV] END criterion=gini, max_depth=6, min_samples_leaf=4, n_estimators=200; total time=   7.5s\n",
      "[CV] END criterion=gini, max_depth=6, min_samples_leaf=4, n_estimators=200; total time=   7.6s\n",
      "[CV] END criterion=gini, max_depth=6, min_samples_leaf=4, n_estimators=200; total time=   7.6s\n",
      "[CV] END criterion=entropy, max_depth=None, min_samples_leaf=6, n_estimators=150; total time=  19.7s\n",
      "[CV] END criterion=entropy, max_depth=None, min_samples_leaf=6, n_estimators=150; total time=  19.8s\n",
      "[CV] END criterion=entropy, max_depth=None, min_samples_leaf=6, n_estimators=150; total time=  20.3s\n",
      "[CV] END criterion=entropy, max_depth=None, min_samples_leaf=6, n_estimators=150; total time=  18.4s\n",
      "[CV] END criterion=entropy, max_depth=None, min_samples_leaf=6, n_estimators=150; total time=  18.4s\n",
      "[CV] END criterion=entropy, max_depth=6, min_samples_leaf=4, n_estimators=100; total time=   3.8s\n",
      "[CV] END criterion=entropy, max_depth=6, min_samples_leaf=4, n_estimators=100; total time=   3.8s\n",
      "[CV] END criterion=entropy, max_depth=6, min_samples_leaf=4, n_estimators=100; total time=   3.8s\n",
      "[CV] END criterion=entropy, max_depth=6, min_samples_leaf=4, n_estimators=100; total time=   3.8s\n",
      "[CV] END criterion=entropy, max_depth=6, min_samples_leaf=4, n_estimators=100; total time=   3.8s\n",
      "[CV] END criterion=gini, max_depth=6, min_samples_leaf=4, n_estimators=100; total time=   3.8s\n",
      "[CV] END criterion=gini, max_depth=6, min_samples_leaf=4, n_estimators=100; total time=   3.9s\n",
      "[CV] END criterion=gini, max_depth=6, min_samples_leaf=4, n_estimators=100; total time=   3.7s\n",
      "[CV] END criterion=gini, max_depth=6, min_samples_leaf=4, n_estimators=100; total time=   4.4s\n",
      "[CV] END criterion=gini, max_depth=6, min_samples_leaf=4, n_estimators=100; total time=   4.7s\n",
      "[CV] END criterion=entropy, max_depth=4, min_samples_leaf=6, n_estimators=200; total time=   6.3s\n",
      "[CV] END criterion=entropy, max_depth=4, min_samples_leaf=6, n_estimators=200; total time=   6.2s\n",
      "[CV] END criterion=entropy, max_depth=4, min_samples_leaf=6, n_estimators=200; total time=   6.2s\n",
      "[CV] END criterion=entropy, max_depth=4, min_samples_leaf=6, n_estimators=200; total time=   5.7s\n",
      "[CV] END criterion=entropy, max_depth=4, min_samples_leaf=6, n_estimators=200; total time=   5.6s\n"
     ]
    },
    {
     "data": {
      "text/plain": [
       "RandomizedSearchCV(cv=5,\n",
       "                   estimator=RandomForestClassifier(max_depth=5, n_estimators=5,\n",
       "                                                    random_state=42),\n",
       "                   n_iter=15,\n",
       "                   param_distributions={'criterion': ['entropy', 'gini'],\n",
       "                                        'max_depth': [4, 6, 8, None],\n",
       "                                        'min_samples_leaf': [4, 6, 8],\n",
       "                                        'n_estimators': [100, 150, 200]},\n",
       "                   random_state=42, scoring='accuracy', verbose=2)"
      ]
     },
     "execution_count": 276,
     "metadata": {},
     "output_type": "execute_result"
    }
   ],
   "source": [
    "random_search = RandomizedSearchCV(rf_classifier, param_distributions=param_grid, cv=5, n_iter=15, verbose=2, \n",
    "                                   scoring='accuracy',random_state=42)\n",
    "\n",
    "random_search.fit(normalized_X_train,y_train)"
   ]
  },
  {
   "cell_type": "code",
   "execution_count": 277,
   "metadata": {},
   "outputs": [
    {
     "data": {
      "text/plain": [
       "0.85784117082586"
      ]
     },
     "execution_count": 277,
     "metadata": {},
     "output_type": "execute_result"
    }
   ],
   "source": [
    "random_search.best_score_"
   ]
  },
  {
   "cell_type": "code",
   "execution_count": 278,
   "metadata": {},
   "outputs": [
    {
     "data": {
      "text/plain": [
       "{'n_estimators': 150,\n",
       " 'min_samples_leaf': 4,\n",
       " 'max_depth': None,\n",
       " 'criterion': 'entropy'}"
      ]
     },
     "execution_count": 278,
     "metadata": {},
     "output_type": "execute_result"
    }
   ],
   "source": [
    "random_search.best_params_"
   ]
  },
  {
   "cell_type": "code",
   "execution_count": 279,
   "metadata": {},
   "outputs": [],
   "source": [
    "y_pred = random_search.best_estimator_.predict(normalized_X_test)"
   ]
  },
  {
   "cell_type": "code",
   "execution_count": 280,
   "metadata": {},
   "outputs": [
    {
     "data": {
      "text/plain": [
       "0.8570857219037462"
      ]
     },
     "execution_count": 280,
     "metadata": {},
     "output_type": "execute_result"
    }
   ],
   "source": [
    "accuracy_score(y_test, y_pred)"
   ]
  },
  {
   "cell_type": "markdown",
   "metadata": {},
   "source": [
    "## Best model has 85.7 % accuracy"
   ]
  },
  {
   "cell_type": "code",
   "execution_count": 281,
   "metadata": {},
   "outputs": [
    {
     "data": {
      "text/plain": [
       "RandomForestClassifier(criterion='entropy', min_samples_leaf=4,\n",
       "                       n_estimators=150, random_state=42)"
      ]
     },
     "execution_count": 281,
     "metadata": {},
     "output_type": "execute_result"
    }
   ],
   "source": [
    "best_model = RandomForestClassifier(criterion='entropy', max_depth=None, min_samples_leaf=4, n_estimators=150,\n",
    "                                   random_state=42)\n",
    "\n",
    "best_model.fit(normalized_X_train, y_train)"
   ]
  },
  {
   "cell_type": "code",
   "execution_count": 282,
   "metadata": {},
   "outputs": [],
   "source": [
    "y_pred = best_model.predict(normalized_X_test)"
   ]
  },
  {
   "cell_type": "code",
   "execution_count": 283,
   "metadata": {},
   "outputs": [
    {
     "data": {
      "text/plain": [
       "0.8570857219037462"
      ]
     },
     "execution_count": 283,
     "metadata": {},
     "output_type": "execute_result"
    }
   ],
   "source": [
    "accuracy_score(y_test, y_pred)"
   ]
  },
  {
   "cell_type": "markdown",
   "metadata": {},
   "source": [
    "## Model not using all features, only most correlated ones"
   ]
  },
  {
   "cell_type": "code",
   "execution_count": 284,
   "metadata": {},
   "outputs": [],
   "source": [
    "features_test = ['MaxTemp', 'Sunshine', 'WindGustSpeed', 'Humidity9am', 'Humidity3pm', 'Pressure9am',\n",
    "                 'Pressure3pm', 'Rainfall', 'Cloud9am', 'Cloud3pm', 'Temp3pm']"
   ]
  },
  {
   "cell_type": "code",
   "execution_count": 285,
   "metadata": {
    "scrolled": true
   },
   "outputs": [
    {
     "name": "stdout",
     "output_type": "stream",
     "text": [
      "Fitting 5 folds for each of 15 candidates, totalling 75 fits\n",
      "[CV] END criterion=entropy, max_depth=4, min_samples_leaf=6, n_estimators=150; total time=   4.2s\n",
      "[CV] END criterion=entropy, max_depth=4, min_samples_leaf=6, n_estimators=150; total time=   4.3s\n",
      "[CV] END criterion=entropy, max_depth=4, min_samples_leaf=6, n_estimators=150; total time=   4.2s\n",
      "[CV] END criterion=entropy, max_depth=4, min_samples_leaf=6, n_estimators=150; total time=   4.2s\n",
      "[CV] END criterion=entropy, max_depth=4, min_samples_leaf=6, n_estimators=150; total time=   4.2s\n",
      "[CV] END criterion=gini, max_depth=8, min_samples_leaf=8, n_estimators=200; total time=   9.8s\n",
      "[CV] END criterion=gini, max_depth=8, min_samples_leaf=8, n_estimators=200; total time=   9.8s\n",
      "[CV] END criterion=gini, max_depth=8, min_samples_leaf=8, n_estimators=200; total time=   9.9s\n",
      "[CV] END criterion=gini, max_depth=8, min_samples_leaf=8, n_estimators=200; total time=   9.9s\n",
      "[CV] END criterion=gini, max_depth=8, min_samples_leaf=8, n_estimators=200; total time=   9.8s\n",
      "[CV] END criterion=entropy, max_depth=8, min_samples_leaf=4, n_estimators=100; total time=   5.2s\n",
      "[CV] END criterion=entropy, max_depth=8, min_samples_leaf=4, n_estimators=100; total time=   5.2s\n",
      "[CV] END criterion=entropy, max_depth=8, min_samples_leaf=4, n_estimators=100; total time=   5.2s\n",
      "[CV] END criterion=entropy, max_depth=8, min_samples_leaf=4, n_estimators=100; total time=   5.2s\n",
      "[CV] END criterion=entropy, max_depth=8, min_samples_leaf=4, n_estimators=100; total time=   5.2s\n",
      "[CV] END criterion=entropy, max_depth=4, min_samples_leaf=4, n_estimators=100; total time=   2.8s\n",
      "[CV] END criterion=entropy, max_depth=4, min_samples_leaf=4, n_estimators=100; total time=   2.8s\n",
      "[CV] END criterion=entropy, max_depth=4, min_samples_leaf=4, n_estimators=100; total time=   2.8s\n",
      "[CV] END criterion=entropy, max_depth=4, min_samples_leaf=4, n_estimators=100; total time=   2.8s\n",
      "[CV] END criterion=entropy, max_depth=4, min_samples_leaf=4, n_estimators=100; total time=   2.8s\n",
      "[CV] END criterion=entropy, max_depth=None, min_samples_leaf=4, n_estimators=150; total time=  15.8s\n",
      "[CV] END criterion=entropy, max_depth=None, min_samples_leaf=4, n_estimators=150; total time=  15.8s\n",
      "[CV] END criterion=entropy, max_depth=None, min_samples_leaf=4, n_estimators=150; total time=  15.9s\n",
      "[CV] END criterion=entropy, max_depth=None, min_samples_leaf=4, n_estimators=150; total time=  15.8s\n",
      "[CV] END criterion=entropy, max_depth=None, min_samples_leaf=4, n_estimators=150; total time=  15.5s\n",
      "[CV] END criterion=gini, max_depth=6, min_samples_leaf=6, n_estimators=200; total time=   7.7s\n",
      "[CV] END criterion=gini, max_depth=6, min_samples_leaf=6, n_estimators=200; total time=   8.2s\n",
      "[CV] END criterion=gini, max_depth=6, min_samples_leaf=6, n_estimators=200; total time=   7.8s\n",
      "[CV] END criterion=gini, max_depth=6, min_samples_leaf=6, n_estimators=200; total time=   8.3s\n",
      "[CV] END criterion=gini, max_depth=6, min_samples_leaf=6, n_estimators=200; total time=   8.9s\n",
      "[CV] END criterion=entropy, max_depth=6, min_samples_leaf=4, n_estimators=150; total time=   6.3s\n",
      "[CV] END criterion=entropy, max_depth=6, min_samples_leaf=4, n_estimators=150; total time=   7.1s\n",
      "[CV] END criterion=entropy, max_depth=6, min_samples_leaf=4, n_estimators=150; total time=   6.7s\n",
      "[CV] END criterion=entropy, max_depth=6, min_samples_leaf=4, n_estimators=150; total time=   5.9s\n",
      "[CV] END criterion=entropy, max_depth=6, min_samples_leaf=4, n_estimators=150; total time=   6.3s\n",
      "[CV] END criterion=entropy, max_depth=None, min_samples_leaf=8, n_estimators=150; total time=  14.2s\n",
      "[CV] END criterion=entropy, max_depth=None, min_samples_leaf=8, n_estimators=150; total time=  14.7s\n",
      "[CV] END criterion=entropy, max_depth=None, min_samples_leaf=8, n_estimators=150; total time=  16.1s\n",
      "[CV] END criterion=entropy, max_depth=None, min_samples_leaf=8, n_estimators=150; total time=  14.4s\n",
      "[CV] END criterion=entropy, max_depth=None, min_samples_leaf=8, n_estimators=150; total time=  13.5s\n",
      "[CV] END criterion=entropy, max_depth=6, min_samples_leaf=6, n_estimators=100; total time=   3.7s\n",
      "[CV] END criterion=entropy, max_depth=6, min_samples_leaf=6, n_estimators=100; total time=   3.7s\n",
      "[CV] END criterion=entropy, max_depth=6, min_samples_leaf=6, n_estimators=100; total time=   3.7s\n",
      "[CV] END criterion=entropy, max_depth=6, min_samples_leaf=6, n_estimators=100; total time=   3.7s\n",
      "[CV] END criterion=entropy, max_depth=6, min_samples_leaf=6, n_estimators=100; total time=   3.7s\n",
      "[CV] END criterion=gini, max_depth=8, min_samples_leaf=4, n_estimators=100; total time=   4.5s\n",
      "[CV] END criterion=gini, max_depth=8, min_samples_leaf=4, n_estimators=100; total time=   4.7s\n",
      "[CV] END criterion=gini, max_depth=8, min_samples_leaf=4, n_estimators=100; total time=   5.2s\n",
      "[CV] END criterion=gini, max_depth=8, min_samples_leaf=4, n_estimators=100; total time=   4.6s\n",
      "[CV] END criterion=gini, max_depth=8, min_samples_leaf=4, n_estimators=100; total time=   4.6s\n",
      "[CV] END criterion=gini, max_depth=6, min_samples_leaf=4, n_estimators=200; total time=   7.2s\n",
      "[CV] END criterion=gini, max_depth=6, min_samples_leaf=4, n_estimators=200; total time=   7.2s\n",
      "[CV] END criterion=gini, max_depth=6, min_samples_leaf=4, n_estimators=200; total time=   7.1s\n",
      "[CV] END criterion=gini, max_depth=6, min_samples_leaf=4, n_estimators=200; total time=   7.2s\n",
      "[CV] END criterion=gini, max_depth=6, min_samples_leaf=4, n_estimators=200; total time=   7.2s\n",
      "[CV] END criterion=entropy, max_depth=None, min_samples_leaf=6, n_estimators=150; total time=  14.1s\n",
      "[CV] END criterion=entropy, max_depth=None, min_samples_leaf=6, n_estimators=150; total time=  15.8s\n",
      "[CV] END criterion=entropy, max_depth=None, min_samples_leaf=6, n_estimators=150; total time=  16.3s\n",
      "[CV] END criterion=entropy, max_depth=None, min_samples_leaf=6, n_estimators=150; total time=  15.4s\n",
      "[CV] END criterion=entropy, max_depth=None, min_samples_leaf=6, n_estimators=150; total time=  15.5s\n",
      "[CV] END criterion=entropy, max_depth=6, min_samples_leaf=4, n_estimators=100; total time=   4.3s\n",
      "[CV] END criterion=entropy, max_depth=6, min_samples_leaf=4, n_estimators=100; total time=   4.1s\n",
      "[CV] END criterion=entropy, max_depth=6, min_samples_leaf=4, n_estimators=100; total time=   4.0s\n",
      "[CV] END criterion=entropy, max_depth=6, min_samples_leaf=4, n_estimators=100; total time=   4.0s\n",
      "[CV] END criterion=entropy, max_depth=6, min_samples_leaf=4, n_estimators=100; total time=   3.9s\n",
      "[CV] END criterion=gini, max_depth=6, min_samples_leaf=4, n_estimators=100; total time=   3.8s\n",
      "[CV] END criterion=gini, max_depth=6, min_samples_leaf=4, n_estimators=100; total time=   4.3s\n",
      "[CV] END criterion=gini, max_depth=6, min_samples_leaf=4, n_estimators=100; total time=   4.6s\n",
      "[CV] END criterion=gini, max_depth=6, min_samples_leaf=4, n_estimators=100; total time=   4.1s\n",
      "[CV] END criterion=gini, max_depth=6, min_samples_leaf=4, n_estimators=100; total time=   3.6s\n",
      "[CV] END criterion=entropy, max_depth=4, min_samples_leaf=6, n_estimators=200; total time=   6.5s\n",
      "[CV] END criterion=entropy, max_depth=4, min_samples_leaf=6, n_estimators=200; total time=   6.6s\n",
      "[CV] END criterion=entropy, max_depth=4, min_samples_leaf=6, n_estimators=200; total time=   6.6s\n",
      "[CV] END criterion=entropy, max_depth=4, min_samples_leaf=6, n_estimators=200; total time=   7.3s\n",
      "[CV] END criterion=entropy, max_depth=4, min_samples_leaf=6, n_estimators=200; total time=   6.2s\n"
     ]
    },
    {
     "data": {
      "text/plain": [
       "RandomizedSearchCV(cv=5,\n",
       "                   estimator=RandomForestClassifier(max_depth=5, n_estimators=5,\n",
       "                                                    random_state=42),\n",
       "                   n_iter=15,\n",
       "                   param_distributions={'criterion': ['entropy', 'gini'],\n",
       "                                        'max_depth': [4, 6, 8, None],\n",
       "                                        'min_samples_leaf': [4, 6, 8],\n",
       "                                        'n_estimators': [100, 150, 200]},\n",
       "                   random_state=42, scoring='accuracy', verbose=2)"
      ]
     },
     "execution_count": 285,
     "metadata": {},
     "output_type": "execute_result"
    }
   ],
   "source": [
    "random_search_test = RandomizedSearchCV(rf_classifier, param_distributions=param_grid, cv=5, n_iter=15, verbose=2, \n",
    "                                   scoring='accuracy',random_state=42)\n",
    "\n",
    "random_search_test.fit(normalized_X_train[features_test],y_train)"
   ]
  },
  {
   "cell_type": "code",
   "execution_count": 286,
   "metadata": {
    "scrolled": true
   },
   "outputs": [
    {
     "data": {
      "text/plain": [
       "{'n_estimators': 150,\n",
       " 'min_samples_leaf': 4,\n",
       " 'max_depth': None,\n",
       " 'criterion': 'entropy'}"
      ]
     },
     "execution_count": 286,
     "metadata": {},
     "output_type": "execute_result"
    }
   ],
   "source": [
    "random_search_test.best_params_"
   ]
  },
  {
   "cell_type": "code",
   "execution_count": 287,
   "metadata": {},
   "outputs": [
    {
     "data": {
      "text/plain": [
       "0.8559081041209275"
      ]
     },
     "execution_count": 287,
     "metadata": {},
     "output_type": "execute_result"
    }
   ],
   "source": [
    "random_search_test.best_score_"
   ]
  },
  {
   "cell_type": "code",
   "execution_count": 288,
   "metadata": {},
   "outputs": [],
   "source": [
    "y_pred_test_search = random_search_test.best_estimator_.predict(normalized_X_test[features_test])"
   ]
  },
  {
   "cell_type": "code",
   "execution_count": 289,
   "metadata": {},
   "outputs": [
    {
     "data": {
      "text/plain": [
       "0.8566857752299694"
      ]
     },
     "execution_count": 289,
     "metadata": {},
     "output_type": "execute_result"
    }
   ],
   "source": [
    "accuracy_score(y_test, y_pred_test_search)"
   ]
  },
  {
   "cell_type": "markdown",
   "metadata": {},
   "source": [
    "## 85.7 % accuracy score for this model"
   ]
  }
 ],
 "metadata": {
  "kernelspec": {
   "display_name": "Python 3 (ipykernel)",
   "language": "python",
   "name": "python3"
  },
  "language_info": {
   "codemirror_mode": {
    "name": "ipython",
    "version": 3
   },
   "file_extension": ".py",
   "mimetype": "text/x-python",
   "name": "python",
   "nbconvert_exporter": "python",
   "pygments_lexer": "ipython3",
   "version": "3.9.12"
  }
 },
 "nbformat": 4,
 "nbformat_minor": 4
}
